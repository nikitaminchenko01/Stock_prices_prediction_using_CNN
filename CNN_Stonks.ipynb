{
  "nbformat": 4,
  "nbformat_minor": 0,
  "metadata": {
    "colab": {
      "name": "CNN_Stonks.ipynb",
      "provenance": [],
      "collapsed_sections": []
    },
    "kernelspec": {
      "name": "python3",
      "display_name": "Python 3"
    },
    "accelerator": "GPU"
  },
  "cells": [
    {
      "cell_type": "code",
      "metadata": {
        "id": "bExpX6xaYgS6"
      },
      "source": [
        "import pandas as pd\n",
        "import numpy as np\n",
        "import torch\n",
        "import torch.nn as nn\n",
        "from sklearn.metrics import mean_squared_error, mean_absolute_error, r2_score"
      ],
      "execution_count": null,
      "outputs": []
    },
    {
      "cell_type": "code",
      "metadata": {
        "id": "t5E3RvqNqakB",
        "colab": {
          "base_uri": "https://localhost:8080/"
        },
        "outputId": "9575a74c-60d6-4961-c14a-c29f9d7c3e0b"
      },
      "source": [
        "from google.colab import drive\n",
        "drive.mount('/content/drive')"
      ],
      "execution_count": null,
      "outputs": [
        {
          "output_type": "stream",
          "text": [
            "Mounted at /content/drive\n"
          ],
          "name": "stdout"
        }
      ]
    },
    {
      "cell_type": "code",
      "metadata": {
        "id": "BM4Wfw0gZ8Fg"
      },
      "source": [
        "from datetime import datetime\n",
        "import urllib\n",
        "import time\n",
        "import random\n",
        "import requests\n",
        "import io\n",
        "import matplotlib.pyplot as plt\n",
        "from copy import copy"
      ],
      "execution_count": null,
      "outputs": []
    },
    {
      "cell_type": "code",
      "metadata": {
        "id": "yUt32vREURB5"
      },
      "source": [
        ""
      ],
      "execution_count": null,
      "outputs": []
    },
    {
      "cell_type": "markdown",
      "metadata": {
        "id": "lz6AMxCMZkrb"
      },
      "source": [
        "## Парсер"
      ]
    },
    {
      "cell_type": "code",
      "metadata": {
        "id": "ls6zQ2kAxYeY"
      },
      "source": [
        "class Finam_parser:\n",
        "    def __init__(self):\n",
        "        finam_symbols = urllib.request.urlopen('http://www.finam.ru/cache/icharts/icharts.js').readlines()\n",
        "        str_id = str(finam_symbols[0])\n",
        "        str_code = str(finam_symbols[2])\n",
        "        str_markets = str(finam_symbols[3])\n",
        "\n",
        "        start = str(str_code).find(\"[\\'\") + 2\n",
        "        end = str_code.find(\"\\']\")\n",
        "        self.names = str_code[start : end].split('\\',\\'') #список всех инструментов\n",
        "        self.ids = str_id[str_id.find('[') + 1 : str_id.find(']')].split(',') #их коды\n",
        "        self.markets = [int(el) for el in str_markets[str_markets.find('[') + 1 : str_markets.find(']')].split(',')] #биржи\n",
        "\n",
        "    def data_downloader(self, num_of_years=5, detalization='daily', stocks=[1, 16, 517], e = \".csv\", start_date_str=None, end_date_str=None, download_all=False, min_record=25):\n",
        "        \"\"\" num_of_years - длина периода сбора данных\n",
        "        stocks - список закодированных бирж 1 - мосбиржа, 16-мосбиржа архив, 517 - спб\n",
        "        detalization - насколько подробные данные (по часам/дням) {'tick': 1, 'min': 2, '5min': 3, '10min': 4, '15min': 5, '30min': 6, 'hour': 7, 'daily': 8, 'week': 9, 'month': 10}\n",
        "        e - формат таблицы\n",
        "        start/end_date_str - границы в формате %d.%m.%Y\n",
        "        download=True - скачивать данные за весь возможный период\n",
        "        min_record - минимальное количество записей акции для добавления в данные\n",
        "        \"\"\"\n",
        "        periods = {'tick': 1, 'min': 2, '5min': 3, '10min': 4, '15min': 5, '30min': 6, 'hour': 7, 'daily': 8, 'week': 9, 'month': 10}\n",
        "        period = periods[detalization]\n",
        "        FINAM_URL = \"http://export.finam.ru/export9.out?\"\n",
        "    \n",
        "        if (start_date_str==None and end_date_str==None):\n",
        "            end_date = datetime.today().date()\n",
        "            start_date = datetime.strptime(str(end_date.day)+ '.' + str(end_date.month)+ '.' + str(end_date.year - num_of_years), \"%d.%m.%Y\").date()\n",
        "        else: \n",
        "            start_date = datetime.strptime(start_date_str, \"%d.%m.%Y\").date()\n",
        "            end_date = datetime.strptime(end_date_str, \"%d.%m.%Y\").date()\n",
        "        if download_all:\n",
        "            start_date = datetime.strptime('01.01.1979', \"%d.%m.%Y\").date()\n",
        "            end_date = datetime.today().date()\n",
        "\n",
        "        all_tickets = pd.DataFrame({'Date&Time': [], 'Ticker': [], 'Per': [], 'Open': [], 'High': [], 'Low': [], 'Close': [], 'Volume': []})\n",
        "        success = 0\n",
        "        error_403 = 0\n",
        "        empty_files = 0\n",
        "        small_files = 0\n",
        "        total = 0\n",
        "        for stock in stocks:\n",
        "            print('Номер биржи:', stock)\n",
        "            id_stock = [i for i, val in enumerate(self.markets) if val==stock]\n",
        "            for id in id_stock:\n",
        "                market = stock\n",
        "                symbol_code = self.ids[id] #Номер инструмента\n",
        "                symbol = self.names[id] #Тикер инструмента\n",
        "                apply = 0\n",
        "                name_of_table = \"table\"\n",
        "                #​ Формируем строку с параметрами запроса:\n",
        "                params = urllib.parse.urlencode([\n",
        "                                                ('market', market),\n",
        "                                                ('em', symbol_code),\n",
        "                                                ('code', symbol),\n",
        "                                                ('apply', apply), #хз что это\n",
        "                                                ('df', start_date.day), # df, mf, yf, from, dt, mt, yt, to – это параметры времени.\n",
        "                                                ('mf', start_date.month - 1),\n",
        "                                                ('yf', start_date.year),\n",
        "                                                ('from', start_date),\n",
        "                                                ('dt', end_date.day),\n",
        "                                                ('mt', end_date.month - 1),\n",
        "                                                ('yt', end_date.year),\n",
        "                                                ('to', end_date),\n",
        "                                                ('p', period), # p — период котировок (тики, 1 мин., 5 мин., 10 мин., 15 мин., 30 мин., 1 час, 1 день, 1 неделя, 1 месяц)\n",
        "                                                ('f', symbol_code + '_' + str(start_date)),\n",
        "                                                ('e', e), # e – расширение получаемого файла; возможны варианты — .txt либо .csv\n",
        "                                                ('cn', symbol),\n",
        "                                                ('dtf', '1'), # dtf — формат даты (1 — ггггммдд, 2 — ггммдд, 3 — ддммгг, 4 — дд/мм/гг, 5 — мм/дд/гг)\n",
        "                                                ('tmf', '1'), # tmf — формат времени (1 — ччммсс, 2 — ччмм, 3 — чч: мм: сс, 4 — чч: мм)\n",
        "                                                ('MSOR', '0'), # MSOR — выдавать время (0 — начала свечи, 1 — окончания свечи)\n",
        "                                                ('mstime', 'on'),\n",
        "                                                ('mstimever', '1'), # mstimever — выдавать время (НЕ московское — mstimever=0; московское — mstime='on', mstimever='1')\n",
        "                                                ('sep', '3'), # sep — параметр разделитель полей (1 — запятая (,), 2 — точка (.), 3 — точка с запятой (;), 4 — табуляция (»), 5 — пробел ( ))\n",
        "                                                ('sep2', '1'), # sep2 — параметр разделитель разрядов (1 — нет, 2 — точка (.), 3 — запятая (,), 4 — пробел ( ), 5 — кавычка ('))\n",
        "                                                ('datf', '1'), # datf — Перечень получаемых данных (#1 — TICKER, PER, DATE, TIME, OPEN, HIGH, LOW, CLOSE, VOL; #2 — TICKER, PER, DATE, TIME, OPEN, HIGH, LOW, CLOSE; #3 — TICKER, PER, DATE, TIME, CLOSE, VOL; #4 — TICKER, PER, DATE, TIME, CLOSE; #5 — DATE, TIME, OPEN, HIGH, LOW, CLOSE, VOL; #6 — DATE, TIME, LAST, VOL, ID, OPER).\n",
        "                                                ('at', '1'), # at — добавлять заголовок в файл (0 — нет, 1 — да)\n",
        "                                                # ('fsp', '1'), #- заполнять периоды без сделок\n",
        "                    ])\n",
        "\n",
        "                url = FINAM_URL + params # Полная строка адреса со всеми параметрами.\n",
        "                header = {\n",
        "                'accept':'text/html,application/xhtml+xml,application/xml;q=0.9,image/webp,image/apng,*/*;q=0.8,application/signed-exchange;v=b3',\n",
        "                'accept-encoding':'gzip, deflate, br',\n",
        "                'accept-language':'ru-RU,ru;q=0.9,en-US;q=0.8,en;q=0.7',\n",
        "                'cache-control':'no-cache',\n",
        "                'dnt': '1',\n",
        "                'pragma': 'no-cache',\n",
        "                'sec-fetch-mode': 'navigate',\n",
        "                'sec-fetch-site': 'none',\n",
        "                'sec-fetch-user': '?1',\n",
        "                'upgrade-insecure-requests': '1',\n",
        "                'user-agent': 'Mozilla/5.0 (Windows NT 6.1; Win64; x64) AppleWebKit/537.36 (KHTML, like Gecko) Chrome/76.0.3809.100 Safari/537.36'}\n",
        "                #print(url)\n",
        "                #Соединяемся с сервером, получаем данные и выполняем их разбор:\n",
        "\n",
        "                try:\n",
        "                    total += 1\n",
        "                    session = requests.Session()\n",
        "                    session.headers = header\n",
        "                    r = session.get(url)   \n",
        "                    data = pd.read_csv(io.StringIO(r.text), header=0, parse_dates={'Date&Time': [2, 3]}, sep=';').sort_index()\n",
        "                    data.columns = ['Date&Time', 'Ticker', 'Per', 'Open', 'High', 'Low', 'Close', 'Volume'] # Заголовки столбцов\n",
        "                    if len(data)>=min_record:\n",
        "                        all_tickets = pd.concat([all_tickets, data], ignore_index=True)\n",
        "                        success += 1\n",
        "                    else:\n",
        "                        small_files += 1\n",
        "                #except HTTPError as e:\n",
        "                except urllib.error.HTTPError:\n",
        "                    error_403 += 1\n",
        "                except pd.io.common.EmptyDataError:\n",
        "                    empty_files += 1\n",
        "                except pd.io.common.ParserError:\n",
        "                    empty_files += 1         \n",
        "            print('success:', success)\n",
        "            print('error_403:', error_403)\n",
        "            print('empty_files:', empty_files)\n",
        "            print('small_files:', small_files)\n",
        "            print('In total:', total)\n",
        "        return all_tickets"
      ],
      "execution_count": null,
      "outputs": []
    },
    {
      "cell_type": "code",
      "metadata": {
        "id": "6XMdhRdgUjHY",
        "colab": {
          "base_uri": "https://localhost:8080/",
          "height": 344
        },
        "outputId": "b12a7812-927e-4382-cc95-8414d7cea11b"
      },
      "source": [
        "finam_parser = Finam_parser()\n",
        "data = finam_parser.data_downloader(download_all=True)"
      ],
      "execution_count": null,
      "outputs": [
        {
          "output_type": "stream",
          "text": [
            "Номер биржи: 1\n",
            "success: 288\n",
            "error_403: 0\n",
            "empty_files: 12\n",
            "small_files: 4\n",
            "In total: 304\n",
            "Номер биржи: 16\n",
            "success: 599\n",
            "error_403: 0\n",
            "empty_files: 581\n",
            "small_files: 135\n",
            "In total: 1315\n",
            "Номер биржи: 517\n",
            "success: 816\n",
            "error_403: 0\n",
            "empty_files: 995\n",
            "small_files: 139\n",
            "In total: 1950\n"
          ],
          "name": "stdout"
        }
      ]
    },
    {
      "cell_type": "code",
      "metadata": {
        "id": "pK6JwUK_a_aI",
        "colab": {
          "base_uri": "https://localhost:8080/"
        },
        "outputId": "5330175b-0253-482c-fa7a-4d7d873fe6f6"
      },
      "source": [
        "data.info()"
      ],
      "execution_count": null,
      "outputs": [
        {
          "output_type": "stream",
          "text": [
            "<class 'pandas.core.frame.DataFrame'>\n",
            "Int64Index: 991016 entries, 0 to 991015\n",
            "Data columns (total 8 columns):\n",
            " #   Column     Non-Null Count   Dtype  \n",
            "---  ------     --------------   -----  \n",
            " 0   Date&Time  991016 non-null  object \n",
            " 1   Ticker     991016 non-null  object \n",
            " 2   Per        991016 non-null  object \n",
            " 3   Open       991016 non-null  float64\n",
            " 4   High       991016 non-null  float64\n",
            " 5   Low        991016 non-null  float64\n",
            " 6   Close      991016 non-null  float64\n",
            " 7   Volume     991016 non-null  float64\n",
            "dtypes: float64(5), object(3)\n",
            "memory usage: 68.0+ MB\n"
          ],
          "name": "stdout"
        }
      ]
    },
    {
      "cell_type": "markdown",
      "metadata": {
        "id": "D0XhWGNRrsgG"
      },
      "source": [
        "## Прежде чем масштабировать данные, нужно разделить их на обучающую и тестовую выборки"
      ]
    },
    {
      "cell_type": "code",
      "metadata": {
        "id": "urf915OY1hqd"
      },
      "source": [
        "data = pd.read_csv('/content/drive/My Drive/finam_data_1_16_517.csv', index_col=0)"
      ],
      "execution_count": null,
      "outputs": []
    },
    {
      "cell_type": "code",
      "metadata": {
        "id": "MUxfLm5O2vBx"
      },
      "source": [
        "test_data = data[data['Date&Time'] >= '2018-11-09']\n",
        "val_data = data[(data['Date&Time'] > '2018-05-09') & (data['Date&Time'] <= '2018-11-09')]\n",
        "train_data = data[data['Date&Time'] < '2018-05-09']"
      ],
      "execution_count": null,
      "outputs": []
    },
    {
      "cell_type": "code",
      "metadata": {
        "id": "PUDG5Njlb7v4",
        "colab": {
          "base_uri": "https://localhost:8080/"
        },
        "outputId": "49b42b5a-7bef-40d4-e530-15f0bfb64055"
      },
      "source": [
        "train_data.info()"
      ],
      "execution_count": null,
      "outputs": [
        {
          "output_type": "stream",
          "text": [
            "<class 'pandas.core.frame.DataFrame'>\n",
            "Int64Index: 798479 entries, 0 to 990501\n",
            "Data columns (total 8 columns):\n",
            " #   Column     Non-Null Count   Dtype  \n",
            "---  ------     --------------   -----  \n",
            " 0   Date&Time  798479 non-null  object \n",
            " 1   Ticker     798479 non-null  object \n",
            " 2   Per        798479 non-null  object \n",
            " 3   Open       798479 non-null  float64\n",
            " 4   High       798479 non-null  float64\n",
            " 5   Low        798479 non-null  float64\n",
            " 6   Close      798479 non-null  float64\n",
            " 7   Volume     798479 non-null  float64\n",
            "dtypes: float64(5), object(3)\n",
            "memory usage: 54.8+ MB\n"
          ],
          "name": "stdout"
        }
      ]
    },
    {
      "cell_type": "code",
      "metadata": {
        "id": "zqXRRMdbb7hs",
        "colab": {
          "base_uri": "https://localhost:8080/"
        },
        "outputId": "d9dda2e0-7399-495f-ff5e-f6c3b6ac5de4"
      },
      "source": [
        "val_data.info()"
      ],
      "execution_count": null,
      "outputs": [
        {
          "output_type": "stream",
          "text": [
            "<class 'pandas.core.frame.DataFrame'>\n",
            "Int64Index: 53876 entries, 4719 to 990502\n",
            "Data columns (total 8 columns):\n",
            " #   Column     Non-Null Count  Dtype  \n",
            "---  ------     --------------  -----  \n",
            " 0   Date&Time  53876 non-null  object \n",
            " 1   Ticker     53876 non-null  object \n",
            " 2   Per        53876 non-null  object \n",
            " 3   Open       53876 non-null  float64\n",
            " 4   High       53876 non-null  float64\n",
            " 5   Low        53876 non-null  float64\n",
            " 6   Close      53876 non-null  float64\n",
            " 7   Volume     53876 non-null  float64\n",
            "dtypes: float64(5), object(3)\n",
            "memory usage: 3.7+ MB\n"
          ],
          "name": "stdout"
        }
      ]
    },
    {
      "cell_type": "code",
      "metadata": {
        "id": "ddoI7nPbbpkz",
        "colab": {
          "base_uri": "https://localhost:8080/"
        },
        "outputId": "bfe27fbf-9d79-4941-c496-0d1187faac21"
      },
      "source": [
        "test_data.info()"
      ],
      "execution_count": null,
      "outputs": [
        {
          "output_type": "stream",
          "text": [
            "<class 'pandas.core.frame.DataFrame'>\n",
            "Int64Index: 246204 entries, 4719 to 991015\n",
            "Data columns (total 8 columns):\n",
            " #   Column     Non-Null Count   Dtype  \n",
            "---  ------     --------------   -----  \n",
            " 0   Date&Time  246204 non-null  object \n",
            " 1   Ticker     246204 non-null  object \n",
            " 2   Per        246204 non-null  object \n",
            " 3   Open       246204 non-null  float64\n",
            " 4   High       246204 non-null  float64\n",
            " 5   Low        246204 non-null  float64\n",
            " 6   Close      246204 non-null  float64\n",
            " 7   Volume     246204 non-null  float64\n",
            "dtypes: float64(5), object(3)\n",
            "memory usage: 16.9+ MB\n"
          ],
          "name": "stdout"
        }
      ]
    },
    {
      "cell_type": "code",
      "metadata": {
        "id": "xc5xBlS-cQWI",
        "colab": {
          "base_uri": "https://localhost:8080/",
          "height": 284
        },
        "outputId": "95ad973f-45ed-488f-e408-38321f4a601c"
      },
      "source": [
        "train_data.describe()"
      ],
      "execution_count": null,
      "outputs": [
        {
          "output_type": "execute_result",
          "data": {
            "text/html": [
              "<div>\n",
              "<style scoped>\n",
              "    .dataframe tbody tr th:only-of-type {\n",
              "        vertical-align: middle;\n",
              "    }\n",
              "\n",
              "    .dataframe tbody tr th {\n",
              "        vertical-align: top;\n",
              "    }\n",
              "\n",
              "    .dataframe thead th {\n",
              "        text-align: right;\n",
              "    }\n",
              "</style>\n",
              "<table border=\"1\" class=\"dataframe\">\n",
              "  <thead>\n",
              "    <tr style=\"text-align: right;\">\n",
              "      <th></th>\n",
              "      <th>Open</th>\n",
              "      <th>High</th>\n",
              "      <th>Low</th>\n",
              "      <th>Close</th>\n",
              "      <th>Volume</th>\n",
              "    </tr>\n",
              "  </thead>\n",
              "  <tbody>\n",
              "    <tr>\n",
              "      <th>count</th>\n",
              "      <td>798479.000000</td>\n",
              "      <td>798479.000000</td>\n",
              "      <td>798479.000000</td>\n",
              "      <td>798479.000000</td>\n",
              "      <td>7.984790e+05</td>\n",
              "    </tr>\n",
              "    <tr>\n",
              "      <th>mean</th>\n",
              "      <td>1173.593619</td>\n",
              "      <td>1192.685482</td>\n",
              "      <td>1156.150842</td>\n",
              "      <td>1175.916475</td>\n",
              "      <td>1.649058e+08</td>\n",
              "    </tr>\n",
              "    <tr>\n",
              "      <th>std</th>\n",
              "      <td>9024.737329</td>\n",
              "      <td>9155.245646</td>\n",
              "      <td>8899.520787</td>\n",
              "      <td>9038.817384</td>\n",
              "      <td>2.528803e+09</td>\n",
              "    </tr>\n",
              "    <tr>\n",
              "      <th>min</th>\n",
              "      <td>0.000760</td>\n",
              "      <td>0.000780</td>\n",
              "      <td>0.000490</td>\n",
              "      <td>0.000740</td>\n",
              "      <td>0.000000e+00</td>\n",
              "    </tr>\n",
              "    <tr>\n",
              "      <th>25%</th>\n",
              "      <td>2.000000</td>\n",
              "      <td>2.050000</td>\n",
              "      <td>1.948300</td>\n",
              "      <td>2.000000</td>\n",
              "      <td>2.473000e+03</td>\n",
              "    </tr>\n",
              "    <tr>\n",
              "      <th>50%</th>\n",
              "      <td>36.090000</td>\n",
              "      <td>36.800000</td>\n",
              "      <td>35.410000</td>\n",
              "      <td>36.080000</td>\n",
              "      <td>7.680000e+04</td>\n",
              "    </tr>\n",
              "    <tr>\n",
              "      <th>75%</th>\n",
              "      <td>190.250000</td>\n",
              "      <td>194.000000</td>\n",
              "      <td>187.000000</td>\n",
              "      <td>190.500000</td>\n",
              "      <td>9.400000e+05</td>\n",
              "    </tr>\n",
              "    <tr>\n",
              "      <th>max</th>\n",
              "      <td>231000.000000</td>\n",
              "      <td>235700.000000</td>\n",
              "      <td>220100.000000</td>\n",
              "      <td>231000.000000</td>\n",
              "      <td>2.229481e+11</td>\n",
              "    </tr>\n",
              "  </tbody>\n",
              "</table>\n",
              "</div>"
            ],
            "text/plain": [
              "                Open           High            Low          Close        Volume\n",
              "count  798479.000000  798479.000000  798479.000000  798479.000000  7.984790e+05\n",
              "mean     1173.593619    1192.685482    1156.150842    1175.916475  1.649058e+08\n",
              "std      9024.737329    9155.245646    8899.520787    9038.817384  2.528803e+09\n",
              "min         0.000760       0.000780       0.000490       0.000740  0.000000e+00\n",
              "25%         2.000000       2.050000       1.948300       2.000000  2.473000e+03\n",
              "50%        36.090000      36.800000      35.410000      36.080000  7.680000e+04\n",
              "75%       190.250000     194.000000     187.000000     190.500000  9.400000e+05\n",
              "max    231000.000000  235700.000000  220100.000000  231000.000000  2.229481e+11"
            ]
          },
          "metadata": {
            "tags": []
          },
          "execution_count": 14
        }
      ]
    },
    {
      "cell_type": "code",
      "metadata": {
        "id": "3iE92gBjcU_h",
        "colab": {
          "base_uri": "https://localhost:8080/",
          "height": 284
        },
        "outputId": "783dd05e-4002-4fb3-e685-0bfecde104a5"
      },
      "source": [
        "val_data.describe()"
      ],
      "execution_count": null,
      "outputs": [
        {
          "output_type": "execute_result",
          "data": {
            "text/html": [
              "<div>\n",
              "<style scoped>\n",
              "    .dataframe tbody tr th:only-of-type {\n",
              "        vertical-align: middle;\n",
              "    }\n",
              "\n",
              "    .dataframe tbody tr th {\n",
              "        vertical-align: top;\n",
              "    }\n",
              "\n",
              "    .dataframe thead th {\n",
              "        text-align: right;\n",
              "    }\n",
              "</style>\n",
              "<table border=\"1\" class=\"dataframe\">\n",
              "  <thead>\n",
              "    <tr style=\"text-align: right;\">\n",
              "      <th></th>\n",
              "      <th>Open</th>\n",
              "      <th>High</th>\n",
              "      <th>Low</th>\n",
              "      <th>Close</th>\n",
              "      <th>Volume</th>\n",
              "    </tr>\n",
              "  </thead>\n",
              "  <tbody>\n",
              "    <tr>\n",
              "      <th>count</th>\n",
              "      <td>53876.000000</td>\n",
              "      <td>53876.000000</td>\n",
              "      <td>53876.000000</td>\n",
              "      <td>53876.000000</td>\n",
              "      <td>5.387600e+04</td>\n",
              "    </tr>\n",
              "    <tr>\n",
              "      <th>mean</th>\n",
              "      <td>1140.403039</td>\n",
              "      <td>1151.123045</td>\n",
              "      <td>1128.154415</td>\n",
              "      <td>1140.423885</td>\n",
              "      <td>6.277913e+07</td>\n",
              "    </tr>\n",
              "    <tr>\n",
              "      <th>std</th>\n",
              "      <td>10069.038972</td>\n",
              "      <td>10151.953147</td>\n",
              "      <td>9965.947449</td>\n",
              "      <td>10070.043168</td>\n",
              "      <td>1.236048e+09</td>\n",
              "    </tr>\n",
              "    <tr>\n",
              "      <th>min</th>\n",
              "      <td>0.001990</td>\n",
              "      <td>0.002005</td>\n",
              "      <td>0.001985</td>\n",
              "      <td>0.001995</td>\n",
              "      <td>1.000000e+00</td>\n",
              "    </tr>\n",
              "    <tr>\n",
              "      <th>25%</th>\n",
              "      <td>13.100000</td>\n",
              "      <td>13.315000</td>\n",
              "      <td>12.750000</td>\n",
              "      <td>13.000000</td>\n",
              "      <td>2.113875e+04</td>\n",
              "    </tr>\n",
              "    <tr>\n",
              "      <th>50%</th>\n",
              "      <td>69.900000</td>\n",
              "      <td>70.630000</td>\n",
              "      <td>69.100000</td>\n",
              "      <td>69.885000</td>\n",
              "      <td>2.492665e+05</td>\n",
              "    </tr>\n",
              "    <tr>\n",
              "      <th>75%</th>\n",
              "      <td>166.650000</td>\n",
              "      <td>168.585000</td>\n",
              "      <td>164.415000</td>\n",
              "      <td>166.547500</td>\n",
              "      <td>8.700252e+05</td>\n",
              "    </tr>\n",
              "    <tr>\n",
              "      <th>max</th>\n",
              "      <td>176050.000000</td>\n",
              "      <td>177300.000000</td>\n",
              "      <td>174600.000000</td>\n",
              "      <td>176450.000000</td>\n",
              "      <td>1.275494e+11</td>\n",
              "    </tr>\n",
              "  </tbody>\n",
              "</table>\n",
              "</div>"
            ],
            "text/plain": [
              "                Open           High            Low          Close        Volume\n",
              "count   53876.000000   53876.000000   53876.000000   53876.000000  5.387600e+04\n",
              "mean     1140.403039    1151.123045    1128.154415    1140.423885  6.277913e+07\n",
              "std     10069.038972   10151.953147    9965.947449   10070.043168  1.236048e+09\n",
              "min         0.001990       0.002005       0.001985       0.001995  1.000000e+00\n",
              "25%        13.100000      13.315000      12.750000      13.000000  2.113875e+04\n",
              "50%        69.900000      70.630000      69.100000      69.885000  2.492665e+05\n",
              "75%       166.650000     168.585000     164.415000     166.547500  8.700252e+05\n",
              "max    176050.000000  177300.000000  174600.000000  176450.000000  1.275494e+11"
            ]
          },
          "metadata": {
            "tags": []
          },
          "execution_count": 15
        }
      ]
    },
    {
      "cell_type": "code",
      "metadata": {
        "id": "tj_oxu-OcU3g",
        "colab": {
          "base_uri": "https://localhost:8080/",
          "height": 284
        },
        "outputId": "679e2b18-af57-4968-b8bb-8fcc87eface4"
      },
      "source": [
        "test_data.describe()"
      ],
      "execution_count": null,
      "outputs": [
        {
          "output_type": "execute_result",
          "data": {
            "text/html": [
              "<div>\n",
              "<style scoped>\n",
              "    .dataframe tbody tr th:only-of-type {\n",
              "        vertical-align: middle;\n",
              "    }\n",
              "\n",
              "    .dataframe tbody tr th {\n",
              "        vertical-align: top;\n",
              "    }\n",
              "\n",
              "    .dataframe thead th {\n",
              "        text-align: right;\n",
              "    }\n",
              "</style>\n",
              "<table border=\"1\" class=\"dataframe\">\n",
              "  <thead>\n",
              "    <tr style=\"text-align: right;\">\n",
              "      <th></th>\n",
              "      <th>Open</th>\n",
              "      <th>High</th>\n",
              "      <th>Low</th>\n",
              "      <th>Close</th>\n",
              "      <th>Volume</th>\n",
              "    </tr>\n",
              "  </thead>\n",
              "  <tbody>\n",
              "    <tr>\n",
              "      <th>count</th>\n",
              "      <td>246204.000000</td>\n",
              "      <td>246204.000000</td>\n",
              "      <td>246204.000000</td>\n",
              "      <td>246204.000000</td>\n",
              "      <td>2.462040e+05</td>\n",
              "    </tr>\n",
              "    <tr>\n",
              "      <th>mean</th>\n",
              "      <td>1140.394003</td>\n",
              "      <td>1156.959979</td>\n",
              "      <td>1124.426540</td>\n",
              "      <td>1140.917682</td>\n",
              "      <td>9.857804e+07</td>\n",
              "    </tr>\n",
              "    <tr>\n",
              "      <th>std</th>\n",
              "      <td>9012.548933</td>\n",
              "      <td>9109.129313</td>\n",
              "      <td>8908.070219</td>\n",
              "      <td>9013.419069</td>\n",
              "      <td>2.061279e+09</td>\n",
              "    </tr>\n",
              "    <tr>\n",
              "      <th>min</th>\n",
              "      <td>0.001990</td>\n",
              "      <td>0.002005</td>\n",
              "      <td>0.001985</td>\n",
              "      <td>0.001995</td>\n",
              "      <td>1.000000e+00</td>\n",
              "    </tr>\n",
              "    <tr>\n",
              "      <th>25%</th>\n",
              "      <td>13.780000</td>\n",
              "      <td>14.140000</td>\n",
              "      <td>13.410000</td>\n",
              "      <td>13.790000</td>\n",
              "      <td>1.270000e+04</td>\n",
              "    </tr>\n",
              "    <tr>\n",
              "      <th>50%</th>\n",
              "      <td>68.940000</td>\n",
              "      <td>69.900000</td>\n",
              "      <td>67.930000</td>\n",
              "      <td>68.930000</td>\n",
              "      <td>2.459035e+05</td>\n",
              "    </tr>\n",
              "    <tr>\n",
              "      <th>75%</th>\n",
              "      <td>172.600000</td>\n",
              "      <td>174.932500</td>\n",
              "      <td>170.330000</td>\n",
              "      <td>172.600000</td>\n",
              "      <td>9.913615e+05</td>\n",
              "    </tr>\n",
              "    <tr>\n",
              "      <th>max</th>\n",
              "      <td>179950.000000</td>\n",
              "      <td>183200.000000</td>\n",
              "      <td>177900.000000</td>\n",
              "      <td>179850.000000</td>\n",
              "      <td>2.336690e+11</td>\n",
              "    </tr>\n",
              "  </tbody>\n",
              "</table>\n",
              "</div>"
            ],
            "text/plain": [
              "                Open           High            Low          Close        Volume\n",
              "count  246204.000000  246204.000000  246204.000000  246204.000000  2.462040e+05\n",
              "mean     1140.394003    1156.959979    1124.426540    1140.917682  9.857804e+07\n",
              "std      9012.548933    9109.129313    8908.070219    9013.419069  2.061279e+09\n",
              "min         0.001990       0.002005       0.001985       0.001995  1.000000e+00\n",
              "25%        13.780000      14.140000      13.410000      13.790000  1.270000e+04\n",
              "50%        68.940000      69.900000      67.930000      68.930000  2.459035e+05\n",
              "75%       172.600000     174.932500     170.330000     172.600000  9.913615e+05\n",
              "max    179950.000000  183200.000000  177900.000000  179850.000000  2.336690e+11"
            ]
          },
          "metadata": {
            "tags": []
          },
          "execution_count": 19
        }
      ]
    },
    {
      "cell_type": "markdown",
      "metadata": {
        "id": "nTthUE7vdNkh"
      },
      "source": [
        "## Добавление признаков из технического анализа в модель"
      ]
    },
    {
      "cell_type": "code",
      "metadata": {
        "id": "3K4hyfBLjiXR"
      },
      "source": [
        "\n",
        "def add_tech_analysis(data):\n",
        "  data_ta = pd.DataFrame([])\n",
        "\n",
        "  def add_ta(df):\n",
        "    df['SMA'] = df['Close'].rolling(window=10, min_periods=1).mean()\n",
        "    df['EMA'] = df['Close'].ewm(span=10, min_periods=1).mean()\n",
        "    df['MACD'] = df['Close'].ewm(span=12, min_periods=1).mean() - df['Close'].ewm(span=26, min_periods=1).mean()\n",
        "    nonlocal data_ta\n",
        "    data_ta = data_ta.append(df)\n",
        "  \n",
        "  data.groupby('Ticker').apply(add_ta)\n",
        "  return data_ta.drop_duplicates()"
      ],
      "execution_count": null,
      "outputs": []
    },
    {
      "cell_type": "code",
      "metadata": {
        "id": "fZEH_DyGkNsI"
      },
      "source": [
        "\n",
        "train_data_ta = add_tech_analysis(train_data)"
      ],
      "execution_count": null,
      "outputs": []
    },
    {
      "cell_type": "code",
      "metadata": {
        "id": "fVaeqESLoQlF"
      },
      "source": [
        "\n",
        "test_data_ta = add_tech_analysis(test_data)\n",
        "val_data_ta = add_tech_analysis(val_data)"
      ],
      "execution_count": null,
      "outputs": []
    },
    {
      "cell_type": "code",
      "metadata": {
        "id": "MvEAVqWuoX0Y",
        "colab": {
          "base_uri": "https://localhost:8080/",
          "height": 402
        },
        "outputId": "56104de4-e711-46f9-b3dd-e91605163c09"
      },
      "source": [
        "\n",
        "train_data_ta"
      ],
      "execution_count": null,
      "outputs": [
        {
          "output_type": "execute_result",
          "data": {
            "text/html": [
              "<div>\n",
              "<style scoped>\n",
              "    .dataframe tbody tr th:only-of-type {\n",
              "        vertical-align: middle;\n",
              "    }\n",
              "\n",
              "    .dataframe tbody tr th {\n",
              "        vertical-align: top;\n",
              "    }\n",
              "\n",
              "    .dataframe thead th {\n",
              "        text-align: right;\n",
              "    }\n",
              "</style>\n",
              "<table border=\"1\" class=\"dataframe\">\n",
              "  <thead>\n",
              "    <tr style=\"text-align: right;\">\n",
              "      <th></th>\n",
              "      <th>Date&amp;Time</th>\n",
              "      <th>Ticker</th>\n",
              "      <th>Per</th>\n",
              "      <th>Open</th>\n",
              "      <th>High</th>\n",
              "      <th>Low</th>\n",
              "      <th>Close</th>\n",
              "      <th>Volume</th>\n",
              "      <th>SMA</th>\n",
              "      <th>EMA</th>\n",
              "      <th>MACD</th>\n",
              "    </tr>\n",
              "  </thead>\n",
              "  <tbody>\n",
              "    <tr>\n",
              "      <th>813450</th>\n",
              "      <td>2016-11-25</td>\n",
              "      <td>A</td>\n",
              "      <td>D</td>\n",
              "      <td>44.72</td>\n",
              "      <td>44.72</td>\n",
              "      <td>44.72</td>\n",
              "      <td>44.72</td>\n",
              "      <td>2.0</td>\n",
              "      <td>44.720</td>\n",
              "      <td>44.720000</td>\n",
              "      <td>0.000000</td>\n",
              "    </tr>\n",
              "    <tr>\n",
              "      <th>813451</th>\n",
              "      <td>2016-11-29</td>\n",
              "      <td>A</td>\n",
              "      <td>D</td>\n",
              "      <td>43.60</td>\n",
              "      <td>44.02</td>\n",
              "      <td>43.60</td>\n",
              "      <td>44.00</td>\n",
              "      <td>68.0</td>\n",
              "      <td>44.360</td>\n",
              "      <td>44.324000</td>\n",
              "      <td>-0.016154</td>\n",
              "    </tr>\n",
              "    <tr>\n",
              "      <th>813452</th>\n",
              "      <td>2016-12-01</td>\n",
              "      <td>A</td>\n",
              "      <td>D</td>\n",
              "      <td>43.31</td>\n",
              "      <td>43.39</td>\n",
              "      <td>43.28</td>\n",
              "      <td>43.28</td>\n",
              "      <td>6.0</td>\n",
              "      <td>44.000</td>\n",
              "      <td>43.904319</td>\n",
              "      <td>-0.042910</td>\n",
              "    </tr>\n",
              "    <tr>\n",
              "      <th>813453</th>\n",
              "      <td>2017-01-09</td>\n",
              "      <td>A</td>\n",
              "      <td>D</td>\n",
              "      <td>48.30</td>\n",
              "      <td>48.30</td>\n",
              "      <td>48.24</td>\n",
              "      <td>48.24</td>\n",
              "      <td>8.0</td>\n",
              "      <td>45.060</td>\n",
              "      <td>45.332733</td>\n",
              "      <td>0.125051</td>\n",
              "    </tr>\n",
              "    <tr>\n",
              "      <th>813454</th>\n",
              "      <td>2017-01-12</td>\n",
              "      <td>A</td>\n",
              "      <td>D</td>\n",
              "      <td>48.33</td>\n",
              "      <td>48.36</td>\n",
              "      <td>48.32</td>\n",
              "      <td>48.34</td>\n",
              "      <td>22.0</td>\n",
              "      <td>45.716</td>\n",
              "      <td>46.196037</td>\n",
              "      <td>0.217665</td>\n",
              "    </tr>\n",
              "    <tr>\n",
              "      <th>...</th>\n",
              "      <td>...</td>\n",
              "      <td>...</td>\n",
              "      <td>...</td>\n",
              "      <td>...</td>\n",
              "      <td>...</td>\n",
              "      <td>...</td>\n",
              "      <td>...</td>\n",
              "      <td>...</td>\n",
              "      <td>...</td>\n",
              "      <td>...</td>\n",
              "      <td>...</td>\n",
              "    </tr>\n",
              "    <tr>\n",
              "      <th>168728</th>\n",
              "      <td>2018-11-01</td>\n",
              "      <td>ZVEZ</td>\n",
              "      <td>D</td>\n",
              "      <td>4.83</td>\n",
              "      <td>4.89</td>\n",
              "      <td>4.76</td>\n",
              "      <td>4.87</td>\n",
              "      <td>168000.0</td>\n",
              "      <td>4.933</td>\n",
              "      <td>4.957648</td>\n",
              "      <td>-0.081296</td>\n",
              "    </tr>\n",
              "    <tr>\n",
              "      <th>168729</th>\n",
              "      <td>2018-11-02</td>\n",
              "      <td>ZVEZ</td>\n",
              "      <td>D</td>\n",
              "      <td>4.89</td>\n",
              "      <td>4.91</td>\n",
              "      <td>4.80</td>\n",
              "      <td>4.90</td>\n",
              "      <td>80000.0</td>\n",
              "      <td>4.937</td>\n",
              "      <td>4.947166</td>\n",
              "      <td>-0.081242</td>\n",
              "    </tr>\n",
              "    <tr>\n",
              "      <th>168730</th>\n",
              "      <td>2018-11-06</td>\n",
              "      <td>ZVEZ</td>\n",
              "      <td>D</td>\n",
              "      <td>4.83</td>\n",
              "      <td>4.91</td>\n",
              "      <td>4.83</td>\n",
              "      <td>4.89</td>\n",
              "      <td>37000.0</td>\n",
              "      <td>4.942</td>\n",
              "      <td>4.936772</td>\n",
              "      <td>-0.081072</td>\n",
              "    </tr>\n",
              "    <tr>\n",
              "      <th>168731</th>\n",
              "      <td>2018-11-07</td>\n",
              "      <td>ZVEZ</td>\n",
              "      <td>D</td>\n",
              "      <td>4.87</td>\n",
              "      <td>5.19</td>\n",
              "      <td>4.84</td>\n",
              "      <td>4.92</td>\n",
              "      <td>123000.0</td>\n",
              "      <td>4.954</td>\n",
              "      <td>4.933723</td>\n",
              "      <td>-0.077621</td>\n",
              "    </tr>\n",
              "    <tr>\n",
              "      <th>168732</th>\n",
              "      <td>2018-11-08</td>\n",
              "      <td>ZVEZ</td>\n",
              "      <td>D</td>\n",
              "      <td>4.88</td>\n",
              "      <td>5.00</td>\n",
              "      <td>4.86</td>\n",
              "      <td>4.91</td>\n",
              "      <td>98000.0</td>\n",
              "      <td>4.969</td>\n",
              "      <td>4.929410</td>\n",
              "      <td>-0.074831</td>\n",
              "    </tr>\n",
              "  </tbody>\n",
              "</table>\n",
              "<p>798479 rows × 11 columns</p>\n",
              "</div>"
            ],
            "text/plain": [
              "         Date&Time Ticker Per   Open  ...    Volume     SMA        EMA      MACD\n",
              "813450  2016-11-25      A   D  44.72  ...       2.0  44.720  44.720000  0.000000\n",
              "813451  2016-11-29      A   D  43.60  ...      68.0  44.360  44.324000 -0.016154\n",
              "813452  2016-12-01      A   D  43.31  ...       6.0  44.000  43.904319 -0.042910\n",
              "813453  2017-01-09      A   D  48.30  ...       8.0  45.060  45.332733  0.125051\n",
              "813454  2017-01-12      A   D  48.33  ...      22.0  45.716  46.196037  0.217665\n",
              "...            ...    ...  ..    ...  ...       ...     ...        ...       ...\n",
              "168728  2018-11-01   ZVEZ   D   4.83  ...  168000.0   4.933   4.957648 -0.081296\n",
              "168729  2018-11-02   ZVEZ   D   4.89  ...   80000.0   4.937   4.947166 -0.081242\n",
              "168730  2018-11-06   ZVEZ   D   4.83  ...   37000.0   4.942   4.936772 -0.081072\n",
              "168731  2018-11-07   ZVEZ   D   4.87  ...  123000.0   4.954   4.933723 -0.077621\n",
              "168732  2018-11-08   ZVEZ   D   4.88  ...   98000.0   4.969   4.929410 -0.074831\n",
              "\n",
              "[798479 rows x 11 columns]"
            ]
          },
          "metadata": {
            "tags": []
          },
          "execution_count": 182
        }
      ]
    },
    {
      "cell_type": "code",
      "metadata": {
        "id": "2wVbxIJWoi-o",
        "colab": {
          "base_uri": "https://localhost:8080/",
          "height": 402
        },
        "outputId": "33366bce-5e53-486d-cc8b-55942b01481f"
      },
      "source": [
        "\n",
        "test_data_ta"
      ],
      "execution_count": null,
      "outputs": [
        {
          "output_type": "execute_result",
          "data": {
            "text/html": [
              "<div>\n",
              "<style scoped>\n",
              "    .dataframe tbody tr th:only-of-type {\n",
              "        vertical-align: middle;\n",
              "    }\n",
              "\n",
              "    .dataframe tbody tr th {\n",
              "        vertical-align: top;\n",
              "    }\n",
              "\n",
              "    .dataframe thead th {\n",
              "        text-align: right;\n",
              "    }\n",
              "</style>\n",
              "<table border=\"1\" class=\"dataframe\">\n",
              "  <thead>\n",
              "    <tr style=\"text-align: right;\">\n",
              "      <th></th>\n",
              "      <th>Date&amp;Time</th>\n",
              "      <th>Ticker</th>\n",
              "      <th>Per</th>\n",
              "      <th>Open</th>\n",
              "      <th>High</th>\n",
              "      <th>Low</th>\n",
              "      <th>Close</th>\n",
              "      <th>Volume</th>\n",
              "      <th>SMA</th>\n",
              "      <th>EMA</th>\n",
              "      <th>MACD</th>\n",
              "    </tr>\n",
              "  </thead>\n",
              "  <tbody>\n",
              "    <tr>\n",
              "      <th>813745</th>\n",
              "      <td>2018-05-09</td>\n",
              "      <td>A</td>\n",
              "      <td>D</td>\n",
              "      <td>67.370</td>\n",
              "      <td>68.400</td>\n",
              "      <td>67.170</td>\n",
              "      <td>68.130</td>\n",
              "      <td>313432.0</td>\n",
              "      <td>68.1300</td>\n",
              "      <td>68.130000</td>\n",
              "      <td>0.000000</td>\n",
              "    </tr>\n",
              "    <tr>\n",
              "      <th>813746</th>\n",
              "      <td>2018-05-10</td>\n",
              "      <td>A</td>\n",
              "      <td>D</td>\n",
              "      <td>68.190</td>\n",
              "      <td>68.880</td>\n",
              "      <td>68.180</td>\n",
              "      <td>68.870</td>\n",
              "      <td>194775.0</td>\n",
              "      <td>68.5000</td>\n",
              "      <td>68.537000</td>\n",
              "      <td>0.016603</td>\n",
              "    </tr>\n",
              "    <tr>\n",
              "      <th>813747</th>\n",
              "      <td>2018-05-11</td>\n",
              "      <td>A</td>\n",
              "      <td>D</td>\n",
              "      <td>69.150</td>\n",
              "      <td>69.600</td>\n",
              "      <td>68.920</td>\n",
              "      <td>69.460</td>\n",
              "      <td>216005.0</td>\n",
              "      <td>68.8200</td>\n",
              "      <td>68.908040</td>\n",
              "      <td>0.039451</td>\n",
              "    </tr>\n",
              "    <tr>\n",
              "      <th>813748</th>\n",
              "      <td>2018-05-12</td>\n",
              "      <td>A</td>\n",
              "      <td>D</td>\n",
              "      <td>69.990</td>\n",
              "      <td>69.990</td>\n",
              "      <td>69.550</td>\n",
              "      <td>69.550</td>\n",
              "      <td>200.0</td>\n",
              "      <td>69.0025</td>\n",
              "      <td>69.119537</td>\n",
              "      <td>0.052125</td>\n",
              "    </tr>\n",
              "    <tr>\n",
              "      <th>813749</th>\n",
              "      <td>2018-05-14</td>\n",
              "      <td>A</td>\n",
              "      <td>D</td>\n",
              "      <td>70.050</td>\n",
              "      <td>70.430</td>\n",
              "      <td>63.950</td>\n",
              "      <td>64.010</td>\n",
              "      <td>489761.0</td>\n",
              "      <td>68.0040</td>\n",
              "      <td>67.652728</td>\n",
              "      <td>-0.162534</td>\n",
              "    </tr>\n",
              "    <tr>\n",
              "      <th>...</th>\n",
              "      <td>...</td>\n",
              "      <td>...</td>\n",
              "      <td>...</td>\n",
              "      <td>...</td>\n",
              "      <td>...</td>\n",
              "      <td>...</td>\n",
              "      <td>...</td>\n",
              "      <td>...</td>\n",
              "      <td>...</td>\n",
              "      <td>...</td>\n",
              "      <td>...</td>\n",
              "    </tr>\n",
              "    <tr>\n",
              "      <th>169164</th>\n",
              "      <td>2020-08-03</td>\n",
              "      <td>ZVEZ</td>\n",
              "      <td>D</td>\n",
              "      <td>4.630</td>\n",
              "      <td>5.200</td>\n",
              "      <td>4.565</td>\n",
              "      <td>4.580</td>\n",
              "      <td>1126000.0</td>\n",
              "      <td>4.5560</td>\n",
              "      <td>4.560081</td>\n",
              "      <td>0.015835</td>\n",
              "    </tr>\n",
              "    <tr>\n",
              "      <th>169165</th>\n",
              "      <td>2020-08-04</td>\n",
              "      <td>ZVEZ</td>\n",
              "      <td>D</td>\n",
              "      <td>4.575</td>\n",
              "      <td>4.730</td>\n",
              "      <td>4.560</td>\n",
              "      <td>4.590</td>\n",
              "      <td>89000.0</td>\n",
              "      <td>4.5620</td>\n",
              "      <td>4.565521</td>\n",
              "      <td>0.017348</td>\n",
              "    </tr>\n",
              "    <tr>\n",
              "      <th>169166</th>\n",
              "      <td>2020-08-05</td>\n",
              "      <td>ZVEZ</td>\n",
              "      <td>D</td>\n",
              "      <td>4.565</td>\n",
              "      <td>4.645</td>\n",
              "      <td>4.560</td>\n",
              "      <td>4.645</td>\n",
              "      <td>25000.0</td>\n",
              "      <td>4.5730</td>\n",
              "      <td>4.579972</td>\n",
              "      <td>0.022723</td>\n",
              "    </tr>\n",
              "    <tr>\n",
              "      <th>169167</th>\n",
              "      <td>2020-08-06</td>\n",
              "      <td>ZVEZ</td>\n",
              "      <td>D</td>\n",
              "      <td>4.645</td>\n",
              "      <td>4.655</td>\n",
              "      <td>4.480</td>\n",
              "      <td>4.555</td>\n",
              "      <td>336000.0</td>\n",
              "      <td>4.5715</td>\n",
              "      <td>4.575431</td>\n",
              "      <td>0.019496</td>\n",
              "    </tr>\n",
              "    <tr>\n",
              "      <th>169168</th>\n",
              "      <td>2020-08-07</td>\n",
              "      <td>ZVEZ</td>\n",
              "      <td>D</td>\n",
              "      <td>4.580</td>\n",
              "      <td>4.745</td>\n",
              "      <td>4.540</td>\n",
              "      <td>4.540</td>\n",
              "      <td>148000.0</td>\n",
              "      <td>4.5745</td>\n",
              "      <td>4.568989</td>\n",
              "      <td>0.015549</td>\n",
              "    </tr>\n",
              "  </tbody>\n",
              "</table>\n",
              "<p>246204 rows × 11 columns</p>\n",
              "</div>"
            ],
            "text/plain": [
              "         Date&Time Ticker Per    Open  ...     Volume      SMA        EMA      MACD\n",
              "813745  2018-05-09      A   D  67.370  ...   313432.0  68.1300  68.130000  0.000000\n",
              "813746  2018-05-10      A   D  68.190  ...   194775.0  68.5000  68.537000  0.016603\n",
              "813747  2018-05-11      A   D  69.150  ...   216005.0  68.8200  68.908040  0.039451\n",
              "813748  2018-05-12      A   D  69.990  ...      200.0  69.0025  69.119537  0.052125\n",
              "813749  2018-05-14      A   D  70.050  ...   489761.0  68.0040  67.652728 -0.162534\n",
              "...            ...    ...  ..     ...  ...        ...      ...        ...       ...\n",
              "169164  2020-08-03   ZVEZ   D   4.630  ...  1126000.0   4.5560   4.560081  0.015835\n",
              "169165  2020-08-04   ZVEZ   D   4.575  ...    89000.0   4.5620   4.565521  0.017348\n",
              "169166  2020-08-05   ZVEZ   D   4.565  ...    25000.0   4.5730   4.579972  0.022723\n",
              "169167  2020-08-06   ZVEZ   D   4.645  ...   336000.0   4.5715   4.575431  0.019496\n",
              "169168  2020-08-07   ZVEZ   D   4.580  ...   148000.0   4.5745   4.568989  0.015549\n",
              "\n",
              "[246204 rows x 11 columns]"
            ]
          },
          "metadata": {
            "tags": []
          },
          "execution_count": 183
        }
      ]
    },
    {
      "cell_type": "code",
      "metadata": {
        "id": "rqiKtDIndU6G",
        "colab": {
          "base_uri": "https://localhost:8080/",
          "height": 402
        },
        "outputId": "0b6d52b0-3d35-446a-f776-a4067649892c"
      },
      "source": [
        "\n",
        "val_data_ta"
      ],
      "execution_count": null,
      "outputs": [
        {
          "output_type": "execute_result",
          "data": {
            "text/html": [
              "<div>\n",
              "<style scoped>\n",
              "    .dataframe tbody tr th:only-of-type {\n",
              "        vertical-align: middle;\n",
              "    }\n",
              "\n",
              "    .dataframe tbody tr th {\n",
              "        vertical-align: top;\n",
              "    }\n",
              "\n",
              "    .dataframe thead th {\n",
              "        text-align: right;\n",
              "    }\n",
              "</style>\n",
              "<table border=\"1\" class=\"dataframe\">\n",
              "  <thead>\n",
              "    <tr style=\"text-align: right;\">\n",
              "      <th></th>\n",
              "      <th>Date&amp;Time</th>\n",
              "      <th>Ticker</th>\n",
              "      <th>Per</th>\n",
              "      <th>Open</th>\n",
              "      <th>High</th>\n",
              "      <th>Low</th>\n",
              "      <th>Close</th>\n",
              "      <th>Volume</th>\n",
              "      <th>SMA</th>\n",
              "      <th>EMA</th>\n",
              "      <th>MACD</th>\n",
              "    </tr>\n",
              "  </thead>\n",
              "  <tbody>\n",
              "    <tr>\n",
              "      <th>813746</th>\n",
              "      <td>2018-05-10</td>\n",
              "      <td>A</td>\n",
              "      <td>D</td>\n",
              "      <td>68.19</td>\n",
              "      <td>68.88</td>\n",
              "      <td>68.18</td>\n",
              "      <td>68.87</td>\n",
              "      <td>194775.0</td>\n",
              "      <td>68.870000</td>\n",
              "      <td>68.870000</td>\n",
              "      <td>0.000000</td>\n",
              "    </tr>\n",
              "    <tr>\n",
              "      <th>813747</th>\n",
              "      <td>2018-05-11</td>\n",
              "      <td>A</td>\n",
              "      <td>D</td>\n",
              "      <td>69.15</td>\n",
              "      <td>69.60</td>\n",
              "      <td>68.92</td>\n",
              "      <td>69.46</td>\n",
              "      <td>216005.0</td>\n",
              "      <td>69.165000</td>\n",
              "      <td>69.194500</td>\n",
              "      <td>0.013237</td>\n",
              "    </tr>\n",
              "    <tr>\n",
              "      <th>813748</th>\n",
              "      <td>2018-05-12</td>\n",
              "      <td>A</td>\n",
              "      <td>D</td>\n",
              "      <td>69.99</td>\n",
              "      <td>69.99</td>\n",
              "      <td>69.55</td>\n",
              "      <td>69.55</td>\n",
              "      <td>200.0</td>\n",
              "      <td>69.293333</td>\n",
              "      <td>69.337409</td>\n",
              "      <td>0.019658</td>\n",
              "    </tr>\n",
              "    <tr>\n",
              "      <th>813749</th>\n",
              "      <td>2018-05-14</td>\n",
              "      <td>A</td>\n",
              "      <td>D</td>\n",
              "      <td>70.05</td>\n",
              "      <td>70.43</td>\n",
              "      <td>63.95</td>\n",
              "      <td>64.01</td>\n",
              "      <td>489761.0</td>\n",
              "      <td>67.972500</td>\n",
              "      <td>67.582265</td>\n",
              "      <td>-0.177923</td>\n",
              "    </tr>\n",
              "    <tr>\n",
              "      <th>813750</th>\n",
              "      <td>2018-05-15</td>\n",
              "      <td>A</td>\n",
              "      <td>D</td>\n",
              "      <td>64.29</td>\n",
              "      <td>65.30</td>\n",
              "      <td>60.84</td>\n",
              "      <td>62.74</td>\n",
              "      <td>2116588.0</td>\n",
              "      <td>66.926000</td>\n",
              "      <td>66.192182</td>\n",
              "      <td>-0.332077</td>\n",
              "    </tr>\n",
              "    <tr>\n",
              "      <th>...</th>\n",
              "      <td>...</td>\n",
              "      <td>...</td>\n",
              "      <td>...</td>\n",
              "      <td>...</td>\n",
              "      <td>...</td>\n",
              "      <td>...</td>\n",
              "      <td>...</td>\n",
              "      <td>...</td>\n",
              "      <td>...</td>\n",
              "      <td>...</td>\n",
              "      <td>...</td>\n",
              "    </tr>\n",
              "    <tr>\n",
              "      <th>168729</th>\n",
              "      <td>2018-11-02</td>\n",
              "      <td>ZVEZ</td>\n",
              "      <td>D</td>\n",
              "      <td>4.89</td>\n",
              "      <td>4.91</td>\n",
              "      <td>4.80</td>\n",
              "      <td>4.90</td>\n",
              "      <td>80000.0</td>\n",
              "      <td>4.937000</td>\n",
              "      <td>4.947166</td>\n",
              "      <td>-0.081278</td>\n",
              "    </tr>\n",
              "    <tr>\n",
              "      <th>168730</th>\n",
              "      <td>2018-11-06</td>\n",
              "      <td>ZVEZ</td>\n",
              "      <td>D</td>\n",
              "      <td>4.83</td>\n",
              "      <td>4.91</td>\n",
              "      <td>4.83</td>\n",
              "      <td>4.89</td>\n",
              "      <td>37000.0</td>\n",
              "      <td>4.942000</td>\n",
              "      <td>4.936772</td>\n",
              "      <td>-0.081104</td>\n",
              "    </tr>\n",
              "    <tr>\n",
              "      <th>168731</th>\n",
              "      <td>2018-11-07</td>\n",
              "      <td>ZVEZ</td>\n",
              "      <td>D</td>\n",
              "      <td>4.87</td>\n",
              "      <td>5.19</td>\n",
              "      <td>4.84</td>\n",
              "      <td>4.92</td>\n",
              "      <td>123000.0</td>\n",
              "      <td>4.954000</td>\n",
              "      <td>4.933723</td>\n",
              "      <td>-0.077651</td>\n",
              "    </tr>\n",
              "    <tr>\n",
              "      <th>168732</th>\n",
              "      <td>2018-11-08</td>\n",
              "      <td>ZVEZ</td>\n",
              "      <td>D</td>\n",
              "      <td>4.88</td>\n",
              "      <td>5.00</td>\n",
              "      <td>4.86</td>\n",
              "      <td>4.91</td>\n",
              "      <td>98000.0</td>\n",
              "      <td>4.969000</td>\n",
              "      <td>4.929410</td>\n",
              "      <td>-0.074858</td>\n",
              "    </tr>\n",
              "    <tr>\n",
              "      <th>168733</th>\n",
              "      <td>2018-11-09</td>\n",
              "      <td>ZVEZ</td>\n",
              "      <td>D</td>\n",
              "      <td>4.86</td>\n",
              "      <td>4.91</td>\n",
              "      <td>4.85</td>\n",
              "      <td>4.90</td>\n",
              "      <td>41000.0</td>\n",
              "      <td>4.924000</td>\n",
              "      <td>4.924062</td>\n",
              "      <td>-0.072614</td>\n",
              "    </tr>\n",
              "  </tbody>\n",
              "</table>\n",
              "<p>53876 rows × 11 columns</p>\n",
              "</div>"
            ],
            "text/plain": [
              "         Date&Time Ticker Per   Open  ...     Volume        SMA        EMA      MACD\n",
              "813746  2018-05-10      A   D  68.19  ...   194775.0  68.870000  68.870000  0.000000\n",
              "813747  2018-05-11      A   D  69.15  ...   216005.0  69.165000  69.194500  0.013237\n",
              "813748  2018-05-12      A   D  69.99  ...      200.0  69.293333  69.337409  0.019658\n",
              "813749  2018-05-14      A   D  70.05  ...   489761.0  67.972500  67.582265 -0.177923\n",
              "813750  2018-05-15      A   D  64.29  ...  2116588.0  66.926000  66.192182 -0.332077\n",
              "...            ...    ...  ..    ...  ...        ...        ...        ...       ...\n",
              "168729  2018-11-02   ZVEZ   D   4.89  ...    80000.0   4.937000   4.947166 -0.081278\n",
              "168730  2018-11-06   ZVEZ   D   4.83  ...    37000.0   4.942000   4.936772 -0.081104\n",
              "168731  2018-11-07   ZVEZ   D   4.87  ...   123000.0   4.954000   4.933723 -0.077651\n",
              "168732  2018-11-08   ZVEZ   D   4.88  ...    98000.0   4.969000   4.929410 -0.074858\n",
              "168733  2018-11-09   ZVEZ   D   4.86  ...    41000.0   4.924000   4.924062 -0.072614\n",
              "\n",
              "[53876 rows x 11 columns]"
            ]
          },
          "metadata": {
            "tags": []
          },
          "execution_count": 187
        }
      ]
    },
    {
      "cell_type": "markdown",
      "metadata": {
        "id": "r6CRelKdWQe7"
      },
      "source": [
        "## Масштабирование данных"
      ]
    },
    {
      "cell_type": "code",
      "metadata": {
        "id": "YjV90qsVhM_y"
      },
      "source": [
        "def scale(data, columns=['Open', 'High', 'Low', 'Close', 'Volume', 'SMA', 'EMA', 'MACD']):\n",
        "\n",
        "  def calculate_rel(df, columns):\n",
        "    result = df.copy()\n",
        "    #print(result)#.loc[:, columns])\n",
        "    result[columns] = np.vstack((np.reshape(np.array([1 for i in range(len(columns))]), (1, -1)), df[columns].to_numpy()[1:] / df[columns].to_numpy()[:-1]))\n",
        "    return result\n",
        "\n",
        "  result = data.groupby('Ticker', as_index=False).apply(calculate_rel, columns=columns).reset_index().set_index('level_1').drop('level_0', axis='columns')\n",
        "  return result.drop(result[result.Volume == float('inf')].index, axis=0)"
      ],
      "execution_count": null,
      "outputs": []
    },
    {
      "cell_type": "code",
      "metadata": {
        "id": "UewQGoS1rRji"
      },
      "source": [
        "scaled_train_data = scale(train_data, columns=['Open', 'High', 'Low', 'Close', 'Volume'])\n",
        "scaled_val_data = scale(val_data, columns=['Open', 'High', 'Low', 'Close', 'Volume'])\n",
        "scaled_test_data = scale(test_data, columns=['Open', 'High', 'Low', 'Close', 'Volume'])"
      ],
      "execution_count": null,
      "outputs": []
    },
    {
      "cell_type": "code",
      "metadata": {
        "colab": {
          "base_uri": "https://localhost:8080/",
          "height": 431
        },
        "id": "s_2XqBqkA1Ht",
        "outputId": "5ac60f23-9672-4f5d-eae8-2b582725b7bb"
      },
      "source": [
        "scaled_val_data"
      ],
      "execution_count": null,
      "outputs": [
        {
          "output_type": "execute_result",
          "data": {
            "text/html": [
              "<div>\n",
              "<style scoped>\n",
              "    .dataframe tbody tr th:only-of-type {\n",
              "        vertical-align: middle;\n",
              "    }\n",
              "\n",
              "    .dataframe tbody tr th {\n",
              "        vertical-align: top;\n",
              "    }\n",
              "\n",
              "    .dataframe thead th {\n",
              "        text-align: right;\n",
              "    }\n",
              "</style>\n",
              "<table border=\"1\" class=\"dataframe\">\n",
              "  <thead>\n",
              "    <tr style=\"text-align: right;\">\n",
              "      <th></th>\n",
              "      <th>Date&amp;Time</th>\n",
              "      <th>Ticker</th>\n",
              "      <th>Per</th>\n",
              "      <th>Open</th>\n",
              "      <th>High</th>\n",
              "      <th>Low</th>\n",
              "      <th>Close</th>\n",
              "      <th>Volume</th>\n",
              "    </tr>\n",
              "    <tr>\n",
              "      <th>level_1</th>\n",
              "      <th></th>\n",
              "      <th></th>\n",
              "      <th></th>\n",
              "      <th></th>\n",
              "      <th></th>\n",
              "      <th></th>\n",
              "      <th></th>\n",
              "      <th></th>\n",
              "    </tr>\n",
              "  </thead>\n",
              "  <tbody>\n",
              "    <tr>\n",
              "      <th>813746</th>\n",
              "      <td>2018-05-10</td>\n",
              "      <td>A</td>\n",
              "      <td>D</td>\n",
              "      <td>1.000000</td>\n",
              "      <td>1.000000</td>\n",
              "      <td>1.000000</td>\n",
              "      <td>1.000000</td>\n",
              "      <td>1.000000</td>\n",
              "    </tr>\n",
              "    <tr>\n",
              "      <th>813747</th>\n",
              "      <td>2018-05-11</td>\n",
              "      <td>A</td>\n",
              "      <td>D</td>\n",
              "      <td>1.014078</td>\n",
              "      <td>1.010453</td>\n",
              "      <td>1.010854</td>\n",
              "      <td>1.008567</td>\n",
              "      <td>1.108998</td>\n",
              "    </tr>\n",
              "    <tr>\n",
              "      <th>813748</th>\n",
              "      <td>2018-05-12</td>\n",
              "      <td>A</td>\n",
              "      <td>D</td>\n",
              "      <td>1.012148</td>\n",
              "      <td>1.005603</td>\n",
              "      <td>1.009141</td>\n",
              "      <td>1.001296</td>\n",
              "      <td>0.000926</td>\n",
              "    </tr>\n",
              "    <tr>\n",
              "      <th>813749</th>\n",
              "      <td>2018-05-14</td>\n",
              "      <td>A</td>\n",
              "      <td>D</td>\n",
              "      <td>1.000857</td>\n",
              "      <td>1.006287</td>\n",
              "      <td>0.919482</td>\n",
              "      <td>0.920345</td>\n",
              "      <td>2448.805000</td>\n",
              "    </tr>\n",
              "    <tr>\n",
              "      <th>813750</th>\n",
              "      <td>2018-05-15</td>\n",
              "      <td>A</td>\n",
              "      <td>D</td>\n",
              "      <td>0.917773</td>\n",
              "      <td>0.927162</td>\n",
              "      <td>0.951368</td>\n",
              "      <td>0.980159</td>\n",
              "      <td>4.321675</td>\n",
              "    </tr>\n",
              "    <tr>\n",
              "      <th>...</th>\n",
              "      <td>...</td>\n",
              "      <td>...</td>\n",
              "      <td>...</td>\n",
              "      <td>...</td>\n",
              "      <td>...</td>\n",
              "      <td>...</td>\n",
              "      <td>...</td>\n",
              "      <td>...</td>\n",
              "    </tr>\n",
              "    <tr>\n",
              "      <th>168729</th>\n",
              "      <td>2018-11-02</td>\n",
              "      <td>ZVEZ</td>\n",
              "      <td>D</td>\n",
              "      <td>1.012422</td>\n",
              "      <td>1.004090</td>\n",
              "      <td>1.008403</td>\n",
              "      <td>1.006160</td>\n",
              "      <td>0.476190</td>\n",
              "    </tr>\n",
              "    <tr>\n",
              "      <th>168730</th>\n",
              "      <td>2018-11-06</td>\n",
              "      <td>ZVEZ</td>\n",
              "      <td>D</td>\n",
              "      <td>0.987730</td>\n",
              "      <td>1.000000</td>\n",
              "      <td>1.006250</td>\n",
              "      <td>0.997959</td>\n",
              "      <td>0.462500</td>\n",
              "    </tr>\n",
              "    <tr>\n",
              "      <th>168731</th>\n",
              "      <td>2018-11-07</td>\n",
              "      <td>ZVEZ</td>\n",
              "      <td>D</td>\n",
              "      <td>1.008282</td>\n",
              "      <td>1.057026</td>\n",
              "      <td>1.002070</td>\n",
              "      <td>1.006135</td>\n",
              "      <td>3.324324</td>\n",
              "    </tr>\n",
              "    <tr>\n",
              "      <th>168732</th>\n",
              "      <td>2018-11-08</td>\n",
              "      <td>ZVEZ</td>\n",
              "      <td>D</td>\n",
              "      <td>1.002053</td>\n",
              "      <td>0.963391</td>\n",
              "      <td>1.004132</td>\n",
              "      <td>0.997967</td>\n",
              "      <td>0.796748</td>\n",
              "    </tr>\n",
              "    <tr>\n",
              "      <th>168733</th>\n",
              "      <td>2018-11-09</td>\n",
              "      <td>ZVEZ</td>\n",
              "      <td>D</td>\n",
              "      <td>0.995902</td>\n",
              "      <td>0.982000</td>\n",
              "      <td>0.997942</td>\n",
              "      <td>0.997963</td>\n",
              "      <td>0.418367</td>\n",
              "    </tr>\n",
              "  </tbody>\n",
              "</table>\n",
              "<p>53876 rows × 8 columns</p>\n",
              "</div>"
            ],
            "text/plain": [
              "          Date&Time Ticker Per  ...       Low     Close       Volume\n",
              "level_1                         ...                                 \n",
              "813746   2018-05-10      A   D  ...  1.000000  1.000000     1.000000\n",
              "813747   2018-05-11      A   D  ...  1.010854  1.008567     1.108998\n",
              "813748   2018-05-12      A   D  ...  1.009141  1.001296     0.000926\n",
              "813749   2018-05-14      A   D  ...  0.919482  0.920345  2448.805000\n",
              "813750   2018-05-15      A   D  ...  0.951368  0.980159     4.321675\n",
              "...             ...    ...  ..  ...       ...       ...          ...\n",
              "168729   2018-11-02   ZVEZ   D  ...  1.008403  1.006160     0.476190\n",
              "168730   2018-11-06   ZVEZ   D  ...  1.006250  0.997959     0.462500\n",
              "168731   2018-11-07   ZVEZ   D  ...  1.002070  1.006135     3.324324\n",
              "168732   2018-11-08   ZVEZ   D  ...  1.004132  0.997967     0.796748\n",
              "168733   2018-11-09   ZVEZ   D  ...  0.997942  0.997963     0.418367\n",
              "\n",
              "[53876 rows x 8 columns]"
            ]
          },
          "metadata": {
            "tags": []
          },
          "execution_count": 7
        }
      ]
    },
    {
      "cell_type": "code",
      "metadata": {
        "colab": {
          "base_uri": "https://localhost:8080/",
          "height": 265
        },
        "id": "0BWBaKIuBSLL",
        "outputId": "2786ceee-c6e9-472b-d6cf-894e31e31761"
      },
      "source": [
        "_ = plt.hist(scaled_train_data['Close'], range=(0.7, 1.3), bins=100)"
      ],
      "execution_count": null,
      "outputs": [
        {
          "output_type": "display_data",
          "data": {
            "image/png": "[encoded data removed]",
            "text/plain": [
              "<Figure size 432x288 with 1 Axes>"
            ]
          },
          "metadata": {
            "tags": [],
            "needs_background": "light"
          }
        }
      ]
    },
    {
      "cell_type": "markdown",
      "metadata": {
        "id": "qX4tR4xGr3fV"
      },
      "source": [
        "## Преобразование датасетов"
      ]
    },
    {
      "cell_type": "code",
      "metadata": {
        "id": "1y1qg1Du_znf"
      },
      "source": [
        "def fast_data_transformer(data, look_back=20, look_forward=5, y_interval=1, x_interval=1, threshold=0.03):\n",
        "    \"\"\" look_back - сколько прошедших дней используем для предсказания\n",
        "    look_forward - сколько предсказываем\n",
        "    Возвращаем тензоры заданной размерности: X - (количество строчек в данных, количество дней в одной строке (look_back), количество признаков)\n",
        "    y - (количество строчек в данных, сколько дней предсказываем (look_forward))\"\"\"\n",
        "    def constructor(row, df):\n",
        "        if ((row.name >= look_back) & (row.name <= len(df) - look_forward)):\n",
        "            X.append(np.reshape(np.array(df.iloc[row.name - look_back : row.name : x_interval]), (int(look_back / x_interval), -1)))\n",
        "            dev = np.prod(df.iloc[row.name : row.name + look_forward : y_interval].Close)\n",
        "            y.append(1 if dev > 1 + threshold else 2 if dev < 1 - threshold else 0)\n",
        "        \n",
        "    def applier(df):\n",
        "        df = df.reset_index(drop=True)\n",
        "        df.apply(constructor, df=df, axis=1)\n",
        "\n",
        "    X = []\n",
        "    y = []\n",
        "    data.groupby('Ticker', as_index=False).apply(applier)\n",
        "    \n",
        "    return torch.tensor(np.array(X)[:, :, -5 :].astype(float)), torch.tensor(np.array(y))"
      ],
      "execution_count": null,
      "outputs": []
    },
    {
      "cell_type": "markdown",
      "metadata": {
        "id": "gd-hQebUAkKo"
      },
      "source": [
        "Класс 1 - rise, класс 2 - fall, класс 0 - fair"
      ]
    },
    {
      "cell_type": "code",
      "metadata": {
        "id": "Fp0xW68l9C6Y",
        "colab": {
          "base_uri": "https://localhost:8080/"
        },
        "outputId": "c2e8ba57-779c-415e-da04-bd47e36c6939"
      },
      "source": [
        "%%time\n",
        "X_train, y_train = fast_data_transformer(scaled_train_data)"
      ],
      "execution_count": null,
      "outputs": [
        {
          "output_type": "stream",
          "text": [
            "CPU times: user 4min 42s, sys: 5.31 s, total: 4min 47s\n",
            "Wall time: 4min 47s\n"
          ],
          "name": "stdout"
        }
      ]
    },
    {
      "cell_type": "code",
      "metadata": {
        "id": "TDDOYg3HL-vl"
      },
      "source": [
        "torch.save(X_train, '/content/drive/MyDrive/x_train.pt')\n",
        "torch.save(y_train, '/content/drive/MyDrive/y_train.pt')"
      ],
      "execution_count": null,
      "outputs": []
    },
    {
      "cell_type": "code",
      "metadata": {
        "id": "MTkLy_CoLMqT"
      },
      "source": [
        "X_test, y_test = fast_data_transformer(scaled_test_data)"
      ],
      "execution_count": null,
      "outputs": []
    },
    {
      "cell_type": "code",
      "metadata": {
        "id": "teocNZ7dQyee"
      },
      "source": [
        "torch.save(X_test, '/content/drive/MyDrive/x_test.pt')\n",
        "torch.save(y_test, '/content/drive/MyDrive/y_test.pt')"
      ],
      "execution_count": null,
      "outputs": []
    },
    {
      "cell_type": "code",
      "metadata": {
        "id": "63Xb_nqM1A9B"
      },
      "source": [
        "X_val, y_val = fast_data_transformer(scaled_val_data)"
      ],
      "execution_count": null,
      "outputs": []
    },
    {
      "cell_type": "code",
      "metadata": {
        "id": "6TXilYAg8MXA"
      },
      "source": [
        "torch.save(X_val, '/content/drive/MyDrive/x_val.pt')\n",
        "torch.save(y_val, '/content/drive/MyDrive/y_val.pt')"
      ],
      "execution_count": null,
      "outputs": []
    },
    {
      "cell_type": "code",
      "metadata": {
        "id": "pJM2flpZ1q8b",
        "colab": {
          "base_uri": "https://localhost:8080/"
        },
        "outputId": "0103ad57-383d-4510-b101-a38a5cc3d3d6"
      },
      "source": [
        "y_val"
      ],
      "execution_count": null,
      "outputs": [
        {
          "output_type": "execute_result",
          "data": {
            "text/plain": [
              "tensor([0, 0, 0,  ..., 0, 0, 0])"
            ]
          },
          "metadata": {
            "tags": []
          },
          "execution_count": 26
        }
      ]
    },
    {
      "cell_type": "code",
      "metadata": {
        "id": "at6QNTjV60g1",
        "colab": {
          "base_uri": "https://localhost:8080/"
        },
        "outputId": "f1f81e81-e6aa-4951-e94b-4753ac306e8b"
      },
      "source": [
        "y_train.shape"
      ],
      "execution_count": null,
      "outputs": [
        {
          "output_type": "execute_result",
          "data": {
            "text/plain": [
              "torch.Size([779270])"
            ]
          },
          "metadata": {
            "tags": []
          },
          "execution_count": 27
        }
      ]
    },
    {
      "cell_type": "markdown",
      "metadata": {
        "id": "Rfc6CE9Us-Sh"
      },
      "source": [
        "Посмотрим на распределение ответов на обучающей выборке "
      ]
    },
    {
      "cell_type": "code",
      "metadata": {
        "id": "34Nw8mavFWUA",
        "colab": {
          "base_uri": "https://localhost:8080/",
          "height": 265
        },
        "outputId": "37048717-99e6-43a9-a422-e20f4fa31388"
      },
      "source": [
        "_ = plt.hist(y_train, bins=5)"
      ],
      "execution_count": null,
      "outputs": [
        {
          "output_type": "display_data",
          "data": {
            "image/png": "[encoded data removed]",
            "text/plain": [
              "<Figure size 432x288 with 1 Axes>"
            ]
          },
          "metadata": {
            "tags": [],
            "needs_background": "light"
          }
        }
      ]
    },
    {
      "cell_type": "markdown",
      "metadata": {
        "id": "2QKvGuNtqH2V"
      },
      "source": [
        "## Андерсемплинг"
      ]
    },
    {
      "cell_type": "code",
      "metadata": {
        "id": "bkkbYLrTyo2R"
      },
      "source": [
        "np.random.seed(42)"
      ],
      "execution_count": null,
      "outputs": []
    },
    {
      "cell_type": "code",
      "metadata": {
        "id": "natvPH7rszEd"
      },
      "source": [
        "def undersample(X, y, undersample=2):\n",
        "  indices = np.where(y == 0)[0]\n",
        "  indices_to_drop = np.random.choice(indices, size=indices.shape[0] // undersample)\n",
        "  return X[np.array(list(set(np.arange(X.shape[0])) - set(indices_to_drop)))], y[np.array(list(set(np.arange(X.shape[0])) - set(indices_to_drop)))]"
      ],
      "execution_count": null,
      "outputs": []
    },
    {
      "cell_type": "code",
      "metadata": {
        "id": "fUVOzl9pxnX1"
      },
      "source": [
        "X_train_undersampled, y_train_undersampled = undersample(X_train, y_train)"
      ],
      "execution_count": null,
      "outputs": []
    },
    {
      "cell_type": "code",
      "metadata": {
        "colab": {
          "base_uri": "https://localhost:8080/",
          "height": 265
        },
        "id": "onAul1N15FeI",
        "outputId": "fb108f32-94e2-47bf-fe21-5caeff387fe4"
      },
      "source": [
        "_ = plt.hist(y_train_undersampled, bins=5)"
      ],
      "execution_count": null,
      "outputs": [
        {
          "output_type": "display_data",
          "data": {
            "image/png": "[encoded data removed]",
            "text/plain": [
              "<Figure size 432x288 with 1 Axes>"
            ]
          },
          "metadata": {
            "tags": [],
            "needs_background": "light"
          }
        }
      ]
    },
    {
      "cell_type": "code",
      "metadata": {
        "id": "UedeP4E56bE7"
      },
      "source": [
        "torch.save(X_train_undersampled, '/content/drive/My Drive/x_train_undersampled.pt')"
      ],
      "execution_count": null,
      "outputs": []
    },
    {
      "cell_type": "code",
      "metadata": {
        "id": "UGMjtpuP6bE7"
      },
      "source": [
        "torch.save(y_train_undersampled, '/content/drive/My Drive/y_train_undersampled.pt')"
      ],
      "execution_count": null,
      "outputs": []
    },
    {
      "cell_type": "code",
      "metadata": {
        "id": "JBkX34646ct6"
      },
      "source": [
        ""
      ],
      "execution_count": null,
      "outputs": []
    },
    {
      "cell_type": "code",
      "metadata": {
        "id": "LcKrt2JDmwkB"
      },
      "source": [
        "X_train_undersampled = torch.load('/content/drive/My Drive/x_train_undersampled.pt')"
      ],
      "execution_count": null,
      "outputs": []
    },
    {
      "cell_type": "code",
      "metadata": {
        "id": "rkJpcP38mweh"
      },
      "source": [
        "y_train_undersampled = torch.load('/content/drive/My Drive/y_train_undersampled.pt')"
      ],
      "execution_count": null,
      "outputs": []
    },
    {
      "cell_type": "code",
      "metadata": {
        "id": "k0DmfmI3mwYV"
      },
      "source": [
        "X_test = torch.load('/content/drive/My Drive/x_test.pt')"
      ],
      "execution_count": null,
      "outputs": []
    },
    {
      "cell_type": "code",
      "metadata": {
        "id": "Hi3Gef8KmwQ-"
      },
      "source": [
        "y_test = torch.load('/content/drive/My Drive/y_test.pt')"
      ],
      "execution_count": null,
      "outputs": []
    },
    {
      "cell_type": "code",
      "metadata": {
        "id": "x4OtAb2x9gYu"
      },
      "source": [
        "X_val = torch.load('/content/drive/My Drive/x_val.pt')"
      ],
      "execution_count": null,
      "outputs": []
    },
    {
      "cell_type": "code",
      "metadata": {
        "id": "7mP1gH149gYw"
      },
      "source": [
        "y_val = torch.load('/content/drive/My Drive/y_val.pt')"
      ],
      "execution_count": null,
      "outputs": []
    },
    {
      "cell_type": "code",
      "metadata": {
        "colab": {
          "base_uri": "https://localhost:8080/"
        },
        "id": "FdrFO3BIcPX0",
        "outputId": "f51c5749-eebb-46af-b7da-e5e9bc5a5a76"
      },
      "source": [
        "X_train_undersampled.shape"
      ],
      "execution_count": null,
      "outputs": [
        {
          "output_type": "execute_result",
          "data": {
            "text/plain": [
              "torch.Size([620111, 20, 5])"
            ]
          },
          "metadata": {
            "tags": []
          },
          "execution_count": 11
        }
      ]
    },
    {
      "cell_type": "markdown",
      "metadata": {
        "id": "aEVHu3L5hT7u"
      },
      "source": [
        "# Gramian Angular Field + CNN"
      ]
    },
    {
      "cell_type": "code",
      "metadata": {
        "colab": {
          "base_uri": "https://localhost:8080/"
        },
        "id": "Wk5EWq2EVTNA",
        "outputId": "2116421c-d6de-4401-bccc-2f076663fab1"
      },
      "source": [
        "!pip install pyts"
      ],
      "execution_count": null,
      "outputs": [
        {
          "output_type": "stream",
          "text": [
            "Collecting pyts\n",
            "\u001b[?25l  Downloading https://files.pythonhosted.org/packages/b6/2b/1a62c0d32b40ee85daa8f6a6160828537b3d846c9fe93253b38846c6ec1f/pyts-0.11.0-py3-none-any.whl (2.5MB)\n",
            "\r\u001b[K     |▏                               | 10kB 20.6MB/s eta 0:00:01\r\u001b[K     |▎                               | 20kB 27.5MB/s eta 0:00:01\r\u001b[K     |▍                               | 30kB 23.8MB/s eta 0:00:01\r\u001b[K     |▌                               | 40kB 27.0MB/s eta 0:00:01\r\u001b[K     |▋                               | 51kB 24.6MB/s eta 0:00:01\r\u001b[K     |▉                               | 61kB 17.4MB/s eta 0:00:01\r\u001b[K     |█                               | 71kB 17.8MB/s eta 0:00:01\r\u001b[K     |█                               | 81kB 19.0MB/s eta 0:00:01\r\u001b[K     |█▏                              | 92kB 17.9MB/s eta 0:00:01\r\u001b[K     |█▎                              | 102kB 17.7MB/s eta 0:00:01\r\u001b[K     |█▍                              | 112kB 17.7MB/s eta 0:00:01\r\u001b[K     |█▋                              | 122kB 17.7MB/s eta 0:00:01\r\u001b[K     |█▊                              | 133kB 17.7MB/s eta 0:00:01\r\u001b[K     |█▉                              | 143kB 17.7MB/s eta 0:00:01\r\u001b[K     |██                              | 153kB 17.7MB/s eta 0:00:01\r\u001b[K     |██                              | 163kB 17.7MB/s eta 0:00:01\r\u001b[K     |██▏                             | 174kB 17.7MB/s eta 0:00:01\r\u001b[K     |██▍                             | 184kB 17.7MB/s eta 0:00:01\r\u001b[K     |██▌                             | 194kB 17.7MB/s eta 0:00:01\r\u001b[K     |██▋                             | 204kB 17.7MB/s eta 0:00:01\r\u001b[K     |██▊                             | 215kB 17.7MB/s eta 0:00:01\r\u001b[K     |██▉                             | 225kB 17.7MB/s eta 0:00:01\r\u001b[K     |███                             | 235kB 17.7MB/s eta 0:00:01\r\u001b[K     |███▏                            | 245kB 17.7MB/s eta 0:00:01\r\u001b[K     |███▎                            | 256kB 17.7MB/s eta 0:00:01\r\u001b[K     |███▍                            | 266kB 17.7MB/s eta 0:00:01\r\u001b[K     |███▌                            | 276kB 17.7MB/s eta 0:00:01\r\u001b[K     |███▋                            | 286kB 17.7MB/s eta 0:00:01\r\u001b[K     |███▊                            | 296kB 17.7MB/s eta 0:00:01\r\u001b[K     |████                            | 307kB 17.7MB/s eta 0:00:01\r\u001b[K     |████                            | 317kB 17.7MB/s eta 0:00:01\r\u001b[K     |████▏                           | 327kB 17.7MB/s eta 0:00:01\r\u001b[K     |████▎                           | 337kB 17.7MB/s eta 0:00:01\r\u001b[K     |████▍                           | 348kB 17.7MB/s eta 0:00:01\r\u001b[K     |████▌                           | 358kB 17.7MB/s eta 0:00:01\r\u001b[K     |████▊                           | 368kB 17.7MB/s eta 0:00:01\r\u001b[K     |████▉                           | 378kB 17.7MB/s eta 0:00:01\r\u001b[K     |█████                           | 389kB 17.7MB/s eta 0:00:01\r\u001b[K     |█████                           | 399kB 17.7MB/s eta 0:00:01\r\u001b[K     |█████▏                          | 409kB 17.7MB/s eta 0:00:01\r\u001b[K     |█████▎                          | 419kB 17.7MB/s eta 0:00:01\r\u001b[K     |█████▌                          | 430kB 17.7MB/s eta 0:00:01\r\u001b[K     |█████▋                          | 440kB 17.7MB/s eta 0:00:01\r\u001b[K     |█████▊                          | 450kB 17.7MB/s eta 0:00:01\r\u001b[K     |█████▉                          | 460kB 17.7MB/s eta 0:00:01\r\u001b[K     |██████                          | 471kB 17.7MB/s eta 0:00:01\r\u001b[K     |██████                          | 481kB 17.7MB/s eta 0:00:01\r\u001b[K     |██████▎                         | 491kB 17.7MB/s eta 0:00:01\r\u001b[K     |██████▍                         | 501kB 17.7MB/s eta 0:00:01\r\u001b[K     |██████▌                         | 512kB 17.7MB/s eta 0:00:01\r\u001b[K     |██████▋                         | 522kB 17.7MB/s eta 0:00:01\r\u001b[K     |██████▊                         | 532kB 17.7MB/s eta 0:00:01\r\u001b[K     |██████▉                         | 542kB 17.7MB/s eta 0:00:01\r\u001b[K     |███████                         | 552kB 17.7MB/s eta 0:00:01\r\u001b[K     |███████▏                        | 563kB 17.7MB/s eta 0:00:01\r\u001b[K     |███████▎                        | 573kB 17.7MB/s eta 0:00:01\r\u001b[K     |███████▍                        | 583kB 17.7MB/s eta 0:00:01\r\u001b[K     |███████▌                        | 593kB 17.7MB/s eta 0:00:01\r\u001b[K     |███████▋                        | 604kB 17.7MB/s eta 0:00:01\r\u001b[K     |███████▉                        | 614kB 17.7MB/s eta 0:00:01\r\u001b[K     |████████                        | 624kB 17.7MB/s eta 0:00:01\r\u001b[K     |████████                        | 634kB 17.7MB/s eta 0:00:01\r\u001b[K     |████████▏                       | 645kB 17.7MB/s eta 0:00:01\r\u001b[K     |████████▎                       | 655kB 17.7MB/s eta 0:00:01\r\u001b[K     |████████▍                       | 665kB 17.7MB/s eta 0:00:01\r\u001b[K     |████████▋                       | 675kB 17.7MB/s eta 0:00:01\r\u001b[K     |████████▊                       | 686kB 17.7MB/s eta 0:00:01\r\u001b[K     |████████▉                       | 696kB 17.7MB/s eta 0:00:01\r\u001b[K     |█████████                       | 706kB 17.7MB/s eta 0:00:01\r\u001b[K     |█████████                       | 716kB 17.7MB/s eta 0:00:01\r\u001b[K     |█████████▏                      | 727kB 17.7MB/s eta 0:00:01\r\u001b[K     |█████████▍                      | 737kB 17.7MB/s eta 0:00:01\r\u001b[K     |█████████▌                      | 747kB 17.7MB/s eta 0:00:01\r\u001b[K     |█████████▋                      | 757kB 17.7MB/s eta 0:00:01\r\u001b[K     |█████████▊                      | 768kB 17.7MB/s eta 0:00:01\r\u001b[K     |█████████▉                      | 778kB 17.7MB/s eta 0:00:01\r\u001b[K     |██████████                      | 788kB 17.7MB/s eta 0:00:01\r\u001b[K     |██████████▏                     | 798kB 17.7MB/s eta 0:00:01\r\u001b[K     |██████████▎                     | 808kB 17.7MB/s eta 0:00:01\r\u001b[K     |██████████▍                     | 819kB 17.7MB/s eta 0:00:01\r\u001b[K     |██████████▌                     | 829kB 17.7MB/s eta 0:00:01\r\u001b[K     |██████████▋                     | 839kB 17.7MB/s eta 0:00:01\r\u001b[K     |██████████▉                     | 849kB 17.7MB/s eta 0:00:01\r\u001b[K     |███████████                     | 860kB 17.7MB/s eta 0:00:01\r\u001b[K     |███████████                     | 870kB 17.7MB/s eta 0:00:01\r\u001b[K     |███████████▏                    | 880kB 17.7MB/s eta 0:00:01\r\u001b[K     |███████████▎                    | 890kB 17.7MB/s eta 0:00:01\r\u001b[K     |███████████▍                    | 901kB 17.7MB/s eta 0:00:01\r\u001b[K     |███████████▋                    | 911kB 17.7MB/s eta 0:00:01\r\u001b[K     |███████████▊                    | 921kB 17.7MB/s eta 0:00:01\r\u001b[K     |███████████▉                    | 931kB 17.7MB/s eta 0:00:01\r\u001b[K     |████████████                    | 942kB 17.7MB/s eta 0:00:01\r\u001b[K     |████████████                    | 952kB 17.7MB/s eta 0:00:01\r\u001b[K     |████████████▏                   | 962kB 17.7MB/s eta 0:00:01\r\u001b[K     |████████████▍                   | 972kB 17.7MB/s eta 0:00:01\r\u001b[K     |████████████▌                   | 983kB 17.7MB/s eta 0:00:01\r\u001b[K     |████████████▋                   | 993kB 17.7MB/s eta 0:00:01\r\u001b[K     |████████████▊                   | 1.0MB 17.7MB/s eta 0:00:01\r\u001b[K     |████████████▉                   | 1.0MB 17.7MB/s eta 0:00:01\r\u001b[K     |█████████████                   | 1.0MB 17.7MB/s eta 0:00:01\r\u001b[K     |█████████████▏                  | 1.0MB 17.7MB/s eta 0:00:01\r\u001b[K     |█████████████▎                  | 1.0MB 17.7MB/s eta 0:00:01\r\u001b[K     |█████████████▍                  | 1.1MB 17.7MB/s eta 0:00:01\r\u001b[K     |█████████████▌                  | 1.1MB 17.7MB/s eta 0:00:01\r\u001b[K     |█████████████▋                  | 1.1MB 17.7MB/s eta 0:00:01\r\u001b[K     |█████████████▊                  | 1.1MB 17.7MB/s eta 0:00:01\r\u001b[K     |██████████████                  | 1.1MB 17.7MB/s eta 0:00:01\r\u001b[K     |██████████████                  | 1.1MB 17.7MB/s eta 0:00:01\r\u001b[K     |██████████████▏                 | 1.1MB 17.7MB/s eta 0:00:01\r\u001b[K     |██████████████▎                 | 1.1MB 17.7MB/s eta 0:00:01\r\u001b[K     |██████████████▍                 | 1.1MB 17.7MB/s eta 0:00:01\r\u001b[K     |██████████████▌                 | 1.1MB 17.7MB/s eta 0:00:01\r\u001b[K     |██████████████▊                 | 1.2MB 17.7MB/s eta 0:00:01\r\u001b[K     |██████████████▉                 | 1.2MB 17.7MB/s eta 0:00:01\r\u001b[K     |███████████████                 | 1.2MB 17.7MB/s eta 0:00:01\r\u001b[K     |███████████████                 | 1.2MB 17.7MB/s eta 0:00:01\r\u001b[K     |███████████████▏                | 1.2MB 17.7MB/s eta 0:00:01\r\u001b[K     |███████████████▎                | 1.2MB 17.7MB/s eta 0:00:01\r\u001b[K     |███████████████▌                | 1.2MB 17.7MB/s eta 0:00:01\r\u001b[K     |███████████████▋                | 1.2MB 17.7MB/s eta 0:00:01\r\u001b[K     |███████████████▊                | 1.2MB 17.7MB/s eta 0:00:01\r\u001b[K     |███████████████▉                | 1.2MB 17.7MB/s eta 0:00:01\r\u001b[K     |████████████████                | 1.3MB 17.7MB/s eta 0:00:01\r\u001b[K     |████████████████                | 1.3MB 17.7MB/s eta 0:00:01\r\u001b[K     |████████████████▎               | 1.3MB 17.7MB/s eta 0:00:01\r\u001b[K     |████████████████▍               | 1.3MB 17.7MB/s eta 0:00:01\r\u001b[K     |████████████████▌               | 1.3MB 17.7MB/s eta 0:00:01\r\u001b[K     |████████████████▋               | 1.3MB 17.7MB/s eta 0:00:01\r\u001b[K     |████████████████▊               | 1.3MB 17.7MB/s eta 0:00:01\r\u001b[K     |████████████████▉               | 1.3MB 17.7MB/s eta 0:00:01\r\u001b[K     |█████████████████               | 1.3MB 17.7MB/s eta 0:00:01\r\u001b[K     |█████████████████▏              | 1.4MB 17.7MB/s eta 0:00:01\r\u001b[K     |█████████████████▎              | 1.4MB 17.7MB/s eta 0:00:01\r\u001b[K     |█████████████████▍              | 1.4MB 17.7MB/s eta 0:00:01\r\u001b[K     |█████████████████▌              | 1.4MB 17.7MB/s eta 0:00:01\r\u001b[K     |█████████████████▋              | 1.4MB 17.7MB/s eta 0:00:01\r\u001b[K     |█████████████████▉              | 1.4MB 17.7MB/s eta 0:00:01\r\u001b[K     |██████████████████              | 1.4MB 17.7MB/s eta 0:00:01\r\u001b[K     |██████████████████              | 1.4MB 17.7MB/s eta 0:00:01\r\u001b[K     |██████████████████▏             | 1.4MB 17.7MB/s eta 0:00:01\r\u001b[K     |██████████████████▎             | 1.4MB 17.7MB/s eta 0:00:01\r\u001b[K     |██████████████████▍             | 1.5MB 17.7MB/s eta 0:00:01\r\u001b[K     |██████████████████▋             | 1.5MB 17.7MB/s eta 0:00:01\r\u001b[K     |██████████████████▊             | 1.5MB 17.7MB/s eta 0:00:01\r\u001b[K     |██████████████████▉             | 1.5MB 17.7MB/s eta 0:00:01\r\u001b[K     |███████████████████             | 1.5MB 17.7MB/s eta 0:00:01\r\u001b[K     |███████████████████             | 1.5MB 17.7MB/s eta 0:00:01\r\u001b[K     |███████████████████▏            | 1.5MB 17.7MB/s eta 0:00:01\r\u001b[K     |███████████████████▍            | 1.5MB 17.7MB/s eta 0:00:01\r\u001b[K     |███████████████████▌            | 1.5MB 17.7MB/s eta 0:00:01\r\u001b[K     |███████████████████▋            | 1.5MB 17.7MB/s eta 0:00:01\r\u001b[K     |███████████████████▊            | 1.6MB 17.7MB/s eta 0:00:01\r\u001b[K     |███████████████████▉            | 1.6MB 17.7MB/s eta 0:00:01\r\u001b[K     |████████████████████            | 1.6MB 17.7MB/s eta 0:00:01\r\u001b[K     |████████████████████▏           | 1.6MB 17.7MB/s eta 0:00:01\r\u001b[K     |████████████████████▎           | 1.6MB 17.7MB/s eta 0:00:01\r\u001b[K     |████████████████████▍           | 1.6MB 17.7MB/s eta 0:00:01\r\u001b[K     |████████████████████▌           | 1.6MB 17.7MB/s eta 0:00:01\r\u001b[K     |████████████████████▋           | 1.6MB 17.7MB/s eta 0:00:01\r\u001b[K     |████████████████████▊           | 1.6MB 17.7MB/s eta 0:00:01\r\u001b[K     |█████████████████████           | 1.6MB 17.7MB/s eta 0:00:01\r\u001b[K     |█████████████████████           | 1.7MB 17.7MB/s eta 0:00:01\r\u001b[K     |█████████████████████▏          | 1.7MB 17.7MB/s eta 0:00:01\r\u001b[K     |█████████████████████▎          | 1.7MB 17.7MB/s eta 0:00:01\r\u001b[K     |█████████████████████▍          | 1.7MB 17.7MB/s eta 0:00:01\r\u001b[K     |█████████████████████▋          | 1.7MB 17.7MB/s eta 0:00:01\r\u001b[K     |█████████████████████▊          | 1.7MB 17.7MB/s eta 0:00:01\r\u001b[K     |█████████████████████▉          | 1.7MB 17.7MB/s eta 0:00:01\r\u001b[K     |██████████████████████          | 1.7MB 17.7MB/s eta 0:00:01\r\u001b[K     |██████████████████████          | 1.7MB 17.7MB/s eta 0:00:01\r\u001b[K     |██████████████████████▏         | 1.8MB 17.7MB/s eta 0:00:01\r\u001b[K     |██████████████████████▍         | 1.8MB 17.7MB/s eta 0:00:01\r\u001b[K     |██████████████████████▌         | 1.8MB 17.7MB/s eta 0:00:01\r\u001b[K     |██████████████████████▋         | 1.8MB 17.7MB/s eta 0:00:01\r\u001b[K     |██████████████████████▊         | 1.8MB 17.7MB/s eta 0:00:01\r\u001b[K     |██████████████████████▉         | 1.8MB 17.7MB/s eta 0:00:01\r\u001b[K     |███████████████████████         | 1.8MB 17.7MB/s eta 0:00:01\r\u001b[K     |███████████████████████▏        | 1.8MB 17.7MB/s eta 0:00:01\r\u001b[K     |███████████████████████▎        | 1.8MB 17.7MB/s eta 0:00:01\r\u001b[K     |███████████████████████▍        | 1.8MB 17.7MB/s eta 0:00:01\r\u001b[K     |███████████████████████▌        | 1.9MB 17.7MB/s eta 0:00:01\r\u001b[K     |███████████████████████▋        | 1.9MB 17.7MB/s eta 0:00:01\r\u001b[K     |███████████████████████▊        | 1.9MB 17.7MB/s eta 0:00:01\r\u001b[K     |████████████████████████        | 1.9MB 17.7MB/s eta 0:00:01\r\u001b[K     |████████████████████████        | 1.9MB 17.7MB/s eta 0:00:01\r\u001b[K     |████████████████████████▏       | 1.9MB 17.7MB/s eta 0:00:01\r\u001b[K     |████████████████████████▎       | 1.9MB 17.7MB/s eta 0:00:01\r\u001b[K     |████████████████████████▍       | 1.9MB 17.7MB/s eta 0:00:01\r\u001b[K     |████████████████████████▌       | 1.9MB 17.7MB/s eta 0:00:01\r\u001b[K     |████████████████████████▊       | 1.9MB 17.7MB/s eta 0:00:01\r\u001b[K     |████████████████████████▉       | 2.0MB 17.7MB/s eta 0:00:01\r\u001b[K     |█████████████████████████       | 2.0MB 17.7MB/s eta 0:00:01\r\u001b[K     |█████████████████████████       | 2.0MB 17.7MB/s eta 0:00:01\r\u001b[K     |█████████████████████████▏      | 2.0MB 17.7MB/s eta 0:00:01\r\u001b[K     |█████████████████████████▎      | 2.0MB 17.7MB/s eta 0:00:01\r\u001b[K     |█████████████████████████▌      | 2.0MB 17.7MB/s eta 0:00:01\r\u001b[K     |█████████████████████████▋      | 2.0MB 17.7MB/s eta 0:00:01\r\u001b[K     |█████████████████████████▊      | 2.0MB 17.7MB/s eta 0:00:01\r\u001b[K     |█████████████████████████▉      | 2.0MB 17.7MB/s eta 0:00:01\r\u001b[K     |██████████████████████████      | 2.0MB 17.7MB/s eta 0:00:01\r\u001b[K     |██████████████████████████      | 2.1MB 17.7MB/s eta 0:00:01\r\u001b[K     |██████████████████████████▎     | 2.1MB 17.7MB/s eta 0:00:01\r\u001b[K     |██████████████████████████▍     | 2.1MB 17.7MB/s eta 0:00:01\r\u001b[K     |██████████████████████████▌     | 2.1MB 17.7MB/s eta 0:00:01\r\u001b[K     |██████████████████████████▋     | 2.1MB 17.7MB/s eta 0:00:01\r\u001b[K     |██████████████████████████▊     | 2.1MB 17.7MB/s eta 0:00:01\r\u001b[K     |██████████████████████████▉     | 2.1MB 17.7MB/s eta 0:00:01\r\u001b[K     |███████████████████████████     | 2.1MB 17.7MB/s eta 0:00:01\r\u001b[K     |███████████████████████████▏    | 2.1MB 17.7MB/s eta 0:00:01\r\u001b[K     |███████████████████████████▎    | 2.2MB 17.7MB/s eta 0:00:01\r\u001b[K     |███████████████████████████▍    | 2.2MB 17.7MB/s eta 0:00:01\r\u001b[K     |███████████████████████████▌    | 2.2MB 17.7MB/s eta 0:00:01\r\u001b[K     |███████████████████████████▋    | 2.2MB 17.7MB/s eta 0:00:01\r\u001b[K     |███████████████████████████▉    | 2.2MB 17.7MB/s eta 0:00:01\r\u001b[K     |████████████████████████████    | 2.2MB 17.7MB/s eta 0:00:01\r\u001b[K     |████████████████████████████    | 2.2MB 17.7MB/s eta 0:00:01\r\u001b[K     |████████████████████████████▏   | 2.2MB 17.7MB/s eta 0:00:01\r\u001b[K     |████████████████████████████▎   | 2.2MB 17.7MB/s eta 0:00:01\r\u001b[K     |████████████████████████████▍   | 2.2MB 17.7MB/s eta 0:00:01\r\u001b[K     |████████████████████████████▋   | 2.3MB 17.7MB/s eta 0:00:01\r\u001b[K     |████████████████████████████▊   | 2.3MB 17.7MB/s eta 0:00:01\r\u001b[K     |████████████████████████████▉   | 2.3MB 17.7MB/s eta 0:00:01\r\u001b[K     |█████████████████████████████   | 2.3MB 17.7MB/s eta 0:00:01\r\u001b[K     |█████████████████████████████   | 2.3MB 17.7MB/s eta 0:00:01\r\u001b[K     |█████████████████████████████▏  | 2.3MB 17.7MB/s eta 0:00:01\r\u001b[K     |█████████████████████████████▍  | 2.3MB 17.7MB/s eta 0:00:01\r\u001b[K     |█████████████████████████████▌  | 2.3MB 17.7MB/s eta 0:00:01\r\u001b[K     |█████████████████████████████▋  | 2.3MB 17.7MB/s eta 0:00:01\r\u001b[K     |█████████████████████████████▊  | 2.3MB 17.7MB/s eta 0:00:01\r\u001b[K     |█████████████████████████████▉  | 2.4MB 17.7MB/s eta 0:00:01\r\u001b[K     |██████████████████████████████  | 2.4MB 17.7MB/s eta 0:00:01\r\u001b[K     |██████████████████████████████▏ | 2.4MB 17.7MB/s eta 0:00:01\r\u001b[K     |██████████████████████████████▎ | 2.4MB 17.7MB/s eta 0:00:01\r\u001b[K     |██████████████████████████████▍ | 2.4MB 17.7MB/s eta 0:00:01\r\u001b[K     |██████████████████████████████▌ | 2.4MB 17.7MB/s eta 0:00:01\r\u001b[K     |██████████████████████████████▋ | 2.4MB 17.7MB/s eta 0:00:01\r\u001b[K     |██████████████████████████████▊ | 2.4MB 17.7MB/s eta 0:00:01\r\u001b[K     |███████████████████████████████ | 2.4MB 17.7MB/s eta 0:00:01\r\u001b[K     |███████████████████████████████ | 2.4MB 17.7MB/s eta 0:00:01\r\u001b[K     |███████████████████████████████▏| 2.5MB 17.7MB/s eta 0:00:01\r\u001b[K     |███████████████████████████████▎| 2.5MB 17.7MB/s eta 0:00:01\r\u001b[K     |███████████████████████████████▍| 2.5MB 17.7MB/s eta 0:00:01\r\u001b[K     |███████████████████████████████▋| 2.5MB 17.7MB/s eta 0:00:01\r\u001b[K     |███████████████████████████████▊| 2.5MB 17.7MB/s eta 0:00:01\r\u001b[K     |███████████████████████████████▉| 2.5MB 17.7MB/s eta 0:00:01\r\u001b[K     |████████████████████████████████| 2.5MB 17.7MB/s eta 0:00:01\r\u001b[K     |████████████████████████████████| 2.5MB 17.7MB/s \n",
            "\u001b[?25hRequirement already satisfied: scipy>=1.3.0 in /usr/local/lib/python3.6/dist-packages (from pyts) (1.4.1)\n",
            "Requirement already satisfied: numba>=0.48.0 in /usr/local/lib/python3.6/dist-packages (from pyts) (0.48.0)\n",
            "Requirement already satisfied: scikit-learn>=0.22.1 in /usr/local/lib/python3.6/dist-packages (from pyts) (0.22.2.post1)\n",
            "Requirement already satisfied: numpy>=1.17.5 in /usr/local/lib/python3.6/dist-packages (from pyts) (1.18.5)\n",
            "Requirement already satisfied: joblib>=0.12 in /usr/local/lib/python3.6/dist-packages (from pyts) (0.17.0)\n",
            "Requirement already satisfied: llvmlite<0.32.0,>=0.31.0dev0 in /usr/local/lib/python3.6/dist-packages (from numba>=0.48.0->pyts) (0.31.0)\n",
            "Requirement already satisfied: setuptools in /usr/local/lib/python3.6/dist-packages (from numba>=0.48.0->pyts) (50.3.2)\n",
            "Installing collected packages: pyts\n",
            "Successfully installed pyts-0.11.0\n"
          ],
          "name": "stdout"
        }
      ]
    },
    {
      "cell_type": "code",
      "metadata": {
        "id": "jMJUyuvGhyVo"
      },
      "source": [
        "import matplotlib.pyplot as plt\n",
        "from mpl_toolkits.axes_grid1 import ImageGrid\n",
        "from pyts.image import GramianAngularField"
      ],
      "execution_count": null,
      "outputs": []
    },
    {
      "cell_type": "code",
      "metadata": {
        "colab": {
          "base_uri": "https://localhost:8080/",
          "height": 372
        },
        "id": "8eG5WJ2GW-r0",
        "outputId": "2b600ead-96ca-4355-b132-422d5a925e72"
      },
      "source": [
        "gasf = GramianAngularField(image_size=20, method='summation')\n",
        "X_gasf = gasf.fit_transform(X_val[:, :, 3])\n",
        "gadf = GramianAngularField(image_size=20, method='difference')\n",
        "X_gadf = gadf.fit_transform(X_val[:, :, 3])\n",
        "\n",
        "# Show the images for the first time series\n",
        "fig = plt.figure(figsize=(8, 4))\n",
        "grid = ImageGrid(fig, 111,\n",
        "                 nrows_ncols=(1, 2),\n",
        "                 axes_pad=0.15,\n",
        "                 share_all=True,\n",
        "                 cbar_location=\"right\",\n",
        "                 cbar_mode=\"single\",\n",
        "                 cbar_size=\"7%\",\n",
        "                 cbar_pad=0.3,\n",
        "                 )\n",
        "images = [X_gasf[0], X_gadf[0]]\n",
        "titles = ['Summation', 'Difference']\n",
        "for image, title, ax in zip(images, titles, grid):\n",
        "    im = ax.imshow(image, cmap='rainbow', origin='lower')\n",
        "    ax.set_title(title, fontdict={'fontsize': 12})\n",
        "ax.cax.colorbar(im)\n",
        "ax.cax.toggle_label(True)\n",
        "plt.suptitle('Gramian Angular Fields', y=0.98, fontsize=16)\n",
        "plt.show()"
      ],
      "execution_count": null,
      "outputs": [
        {
          "output_type": "stream",
          "text": [
            "/usr/local/lib/python3.6/dist-packages/ipykernel_launcher.py:22: MatplotlibDeprecationWarning: Since 3.2, mpl_toolkits's own colorbar implementation is deprecated; it will be removed two minor releases later.  Set the 'mpl_toolkits.legacy_colorbar' rcParam to False to use Matplotlib's default colorbar implementation and suppress this deprecation warning.\n",
            "/usr/local/lib/python3.6/dist-packages/mpl_toolkits/axes_grid1/axes_grid.py:51: MatplotlibDeprecationWarning: \n",
            "The mpl_toolkits.axes_grid1.colorbar module was deprecated in Matplotlib 3.2 and will be removed two minor releases later. Use matplotlib.colorbar instead.\n",
            "  from .colorbar import Colorbar\n"
          ],
          "name": "stderr"
        },
        {
          "output_type": "display_data",
          "data": {
            "image/png": "[encoded data removed]",
            "text/plain": [
              "<Figure size 576x288 with 4 Axes>"
            ]
          },
          "metadata": {
            "tags": [],
            "needs_background": "light"
          }
        }
      ]
    },
    {
      "cell_type": "code",
      "metadata": {
        "id": "mi1aJ5Q061M4"
      },
      "source": [
        "gadf = GramianAngularField(image_size=20, method='difference')"
      ],
      "execution_count": null,
      "outputs": []
    },
    {
      "cell_type": "code",
      "metadata": {
        "id": "uowt0MWTfdwh"
      },
      "source": [
        "X_train_gadf = gadf.fit_transform(X_train_undersampled[:, :, 3])\n",
        "X_val_gadf = gadf.fit_transform(X_val[:, :, 3])\n",
        "X_test_gadf = gadf.fit_transform(X_test[:, :, 3])"
      ],
      "execution_count": null,
      "outputs": []
    },
    {
      "cell_type": "code",
      "metadata": {
        "colab": {
          "base_uri": "https://localhost:8080/",
          "height": 338
        },
        "id": "l5XoVITl7Mcp",
        "outputId": "c0af44d5-172e-4536-8442-df8a269ca078"
      },
      "source": [
        "fig = plt.figure(figsize=(8, 4))\n",
        "grid = ImageGrid(fig, 111,\n",
        "                 nrows_ncols=(1, 2),\n",
        "                 axes_pad=0.15,\n",
        "                 share_all=True,\n",
        "                 cbar_location=\"right\",\n",
        "                 cbar_mode=\"single\",\n",
        "                 cbar_size=\"7%\",\n",
        "                 cbar_pad=0.3,\n",
        "                 )\n",
        "images = [X_train_gadf[0], X_test_gadf[0]]\n",
        "titles = ['Train', 'Test']\n",
        "for image, title, ax in zip(images, titles, grid):\n",
        "    im = ax.imshow(image, cmap='rainbow', origin='lower')\n",
        "    ax.set_title(title, fontdict={'fontsize': 12})\n",
        "ax.cax.colorbar(im)\n",
        "ax.cax.toggle_label(True)\n",
        "plt.suptitle('Gramian Angular Fields', y=0.98, fontsize=16)\n",
        "plt.show()"
      ],
      "execution_count": null,
      "outputs": [
        {
          "output_type": "stream",
          "text": [
            "/usr/local/lib/python3.6/dist-packages/ipykernel_launcher.py:16: MatplotlibDeprecationWarning: Since 3.2, mpl_toolkits's own colorbar implementation is deprecated; it will be removed two minor releases later.  Set the 'mpl_toolkits.legacy_colorbar' rcParam to False to use Matplotlib's default colorbar implementation and suppress this deprecation warning.\n",
            "  app.launch_new_instance()\n"
          ],
          "name": "stderr"
        },
        {
          "output_type": "display_data",
          "data": {
            "image/png": "[encoded data removed]",
            "text/plain": [
              "<Figure size 576x288 with 4 Axes>"
            ]
          },
          "metadata": {
            "tags": [],
            "needs_background": "light"
          }
        }
      ]
    },
    {
      "cell_type": "code",
      "metadata": {
        "id": "hmNXSTXn6DKh"
      },
      "source": [
        "train_dataset = torch.utils.data.TensorDataset(torch.tensor(X_train_gadf).reshape(-1, 1, 20, 20).float().cuda(), y_train_undersampled.cuda())\n",
        "val_dataset = torch.utils.data.TensorDataset(torch.tensor(X_val_gadf).reshape(-1, 1, 20, 20).float().cuda(), y_val.cuda())\n",
        "test_dataset = torch.utils.data.TensorDataset(torch.tensor(X_test_gadf).reshape(-1, 1, 20, 20).float().cuda())\n",
        "\n",
        "test_loader = torch.utils.data.DataLoader(dataset=test_dataset, \n",
        "                                           batch_size=256, \n",
        "                                           shuffle=False)"
      ],
      "execution_count": null,
      "outputs": []
    },
    {
      "cell_type": "code",
      "metadata": {
        "id": "8EO-c84z8aGW"
      },
      "source": [
        "from tqdm import tqdm, tqdm_notebook\n",
        "from sklearn.preprocessing import LabelEncoder\n",
        "from torch.utils.data import Dataset, DataLoader\n",
        "import torch.nn as nn\n",
        "import torch\n",
        "import torch.optim as optim\n",
        "from torch.optim import lr_scheduler\n",
        "import torchvision\n",
        "from torchvision import datasets, models, transforms\n",
        "import time"
      ],
      "execution_count": null,
      "outputs": []
    },
    {
      "cell_type": "code",
      "metadata": {
        "id": "cKM1Ix2m9HaS"
      },
      "source": [
        "DEVICE = torch.device(\"cuda\")\n",
        "use_gpu = True"
      ],
      "execution_count": null,
      "outputs": []
    },
    {
      "cell_type": "code",
      "metadata": {
        "id": "jWMoj3M73Khq"
      },
      "source": [
        "import torch.nn.functional as F  # Functional\n",
        "class ModelCnn(nn.Module):\n",
        "  \n",
        "    def __init__(self, n_classes):\n",
        "        \n",
        "        super().__init__()\n",
        "        \n",
        "        self.conv1 = nn.Sequential(\n",
        "            nn.Conv2d(in_channels=1, out_channels=32, kernel_size=4, stride=2),\n",
        "            nn.ReLU(),\n",
        "            #nn.MaxPool2d(kernel_size=2, stride=1)\n",
        "        )\n",
        "        self.conv2 = nn.Sequential(\n",
        "            nn.Conv2d(in_channels=32, out_channels=64, kernel_size=3, stride=2),\n",
        "            nn.BatchNorm2d(64),\n",
        "            nn.ReLU(),\n",
        "            #nn.MaxPool2d(kernel_size=3, stride=1)\n",
        "        )\n",
        "        self.conv3 = nn.Sequential(\n",
        "            nn.Conv2d(in_channels=64, out_channels=128, kernel_size=3, stride=1),\n",
        "            nn.BatchNorm2d(128),\n",
        "            nn.ReLU(),\n",
        "        )\n",
        "        \n",
        "        self.fc1 = nn.Sequential(\n",
        "            nn.Linear(2 * 2 * 128, 1024),\n",
        "            nn.BatchNorm1d(1024),\n",
        "            nn.ReLU(),\n",
        "        )\n",
        "        self.fc2 = nn.Sequential(\n",
        "            nn.Linear(1024, 1024),\n",
        "            nn.BatchNorm1d(1024),\n",
        "            nn.ReLU()\n",
        "        )\n",
        "        \n",
        "        self.fc3 = nn.Sequential(\n",
        "            nn.Linear(1024, 1024),\n",
        "            nn.BatchNorm1d(1024),\n",
        "            nn.ReLU()\n",
        "        )\n",
        "        \n",
        "        self.fc4 = nn.Sequential(\n",
        "            nn.Linear(1024, n_classes)\n",
        "        )  \n",
        "\n",
        "  \n",
        "    def forward(self, x):\n",
        "        \n",
        "        x = self.conv1(x)\n",
        "        x = self.conv2(x)\n",
        "        x = self.conv3(x)\n",
        "        #x = self.conv4(x)\n",
        "        #x = self.conv5(x)\n",
        "        \n",
        "\n",
        "        #x = F.interpolate(x, size=(2, 2), mode='bilinear')  # resize to the size expected by the linear unit\n",
        "        x = x.view(x.size(0), 2 * 2 * 128)\n",
        "    \n",
        "        x = self.fc1(x)\n",
        "        x = self.fc2(x)\n",
        "        x = self.fc3(x)\n",
        "        \n",
        "        x = self.fc4(x)\n",
        "        \n",
        "        return x"
      ],
      "execution_count": null,
      "outputs": []
    },
    {
      "cell_type": "code",
      "metadata": {
        "id": "ouybi1wYUdrN"
      },
      "source": [
        "def fit_epoch(model, train_loader, criterion, optimizer):\n",
        "    running_loss = 0.0\n",
        "    running_corrects = 0\n",
        "    processed_data = 0\n",
        "  \n",
        "    for inputs, labels in train_loader:\n",
        "        inputs = inputs.to(DEVICE)\n",
        "        labels = labels.to(DEVICE)\n",
        "        optimizer.zero_grad()\n",
        "\n",
        "        outputs = model(inputs)\n",
        "        loss = criterion(outputs, labels)\n",
        "        loss.backward()\n",
        "        optimizer.step()\n",
        "        preds = torch.argmax(outputs, 1)\n",
        "        running_loss += loss.item() * inputs.size(0)\n",
        "        running_corrects += torch.sum(preds == labels.data)\n",
        "        processed_data += inputs.size(0)\n",
        "              \n",
        "    train_loss = running_loss / processed_data\n",
        "    train_acc = running_corrects.cpu().numpy() / processed_data\n",
        "    return train_loss, train_acc"
      ],
      "execution_count": null,
      "outputs": []
    },
    {
      "cell_type": "code",
      "metadata": {
        "id": "bnd_X0IVUdtu"
      },
      "source": [
        "def eval_epoch(model, val_loader, criterion):\n",
        "    model.eval()\n",
        "    running_loss = 0.0\n",
        "    running_corrects = 0\n",
        "    processed_size = 0\n",
        "\n",
        "    for inputs, labels in val_loader:\n",
        "        inputs = inputs.to(DEVICE)\n",
        "        labels = labels.to(DEVICE)\n",
        "\n",
        "        with torch.set_grad_enabled(False):\n",
        "            outputs = model(inputs)\n",
        "            loss = criterion(outputs, labels)\n",
        "            preds = torch.argmax(outputs, 1)\n",
        "\n",
        "        running_loss += loss.item() * inputs.size(0)\n",
        "        running_corrects += torch.sum(preds == labels.data)\n",
        "        processed_size += inputs.size(0)\n",
        "    val_loss = running_loss / processed_size\n",
        "    val_acc = running_corrects.double() / processed_size\n",
        "    return val_loss, val_acc"
      ],
      "execution_count": null,
      "outputs": []
    },
    {
      "cell_type": "code",
      "metadata": {
        "id": "2-6bT4wmUdwr"
      },
      "source": [
        "def train(train_files, val_files, model, epochs, batch_size):\n",
        "    train_loader = DataLoader(dataset=train_files, \n",
        "                                           batch_size=batch_size, \n",
        "                                           shuffle=False)\n",
        "    val_loader = DataLoader(dataset=val_files, \n",
        "                                           batch_size=batch_size, \n",
        "                                           shuffle=False)\n",
        "    \n",
        "\n",
        "    #dataset_sizes = {'train': len(new_train_dataset), 'val':len(val_dataset) }\n",
        "\n",
        "    history = []\n",
        "    log_template = \"\\nEpoch {ep:03d} train_loss: {t_loss:0.4f} \\\n",
        "    val_loss {v_loss:0.4f} train_acc {t_acc:0.4f} val_acc {v_acc:0.4f}\"\n",
        "\n",
        "    with tqdm(desc=\"epoch\", total=epochs) as pbar_outer:\n",
        "        opt = torch.optim.AdamW(model.parameters(), lr=0.001)\n",
        "        scheduler = torch.optim.lr_scheduler.ReduceLROnPlateau(opt)\n",
        "        criterion = nn.CrossEntropyLoss()\n",
        "\n",
        "        for epoch in range(epochs):\n",
        "            train_loss, train_acc = fit_epoch(model, train_loader, criterion, opt)\n",
        "            print(\"loss\", train_loss)\n",
        "            \n",
        "            val_loss, val_acc = eval_epoch(model, val_loader, criterion)\n",
        "            history.append((train_loss, train_acc, val_loss, val_acc))\n",
        "            \n",
        "            pbar_outer.update(1)\n",
        "            tqdm.write(log_template.format(ep=epoch+1, t_loss=train_loss,\\\n",
        "                                           v_loss=val_loss, t_acc=train_acc, v_acc=val_acc))\n",
        "            scheduler.step(val_loss)\n",
        "            \n",
        "    return history"
      ],
      "execution_count": null,
      "outputs": []
    },
    {
      "cell_type": "code",
      "metadata": {
        "id": "lyS2_hrlUdz8"
      },
      "source": [
        "def predict(model, test_loader):\n",
        "    with torch.no_grad():\n",
        "        logits = []\n",
        "    \n",
        "        for inputs in test_loader:\n",
        "            inputs = inputs[0].to(DEVICE)\n",
        "            model.eval()\n",
        "            outputs = model(inputs).cpu()\n",
        "            logits.append(outputs)\n",
        "            \n",
        "    probs = nn.functional.softmax(torch.cat(logits), dim=-1).numpy()\n",
        "    return probs"
      ],
      "execution_count": null,
      "outputs": []
    },
    {
      "cell_type": "code",
      "metadata": {
        "id": "yLAELwt33Q3v"
      },
      "source": [
        "model_cnn = ModelCnn(3).to(DEVICE) "
      ],
      "execution_count": null,
      "outputs": []
    },
    {
      "cell_type": "markdown",
      "metadata": {
        "id": "bo3UND5RdgVg"
      },
      "source": [
        "Запустим обучение сети."
      ]
    },
    {
      "cell_type": "code",
      "metadata": {
        "id": "iDXoR8PIdfLD",
        "colab": {
          "base_uri": "https://localhost:8080/"
        },
        "outputId": "0ddf7d20-3af7-449d-c44b-5ef3e69ab90a"
      },
      "source": [
        "history = train(train_dataset, val_dataset, model=model_cnn, epochs=30, batch_size=256)"
      ],
      "execution_count": null,
      "outputs": [
        {
          "output_type": "stream",
          "text": [
            "\repoch:   0%|          | 0/30 [00:00<?, ?it/s]"
          ],
          "name": "stderr"
        },
        {
          "output_type": "stream",
          "text": [
            "loss 1.1028608742392196\n"
          ],
          "name": "stdout"
        },
        {
          "output_type": "stream",
          "text": [
            "epoch:   3%|▎         | 1/30 [00:21<10:19, 21.36s/it]"
          ],
          "name": "stderr"
        },
        {
          "output_type": "stream",
          "text": [
            "\n",
            "Epoch 001 train_loss: 1.1029     val_loss 1.1455 train_acc 0.3939 val_acc 0.3212\n",
            "loss 1.0892532090382512\n"
          ],
          "name": "stdout"
        },
        {
          "output_type": "stream",
          "text": [
            "epoch:   7%|▋         | 2/30 [00:42<09:53, 21.20s/it]"
          ],
          "name": "stderr"
        },
        {
          "output_type": "stream",
          "text": [
            "\n",
            "Epoch 002 train_loss: 1.0893     val_loss 1.1288 train_acc 0.3990 val_acc 0.2940\n",
            "loss 1.0882844972576948\n"
          ],
          "name": "stdout"
        },
        {
          "output_type": "stream",
          "text": [
            "epoch:  10%|█         | 3/30 [01:02<09:26, 20.99s/it]"
          ],
          "name": "stderr"
        },
        {
          "output_type": "stream",
          "text": [
            "\n",
            "Epoch 003 train_loss: 1.0883     val_loss 1.1154 train_acc 0.3999 val_acc 0.3416\n",
            "loss 1.0872497482048171\n"
          ],
          "name": "stdout"
        },
        {
          "output_type": "stream",
          "text": [
            "epoch:  13%|█▎        | 4/30 [01:23<09:00, 20.80s/it]"
          ],
          "name": "stderr"
        },
        {
          "output_type": "stream",
          "text": [
            "\n",
            "Epoch 004 train_loss: 1.0872     val_loss 1.1285 train_acc 0.4010 val_acc 0.3056\n",
            "loss 1.086559078159547\n"
          ],
          "name": "stdout"
        },
        {
          "output_type": "stream",
          "text": [
            "epoch:  17%|█▋        | 5/30 [01:43<08:37, 20.69s/it]"
          ],
          "name": "stderr"
        },
        {
          "output_type": "stream",
          "text": [
            "\n",
            "Epoch 005 train_loss: 1.0866     val_loss 1.1025 train_acc 0.4021 val_acc 0.3765\n",
            "loss 1.0855873537747276\n"
          ],
          "name": "stdout"
        },
        {
          "output_type": "stream",
          "text": [
            "epoch:  20%|██        | 6/30 [02:03<08:15, 20.63s/it]"
          ],
          "name": "stderr"
        },
        {
          "output_type": "stream",
          "text": [
            "\n",
            "Epoch 006 train_loss: 1.0856     val_loss 1.1058 train_acc 0.4041 val_acc 0.3572\n",
            "loss 1.084879171206201\n"
          ],
          "name": "stdout"
        },
        {
          "output_type": "stream",
          "text": [
            "epoch:  23%|██▎       | 7/30 [02:24<07:53, 20.58s/it]"
          ],
          "name": "stderr"
        },
        {
          "output_type": "stream",
          "text": [
            "\n",
            "Epoch 007 train_loss: 1.0849     val_loss 1.1139 train_acc 0.4055 val_acc 0.3533\n",
            "loss 1.0836230151953117\n"
          ],
          "name": "stdout"
        },
        {
          "output_type": "stream",
          "text": [
            "epoch:  27%|██▋       | 8/30 [02:44<07:31, 20.53s/it]"
          ],
          "name": "stderr"
        },
        {
          "output_type": "stream",
          "text": [
            "\n",
            "Epoch 008 train_loss: 1.0836     val_loss 1.1157 train_acc 0.4075 val_acc 0.3482\n",
            "loss 1.0817679971233676\n"
          ],
          "name": "stdout"
        },
        {
          "output_type": "stream",
          "text": [
            "epoch:  30%|███       | 9/30 [03:05<07:11, 20.55s/it]"
          ],
          "name": "stderr"
        },
        {
          "output_type": "stream",
          "text": [
            "\n",
            "Epoch 009 train_loss: 1.0818     val_loss 1.1168 train_acc 0.4102 val_acc 0.3513\n",
            "loss 1.0794659305357148\n"
          ],
          "name": "stdout"
        },
        {
          "output_type": "stream",
          "text": [
            "epoch:  33%|███▎      | 10/30 [03:25<06:50, 20.51s/it]"
          ],
          "name": "stderr"
        },
        {
          "output_type": "stream",
          "text": [
            "\n",
            "Epoch 010 train_loss: 1.0795     val_loss 1.1248 train_acc 0.4140 val_acc 0.3492\n",
            "loss 1.0762465389839517\n"
          ],
          "name": "stdout"
        },
        {
          "output_type": "stream",
          "text": [
            "epoch:  37%|███▋      | 11/30 [03:46<06:29, 20.49s/it]"
          ],
          "name": "stderr"
        },
        {
          "output_type": "stream",
          "text": [
            "\n",
            "Epoch 011 train_loss: 1.0762     val_loss 1.1333 train_acc 0.4189 val_acc 0.3368\n",
            "loss 1.0715114595382877\n"
          ],
          "name": "stdout"
        },
        {
          "output_type": "stream",
          "text": [
            "epoch:  40%|████      | 12/30 [04:06<06:08, 20.47s/it]"
          ],
          "name": "stderr"
        },
        {
          "output_type": "stream",
          "text": [
            "\n",
            "Epoch 012 train_loss: 1.0715     val_loss 1.1377 train_acc 0.4255 val_acc 0.3316\n",
            "loss 1.064813654992413\n"
          ],
          "name": "stdout"
        },
        {
          "output_type": "stream",
          "text": [
            "epoch:  43%|████▎     | 13/30 [04:27<05:47, 20.44s/it]"
          ],
          "name": "stderr"
        },
        {
          "output_type": "stream",
          "text": [
            "\n",
            "Epoch 013 train_loss: 1.0648     val_loss 1.1412 train_acc 0.4330 val_acc 0.3250\n",
            "loss 1.0555936067929785\n"
          ],
          "name": "stdout"
        },
        {
          "output_type": "stream",
          "text": [
            "epoch:  47%|████▋     | 14/30 [04:47<05:27, 20.48s/it]"
          ],
          "name": "stderr"
        },
        {
          "output_type": "stream",
          "text": [
            "\n",
            "Epoch 014 train_loss: 1.0556     val_loss 1.1563 train_acc 0.4432 val_acc 0.3215\n",
            "loss 1.0440416870200373\n"
          ],
          "name": "stdout"
        },
        {
          "output_type": "stream",
          "text": [
            "epoch:  50%|█████     | 15/30 [05:08<05:07, 20.51s/it]"
          ],
          "name": "stderr"
        },
        {
          "output_type": "stream",
          "text": [
            "\n",
            "Epoch 015 train_loss: 1.0440     val_loss 1.1671 train_acc 0.4538 val_acc 0.3270\n",
            "loss 1.0304053322565385\n"
          ],
          "name": "stdout"
        },
        {
          "output_type": "stream",
          "text": [
            "epoch:  53%|█████▎    | 16/30 [05:28<04:45, 20.42s/it]"
          ],
          "name": "stderr"
        },
        {
          "output_type": "stream",
          "text": [
            "\n",
            "Epoch 016 train_loss: 1.0304     val_loss 1.1820 train_acc 0.4654 val_acc 0.3361\n",
            "loss 1.0640530962283545\n"
          ],
          "name": "stdout"
        },
        {
          "output_type": "stream",
          "text": [
            "epoch:  57%|█████▋    | 17/30 [05:48<04:25, 20.41s/it]"
          ],
          "name": "stderr"
        },
        {
          "output_type": "stream",
          "text": [
            "\n",
            "Epoch 017 train_loss: 1.0641     val_loss 1.0796 train_acc 0.4299 val_acc 0.4221\n",
            "loss 1.050695256941874\n"
          ],
          "name": "stdout"
        },
        {
          "output_type": "stream",
          "text": [
            "epoch:  60%|██████    | 18/30 [06:09<04:04, 20.36s/it]"
          ],
          "name": "stderr"
        },
        {
          "output_type": "stream",
          "text": [
            "\n",
            "Epoch 018 train_loss: 1.0507     val_loss 1.0795 train_acc 0.4445 val_acc 0.4256\n",
            "loss 1.0399895998155804\n"
          ],
          "name": "stdout"
        },
        {
          "output_type": "stream",
          "text": [
            "epoch:  63%|██████▎   | 19/30 [06:29<03:42, 20.23s/it]"
          ],
          "name": "stderr"
        },
        {
          "output_type": "stream",
          "text": [
            "\n",
            "Epoch 019 train_loss: 1.0400     val_loss 1.0851 train_acc 0.4550 val_acc 0.4236\n",
            "loss 1.0296147761271806\n"
          ],
          "name": "stdout"
        },
        {
          "output_type": "stream",
          "text": [
            "epoch:  67%|██████▋   | 20/30 [06:48<03:21, 20.13s/it]"
          ],
          "name": "stderr"
        },
        {
          "output_type": "stream",
          "text": [
            "\n",
            "Epoch 020 train_loss: 1.0296     val_loss 1.0906 train_acc 0.4647 val_acc 0.4232\n",
            "loss 1.0191329415989667\n"
          ],
          "name": "stdout"
        },
        {
          "output_type": "stream",
          "text": [
            "epoch:  70%|███████   | 21/30 [07:08<03:00, 20.06s/it]"
          ],
          "name": "stderr"
        },
        {
          "output_type": "stream",
          "text": [
            "\n",
            "Epoch 021 train_loss: 1.0191     val_loss 1.0962 train_acc 0.4736 val_acc 0.4248\n",
            "loss 1.0084064684631142\n"
          ],
          "name": "stdout"
        },
        {
          "output_type": "stream",
          "text": [
            "epoch:  73%|███████▎  | 22/30 [07:28<02:40, 20.10s/it]"
          ],
          "name": "stderr"
        },
        {
          "output_type": "stream",
          "text": [
            "\n",
            "Epoch 022 train_loss: 1.0084     val_loss 1.1040 train_acc 0.4823 val_acc 0.4255\n",
            "loss 0.9972409406362209\n"
          ],
          "name": "stdout"
        },
        {
          "output_type": "stream",
          "text": [
            "epoch:  77%|███████▋  | 23/30 [07:49<02:20, 20.08s/it]"
          ],
          "name": "stderr"
        },
        {
          "output_type": "stream",
          "text": [
            "\n",
            "Epoch 023 train_loss: 0.9972     val_loss 1.1132 train_acc 0.4912 val_acc 0.4279\n",
            "loss 0.9856177480692191\n"
          ],
          "name": "stdout"
        },
        {
          "output_type": "stream",
          "text": [
            "epoch:  80%|████████  | 24/30 [08:08<02:00, 20.02s/it]"
          ],
          "name": "stderr"
        },
        {
          "output_type": "stream",
          "text": [
            "\n",
            "Epoch 024 train_loss: 0.9856     val_loss 1.1263 train_acc 0.5002 val_acc 0.4292\n",
            "loss 0.9735213087483953\n"
          ],
          "name": "stdout"
        },
        {
          "output_type": "stream",
          "text": [
            "epoch:  83%|████████▎ | 25/30 [08:28<01:39, 19.98s/it]"
          ],
          "name": "stderr"
        },
        {
          "output_type": "stream",
          "text": [
            "\n",
            "Epoch 025 train_loss: 0.9735     val_loss 1.1405 train_acc 0.5089 val_acc 0.4317\n",
            "loss 0.9607321994174215\n"
          ],
          "name": "stdout"
        },
        {
          "output_type": "stream",
          "text": [
            "epoch:  87%|████████▋ | 26/30 [08:48<01:19, 19.95s/it]"
          ],
          "name": "stderr"
        },
        {
          "output_type": "stream",
          "text": [
            "\n",
            "Epoch 026 train_loss: 0.9607     val_loss 1.1583 train_acc 0.5175 val_acc 0.4339\n",
            "loss 0.947373371641824\n"
          ],
          "name": "stdout"
        },
        {
          "output_type": "stream",
          "text": [
            "epoch:  90%|█████████ | 27/30 [09:08<00:59, 19.92s/it]"
          ],
          "name": "stderr"
        },
        {
          "output_type": "stream",
          "text": [
            "\n",
            "Epoch 027 train_loss: 0.9474     val_loss 1.1784 train_acc 0.5261 val_acc 0.4356\n",
            "loss 0.933307550121385\n"
          ],
          "name": "stdout"
        },
        {
          "output_type": "stream",
          "text": [
            "epoch:  93%|█████████▎| 28/30 [09:28<00:39, 19.98s/it]"
          ],
          "name": "stderr"
        },
        {
          "output_type": "stream",
          "text": [
            "\n",
            "Epoch 028 train_loss: 0.9333     val_loss 1.2049 train_acc 0.5350 val_acc 0.4389\n",
            "loss 1.0251684843714242\n"
          ],
          "name": "stdout"
        },
        {
          "output_type": "stream",
          "text": [
            "epoch:  97%|█████████▋| 29/30 [09:48<00:20, 20.06s/it]"
          ],
          "name": "stderr"
        },
        {
          "output_type": "stream",
          "text": [
            "\n",
            "Epoch 029 train_loss: 1.0252     val_loss 1.0136 train_acc 0.4749 val_acc 0.5117\n",
            "loss 0.9993842486446786\n"
          ],
          "name": "stdout"
        },
        {
          "output_type": "stream",
          "text": [
            "epoch: 100%|██████████| 30/30 [10:08<00:00, 20.30s/it]"
          ],
          "name": "stderr"
        },
        {
          "output_type": "stream",
          "text": [
            "\n",
            "Epoch 030 train_loss: 0.9994     val_loss 1.0170 train_acc 0.4892 val_acc 0.5092\n"
          ],
          "name": "stdout"
        },
        {
          "output_type": "stream",
          "text": [
            "\n"
          ],
          "name": "stderr"
        }
      ]
    },
    {
      "cell_type": "code",
      "metadata": {
        "id": "6bTbMVBflJZQ"
      },
      "source": [
        ""
      ],
      "execution_count": null,
      "outputs": []
    },
    {
      "cell_type": "code",
      "metadata": {
        "id": "hAlrfXhMmcqY"
      },
      "source": [
        "torch.save(model_cnn.state_dict(), '/content/drive/MyDrive/GADF_CNN.pth')"
      ],
      "execution_count": null,
      "outputs": []
    },
    {
      "cell_type": "code",
      "metadata": {
        "colab": {
          "base_uri": "https://localhost:8080/"
        },
        "id": "28WYcBjWoFKA",
        "outputId": "0a0d8f9b-b109-4d7c-8d08-b5dc085c44e6"
      },
      "source": [
        "model_cnn.load_state_dict(torch.load('/content/drive/MyDrive/GADF_CNN.pth'))"
      ],
      "execution_count": null,
      "outputs": [
        {
          "output_type": "execute_result",
          "data": {
            "text/plain": [
              "<All keys matched successfully>"
            ]
          },
          "metadata": {
            "tags": []
          },
          "execution_count": 69
        }
      ]
    },
    {
      "cell_type": "code",
      "metadata": {
        "id": "ogMKLpINpV_q"
      },
      "source": [
        ""
      ],
      "execution_count": null,
      "outputs": []
    },
    {
      "cell_type": "code",
      "metadata": {
        "id": "gslxMft1VCmw"
      },
      "source": [
        "loss, acc, val_loss, val_acc = zip(*history)"
      ],
      "execution_count": null,
      "outputs": []
    },
    {
      "cell_type": "code",
      "metadata": {
        "colab": {
          "base_uri": "https://localhost:8080/",
          "height": 551
        },
        "id": "Y4dtvd5tVCmw",
        "outputId": "9719d51c-bdc5-4daa-a6a0-ebdde4047060"
      },
      "source": [
        "plt.figure(figsize=(15, 9))\n",
        "plt.plot(acc, label=\"train_acc\")\n",
        "plt.plot(val_acc, label=\"val_acc\")\n",
        "plt.legend(loc='best')\n",
        "plt.xlabel(\"epochs\")\n",
        "plt.ylabel(\"acc\")\n",
        "plt.show()"
      ],
      "execution_count": null,
      "outputs": [
        {
          "output_type": "display_data",
          "data": {
            "image/png": "[encoded data removed]",
            "text/plain": [
              "<Figure size 1080x648 with 1 Axes>"
            ]
          },
          "metadata": {
            "tags": [],
            "needs_background": "light"
          }
        }
      ]
    },
    {
      "cell_type": "code",
      "metadata": {
        "id": "r3omopPnpw7B"
      },
      "source": [
        "y_prob = predict(model_cnn, test_loader)"
      ],
      "execution_count": null,
      "outputs": []
    },
    {
      "cell_type": "code",
      "metadata": {
        "id": "Smdc1-W2nNlH"
      },
      "source": [
        "y_pred = np.argmax(predict(model_cnn, test_loader), axis=1)"
      ],
      "execution_count": null,
      "outputs": []
    },
    {
      "cell_type": "code",
      "metadata": {
        "id": "jSIZTi63MVxM"
      },
      "source": [
        "from sklearn.metrics import confusion_matrix, accuracy_score, f1_score"
      ],
      "execution_count": null,
      "outputs": []
    },
    {
      "cell_type": "code",
      "metadata": {
        "id": "ysef-vownrTC"
      },
      "source": [
        "def plot_confusion_matrix(cm, classes,\n",
        "                          normalize=False,\n",
        "                          title='Confusion matrix',\n",
        "                          cmap=plt.cm.Blues):\n",
        "    \"\"\"\n",
        "    This function prints and plots the confusion matrix.\n",
        "    Normalization can be applied by setting `normalize=True`.\n",
        "    \"\"\"\n",
        "    import itertools\n",
        "    if normalize:\n",
        "        cm = cm.astype('float') / cm.sum(axis=1)[:, np.newaxis]\n",
        "        print(\"Normalized confusion matrix\")\n",
        "    else:\n",
        "        print('Confusion matrix, without normalization')\n",
        "\n",
        "    print(cm)\n",
        "\n",
        "    plt.imshow(cm, interpolation='nearest', cmap=cmap)\n",
        "    plt.title(title)\n",
        "    plt.colorbar()\n",
        "    tick_marks = np.arange(len(classes))\n",
        "    plt.xticks(tick_marks, classes, rotation=45)\n",
        "    plt.yticks(tick_marks, classes)\n",
        "\n",
        "    fmt = '.2f' if normalize else 'd'\n",
        "    thresh = cm.max() / 2.\n",
        "    for i, j in itertools.product(range(cm.shape[0]), range(cm.shape[1])):\n",
        "        plt.text(j, i, format(cm[i, j], fmt),\n",
        "                 horizontalalignment=\"center\",\n",
        "                 color=\"white\" if cm[i, j] > thresh else \"black\")\n",
        "\n",
        "    plt.ylabel('True label')\n",
        "    plt.xlabel('Predicted label')\n",
        "    plt.tight_layout()"
      ],
      "execution_count": null,
      "outputs": []
    },
    {
      "cell_type": "code",
      "metadata": {
        "id": "we1l-eCoqiIW",
        "colab": {
          "base_uri": "https://localhost:8080/",
          "height": 364
        },
        "outputId": "127e83a1-63f0-4ac2-879f-c52890757660"
      },
      "source": [
        "cnf_matrix = confusion_matrix(y_test, y_pred, labels=[0, 1, 2])\n",
        "np.set_printoptions(precision=2)\n",
        "\n",
        "# Plot non-normalized confusion matrix\n",
        "plt.figure()\n",
        "plot_confusion_matrix(cnf_matrix, normalize=False, classes=['Fair', 'Rise', 'Fall'],\n",
        "                      title='Confusion matrix, without normalization')"
      ],
      "execution_count": null,
      "outputs": [
        {
          "output_type": "stream",
          "text": [
            "Confusion matrix, without normalization\n",
            "[[84620 27032 34295]\n",
            " [25092  9971 11012]\n",
            " [22250  7424 13526]]\n"
          ],
          "name": "stdout"
        },
        {
          "output_type": "display_data",
          "data": {
            "image/png": "[encoded data removed]",
            "text/plain": [
              "<Figure size 432x288 with 2 Axes>"
            ]
          },
          "metadata": {
            "tags": [],
            "needs_background": "light"
          }
        }
      ]
    },
    {
      "cell_type": "code",
      "metadata": {
        "colab": {
          "base_uri": "https://localhost:8080/"
        },
        "id": "GGkfLZRurQG-",
        "outputId": "7e6f0294-679d-4c70-fc23-7a71758fb822"
      },
      "source": [
        "accuracy_score(y_test, y_pred)"
      ],
      "execution_count": null,
      "outputs": [
        {
          "output_type": "execute_result",
          "data": {
            "text/plain": [
              "0.45963812908656504"
            ]
          },
          "metadata": {
            "tags": []
          },
          "execution_count": 75
        }
      ]
    },
    {
      "cell_type": "code",
      "metadata": {
        "colab": {
          "base_uri": "https://localhost:8080/"
        },
        "id": "ipq6N5XXRCTz",
        "outputId": "f00f7984-fad5-49b2-9051-fc677640431e"
      },
      "source": [
        "f1_score(y_test, y_pred, labels=[0, 1, 2], average=None)"
      ],
      "execution_count": null,
      "outputs": [
        {
          "output_type": "execute_result",
          "data": {
            "text/plain": [
              "array([0.61, 0.22, 0.27])"
            ]
          },
          "metadata": {
            "tags": []
          },
          "execution_count": 76
        }
      ]
    },
    {
      "cell_type": "code",
      "metadata": {
        "colab": {
          "base_uri": "https://localhost:8080/"
        },
        "id": "_jsNm5q7SIn1",
        "outputId": "75249c7e-4d20-4e0e-a4d0-fcfb52d17e27"
      },
      "source": [
        "f1_score(y_test, y_pred, labels=[0, 1, 2], average='macro')"
      ],
      "execution_count": null,
      "outputs": [
        {
          "output_type": "execute_result",
          "data": {
            "text/plain": [
              "0.3648183167042889"
            ]
          },
          "metadata": {
            "tags": []
          },
          "execution_count": 77
        }
      ]
    },
    {
      "cell_type": "code",
      "metadata": {
        "colab": {
          "base_uri": "https://localhost:8080/"
        },
        "id": "mepxxqG6RO5d",
        "outputId": "e27e0549-4993-45b9-9460-7ba9b8013c64"
      },
      "source": [
        "f1_score(y_test, y_pred, labels=[0, 1, 2], average='weighted')"
      ],
      "execution_count": null,
      "outputs": [
        {
          "output_type": "execute_result",
          "data": {
            "text/plain": [
              "0.46970286082072155"
            ]
          },
          "metadata": {
            "tags": []
          },
          "execution_count": 78
        }
      ]
    },
    {
      "cell_type": "code",
      "metadata": {
        "id": "t_EDnZbRSNjA"
      },
      "source": [
        ""
      ],
      "execution_count": null,
      "outputs": []
    },
    {
      "cell_type": "markdown",
      "metadata": {
        "id": "cS1Lgu8wSQLM"
      },
      "source": [
        "Бейслайн наивного классификатора"
      ]
    },
    {
      "cell_type": "code",
      "metadata": {
        "colab": {
          "base_uri": "https://localhost:8080/"
        },
        "id": "GV-T-VNhug5n",
        "outputId": "062c5a99-0d32-4a8f-a69d-a2df7cf70d7e"
      },
      "source": [
        "accuracy_score(y_test, np.zeros(len(y_test)))"
      ],
      "execution_count": null,
      "outputs": [
        {
          "output_type": "execute_result",
          "data": {
            "text/plain": [
              "0.6204649224987459"
            ]
          },
          "metadata": {
            "tags": []
          },
          "execution_count": 32
        }
      ]
    },
    {
      "cell_type": "code",
      "metadata": {
        "colab": {
          "base_uri": "https://localhost:8080/"
        },
        "id": "eURTzLiBSN1j",
        "outputId": "2c171410-3dcd-4470-93ff-fda6a4f11def"
      },
      "source": [
        "f1_score(y_test, np.zeros(len(y_test)), labels=[0, 1, 2], average=None)"
      ],
      "execution_count": null,
      "outputs": [
        {
          "output_type": "execute_result",
          "data": {
            "text/plain": [
              "array([0.77, 0.  , 0.  ])"
            ]
          },
          "metadata": {
            "tags": []
          },
          "execution_count": 43
        }
      ]
    },
    {
      "cell_type": "code",
      "metadata": {
        "colab": {
          "base_uri": "https://localhost:8080/"
        },
        "id": "yYcw2Fx2SN1k",
        "outputId": "b283fae4-92c7-40d9-ce78-622273401fe5"
      },
      "source": [
        "f1_score(y_test, np.zeros(len(y_test)), labels=[0, 1, 2], average='micro')"
      ],
      "execution_count": null,
      "outputs": [
        {
          "output_type": "execute_result",
          "data": {
            "text/plain": [
              "0.6204649224987459"
            ]
          },
          "metadata": {
            "tags": []
          },
          "execution_count": 44
        }
      ]
    },
    {
      "cell_type": "code",
      "metadata": {
        "colab": {
          "base_uri": "https://localhost:8080/"
        },
        "id": "cgyyP3XhSN1l",
        "outputId": "74b98e32-7009-4d83-be02-5984848755db"
      },
      "source": [
        "f1_score(y_test, np.zeros(len(y_test)), labels=[0, 1, 2], average='macro')"
      ],
      "execution_count": null,
      "outputs": [
        {
          "output_type": "execute_result",
          "data": {
            "text/plain": [
              "0.2552621015874848"
            ]
          },
          "metadata": {
            "tags": []
          },
          "execution_count": 45
        }
      ]
    },
    {
      "cell_type": "code",
      "metadata": {
        "colab": {
          "base_uri": "https://localhost:8080/"
        },
        "id": "cUQrz2FMSN1l",
        "outputId": "6a4163c6-369c-4e67-bacf-b0eb005a6368"
      },
      "source": [
        "f1_score(y_test, np.zeros(len(y_test)), labels=[0, 1, 2], average='weighted')"
      ],
      "execution_count": null,
      "outputs": [
        {
          "output_type": "execute_result",
          "data": {
            "text/plain": [
              "0.4751435402350372"
            ]
          },
          "metadata": {
            "tags": []
          },
          "execution_count": 46
        }
      ]
    },
    {
      "cell_type": "markdown",
      "metadata": {
        "id": "Bh--oClgsrpO"
      },
      "source": [
        "Попробуем дообучить модель"
      ]
    },
    {
      "cell_type": "code",
      "metadata": {
        "colab": {
          "base_uri": "https://localhost:8080/"
        },
        "id": "Gex42682qsp6",
        "outputId": "90b758bc-c98d-46b2-8cc4-9611f44c67e7"
      },
      "source": [
        "history = train(train_dataset, val_dataset, model=model_cnn, epochs=20, batch_size=256)"
      ],
      "execution_count": null,
      "outputs": [
        {
          "output_type": "stream",
          "text": [
            "\repoch:   0%|          | 0/20 [00:00<?, ?it/s]"
          ],
          "name": "stderr"
        },
        {
          "output_type": "stream",
          "text": [
            "loss 0.979609143995692\n"
          ],
          "name": "stdout"
        },
        {
          "output_type": "stream",
          "text": [
            "epoch:   5%|▌         | 1/20 [00:21<06:43, 21.21s/it]"
          ],
          "name": "stderr"
        },
        {
          "output_type": "stream",
          "text": [
            "\n",
            "Epoch 001 train_loss: 0.9796     val_loss 1.1389 train_acc 0.5067 val_acc 0.4092\n",
            "loss 0.9660062106296237\n"
          ],
          "name": "stdout"
        },
        {
          "output_type": "stream",
          "text": [
            "epoch:  10%|█         | 2/20 [00:42<06:20, 21.15s/it]"
          ],
          "name": "stderr"
        },
        {
          "output_type": "stream",
          "text": [
            "\n",
            "Epoch 002 train_loss: 0.9660     val_loss 1.1648 train_acc 0.5151 val_acc 0.4128\n",
            "loss 0.9455615443606449\n"
          ],
          "name": "stdout"
        },
        {
          "output_type": "stream",
          "text": [
            "epoch:  15%|█▌        | 3/20 [01:03<05:58, 21.10s/it]"
          ],
          "name": "stderr"
        },
        {
          "output_type": "stream",
          "text": [
            "\n",
            "Epoch 003 train_loss: 0.9456     val_loss 1.1684 train_acc 0.5283 val_acc 0.4236\n",
            "loss 0.9232729001538519\n"
          ],
          "name": "stdout"
        },
        {
          "output_type": "stream",
          "text": [
            "epoch:  20%|██        | 4/20 [01:24<05:37, 21.06s/it]"
          ],
          "name": "stderr"
        },
        {
          "output_type": "stream",
          "text": [
            "\n",
            "Epoch 004 train_loss: 0.9233     val_loss 1.1910 train_acc 0.5425 val_acc 0.4173\n",
            "loss 0.9024024344463174\n"
          ],
          "name": "stdout"
        },
        {
          "output_type": "stream",
          "text": [
            "epoch:  25%|██▌       | 5/20 [01:44<05:14, 20.99s/it]"
          ],
          "name": "stderr"
        },
        {
          "output_type": "stream",
          "text": [
            "\n",
            "Epoch 005 train_loss: 0.9024     val_loss 1.2106 train_acc 0.5558 val_acc 0.4254\n",
            "loss 0.8812818000960738\n"
          ],
          "name": "stdout"
        },
        {
          "output_type": "stream",
          "text": [
            "epoch:  30%|███       | 6/20 [02:05<04:53, 20.95s/it]"
          ],
          "name": "stderr"
        },
        {
          "output_type": "stream",
          "text": [
            "\n",
            "Epoch 006 train_loss: 0.8813     val_loss 1.2168 train_acc 0.5692 val_acc 0.4283\n",
            "loss 0.861996567136973\n"
          ],
          "name": "stdout"
        },
        {
          "output_type": "stream",
          "text": [
            "epoch:  35%|███▌      | 7/20 [02:26<04:31, 20.85s/it]"
          ],
          "name": "stderr"
        },
        {
          "output_type": "stream",
          "text": [
            "\n",
            "Epoch 007 train_loss: 0.8620     val_loss 1.2503 train_acc 0.5800 val_acc 0.4263\n",
            "loss 0.8437958820737318\n"
          ],
          "name": "stdout"
        },
        {
          "output_type": "stream",
          "text": [
            "epoch:  40%|████      | 8/20 [02:46<04:08, 20.73s/it]"
          ],
          "name": "stderr"
        },
        {
          "output_type": "stream",
          "text": [
            "\n",
            "Epoch 008 train_loss: 0.8438     val_loss 1.2691 train_acc 0.5909 val_acc 0.4317\n",
            "loss 0.8273982094392629\n"
          ],
          "name": "stdout"
        },
        {
          "output_type": "stream",
          "text": [
            "epoch:  45%|████▌     | 9/20 [03:07<03:47, 20.68s/it]"
          ],
          "name": "stderr"
        },
        {
          "output_type": "stream",
          "text": [
            "\n",
            "Epoch 009 train_loss: 0.8274     val_loss 1.2951 train_acc 0.6011 val_acc 0.4340\n",
            "loss 0.8109494340884006\n"
          ],
          "name": "stdout"
        },
        {
          "output_type": "stream",
          "text": [
            "epoch:  50%|█████     | 10/20 [03:27<03:25, 20.55s/it]"
          ],
          "name": "stderr"
        },
        {
          "output_type": "stream",
          "text": [
            "\n",
            "Epoch 010 train_loss: 0.8109     val_loss 1.3584 train_acc 0.6112 val_acc 0.4237\n",
            "loss 0.7966369838199907\n"
          ],
          "name": "stdout"
        },
        {
          "output_type": "stream",
          "text": [
            "epoch:  55%|█████▌    | 11/20 [03:48<03:04, 20.51s/it]"
          ],
          "name": "stderr"
        },
        {
          "output_type": "stream",
          "text": [
            "\n",
            "Epoch 011 train_loss: 0.7966     val_loss 1.3453 train_acc 0.6195 val_acc 0.4353\n",
            "loss 0.7818704241049574\n"
          ],
          "name": "stdout"
        },
        {
          "output_type": "stream",
          "text": [
            "epoch:  60%|██████    | 12/20 [04:08<02:44, 20.52s/it]"
          ],
          "name": "stderr"
        },
        {
          "output_type": "stream",
          "text": [
            "\n",
            "Epoch 012 train_loss: 0.7819     val_loss 1.3428 train_acc 0.6279 val_acc 0.4411\n",
            "loss 0.9205293845224427\n"
          ],
          "name": "stdout"
        },
        {
          "output_type": "stream",
          "text": [
            "epoch:  65%|██████▌   | 13/20 [04:29<02:24, 20.60s/it]"
          ],
          "name": "stderr"
        },
        {
          "output_type": "stream",
          "text": [
            "\n",
            "Epoch 013 train_loss: 0.9205     val_loss 1.0419 train_acc 0.5530 val_acc 0.5092\n",
            "loss 0.8643779882534072\n"
          ],
          "name": "stdout"
        },
        {
          "output_type": "stream",
          "text": [
            "epoch:  70%|███████   | 14/20 [04:49<02:03, 20.53s/it]"
          ],
          "name": "stderr"
        },
        {
          "output_type": "stream",
          "text": [
            "\n",
            "Epoch 014 train_loss: 0.8644     val_loss 1.0546 train_acc 0.5855 val_acc 0.5079\n",
            "loss 0.8216112956362946\n"
          ],
          "name": "stdout"
        },
        {
          "output_type": "stream",
          "text": [
            "epoch:  75%|███████▌  | 15/20 [05:10<01:42, 20.50s/it]"
          ],
          "name": "stderr"
        },
        {
          "output_type": "stream",
          "text": [
            "\n",
            "Epoch 015 train_loss: 0.8216     val_loss 1.0712 train_acc 0.6101 val_acc 0.5093\n",
            "loss 0.7864466459233073\n"
          ],
          "name": "stdout"
        },
        {
          "output_type": "stream",
          "text": [
            "epoch:  80%|████████  | 16/20 [05:30<01:21, 20.40s/it]"
          ],
          "name": "stderr"
        },
        {
          "output_type": "stream",
          "text": [
            "\n",
            "Epoch 016 train_loss: 0.7864     val_loss 1.0906 train_acc 0.6304 val_acc 0.5114\n",
            "loss 0.7550686693446476\n"
          ],
          "name": "stdout"
        },
        {
          "output_type": "stream",
          "text": [
            "epoch:  85%|████████▌ | 17/20 [05:50<01:00, 20.31s/it]"
          ],
          "name": "stderr"
        },
        {
          "output_type": "stream",
          "text": [
            "\n",
            "Epoch 017 train_loss: 0.7551     val_loss 1.1157 train_acc 0.6478 val_acc 0.5130\n",
            "loss 0.7264223097717756\n"
          ],
          "name": "stdout"
        },
        {
          "output_type": "stream",
          "text": [
            "epoch:  90%|█████████ | 18/20 [06:10<00:40, 20.24s/it]"
          ],
          "name": "stderr"
        },
        {
          "output_type": "stream",
          "text": [
            "\n",
            "Epoch 018 train_loss: 0.7264     val_loss 1.1433 train_acc 0.6633 val_acc 0.5141\n",
            "loss 0.6995136657795025\n"
          ],
          "name": "stdout"
        },
        {
          "output_type": "stream",
          "text": [
            "epoch:  95%|█████████▌| 19/20 [06:30<00:20, 20.22s/it]"
          ],
          "name": "stderr"
        },
        {
          "output_type": "stream",
          "text": [
            "\n",
            "Epoch 019 train_loss: 0.6995     val_loss 1.1754 train_acc 0.6774 val_acc 0.5144\n",
            "loss 0.673784758866938\n"
          ],
          "name": "stdout"
        },
        {
          "output_type": "stream",
          "text": [
            "epoch: 100%|██████████| 20/20 [06:50<00:00, 20.54s/it]"
          ],
          "name": "stderr"
        },
        {
          "output_type": "stream",
          "text": [
            "\n",
            "Epoch 020 train_loss: 0.6738     val_loss 1.2128 train_acc 0.6910 val_acc 0.5158\n"
          ],
          "name": "stdout"
        },
        {
          "output_type": "stream",
          "text": [
            "\n"
          ],
          "name": "stderr"
        }
      ]
    },
    {
      "cell_type": "code",
      "metadata": {
        "id": "HDRi4eyLUmyA"
      },
      "source": [
        "loss, acc, val_loss, val_acc = zip(*history)"
      ],
      "execution_count": null,
      "outputs": []
    },
    {
      "cell_type": "code",
      "metadata": {
        "colab": {
          "base_uri": "https://localhost:8080/",
          "height": 551
        },
        "id": "fMzLT_GkUlzr",
        "outputId": "3d77142d-f507-4c60-d68c-66f235826126"
      },
      "source": [
        "plt.figure(figsize=(15, 9))\n",
        "plt.plot(acc, label=\"train_acc\")\n",
        "plt.plot(val_acc, label=\"val_acc\")\n",
        "plt.legend(loc='best')\n",
        "plt.xlabel(\"epochs\")\n",
        "plt.ylabel(\"acc\")\n",
        "plt.show()"
      ],
      "execution_count": null,
      "outputs": [
        {
          "output_type": "display_data",
          "data": {
            "image/png": "[encoded data removed]",
            "text/plain": [
              "<Figure size 1080x648 with 1 Axes>"
            ]
          },
          "metadata": {
            "tags": [],
            "needs_background": "light"
          }
        }
      ]
    },
    {
      "cell_type": "code",
      "metadata": {
        "id": "QydNj1y4s2Ee"
      },
      "source": [
        "y_pred_50 = np.argmax(predict(model_cnn, test_loader), axis=1)"
      ],
      "execution_count": null,
      "outputs": []
    },
    {
      "cell_type": "code",
      "metadata": {
        "colab": {
          "base_uri": "https://localhost:8080/",
          "height": 364
        },
        "id": "28DsU8VWvJz8",
        "outputId": "f0da1f62-4781-435c-c40d-8f0398feb805"
      },
      "source": [
        "cnf_matrix = confusion_matrix(y_test, y_pred_50, labels=[0, 1, 2])\n",
        "np.set_printoptions(precision=2)\n",
        "\n",
        "# Plot non-normalized confusion matrix\n",
        "plt.figure()\n",
        "plot_confusion_matrix(cnf_matrix, normalize=False, classes=['Fair', 'Rise', 'Fall'],\n",
        "                      title='Confusion matrix, without normalization')"
      ],
      "execution_count": null,
      "outputs": [
        {
          "output_type": "stream",
          "text": [
            "Confusion matrix, without normalization\n",
            "[[65562 38366 42019]\n",
            " [18827 14100 13148]\n",
            " [16956 10160 16084]]\n"
          ],
          "name": "stdout"
        },
        {
          "output_type": "display_data",
          "data": {
            "image/png": "[encoded data removed]",
            "text/plain": [
              "<Figure size 432x288 with 2 Axes>"
            ]
          },
          "metadata": {
            "tags": [],
            "needs_background": "light"
          }
        }
      ]
    },
    {
      "cell_type": "code",
      "metadata": {
        "colab": {
          "base_uri": "https://localhost:8080/"
        },
        "id": "Kztv3THjvSRe",
        "outputId": "2d5873fa-b7cc-4905-871e-3fc3d2430cce"
      },
      "source": [
        "accuracy_score(y_test, y_pred_50)"
      ],
      "execution_count": null,
      "outputs": [
        {
          "output_type": "execute_result",
          "data": {
            "text/plain": [
              "0.40704525937199754"
            ]
          },
          "metadata": {
            "tags": []
          },
          "execution_count": 52
        }
      ]
    },
    {
      "cell_type": "code",
      "metadata": {
        "colab": {
          "base_uri": "https://localhost:8080/"
        },
        "id": "NOtTVghZUD8t",
        "outputId": "ff8f1d3d-66e5-40c3-f6a9-6552b746da02"
      },
      "source": [
        "f1_score(y_test, y_pred_50, labels=[0, 1, 2], average=None)"
      ],
      "execution_count": null,
      "outputs": [
        {
          "output_type": "execute_result",
          "data": {
            "text/plain": [
              "array([0.53, 0.26, 0.28])"
            ]
          },
          "metadata": {
            "tags": []
          },
          "execution_count": 53
        }
      ]
    },
    {
      "cell_type": "code",
      "metadata": {
        "colab": {
          "base_uri": "https://localhost:8080/"
        },
        "id": "fEL03eWKUD8u",
        "outputId": "74ed4c7f-23fb-489e-8af7-4290be7e627b"
      },
      "source": [
        "f1_score(y_test, y_pred_50, labels=[0, 1, 2], average='macro')"
      ],
      "execution_count": null,
      "outputs": [
        {
          "output_type": "execute_result",
          "data": {
            "text/plain": [
              "0.35691010097804154"
            ]
          },
          "metadata": {
            "tags": []
          },
          "execution_count": 54
        }
      ]
    },
    {
      "cell_type": "code",
      "metadata": {
        "colab": {
          "base_uri": "https://localhost:8080/"
        },
        "id": "YSvv4dASUD8u",
        "outputId": "8f8e42da-c5c6-49f6-dd28-e9c4ad993b8a"
      },
      "source": [
        "f1_score(y_test, y_pred_50, labels=[0, 1, 2], average='weighted')"
      ],
      "execution_count": null,
      "outputs": [
        {
          "output_type": "execute_result",
          "data": {
            "text/plain": [
              "0.4314304186419195"
            ]
          },
          "metadata": {
            "tags": []
          },
          "execution_count": 55
        }
      ]
    },
    {
      "cell_type": "code",
      "metadata": {
        "id": "CZF0tZmLveOb"
      },
      "source": [
        ""
      ],
      "execution_count": null,
      "outputs": []
    },
    {
      "cell_type": "markdown",
      "metadata": {
        "id": "zPKeXQpNwHXH"
      },
      "source": [
        "Попробуем дообучить модель еще"
      ]
    },
    {
      "cell_type": "code",
      "metadata": {
        "colab": {
          "base_uri": "https://localhost:8080/"
        },
        "id": "c0uMVt-4wHXH",
        "outputId": "710c73d3-3252-4548-d751-172012e4209a"
      },
      "source": [
        "history = train(train_dataset, val_dataset, model=model_cnn, epochs=20, batch_size=256)"
      ],
      "execution_count": null,
      "outputs": [
        {
          "output_type": "stream",
          "text": [
            "\repoch:   0%|          | 0/20 [00:00<?, ?it/s]"
          ],
          "name": "stderr"
        },
        {
          "output_type": "stream",
          "text": [
            "loss 0.9797909634968093\n"
          ],
          "name": "stdout"
        },
        {
          "output_type": "stream",
          "text": [
            "epoch:   5%|▌         | 1/20 [00:21<06:39, 21.02s/it]"
          ],
          "name": "stderr"
        },
        {
          "output_type": "stream",
          "text": [
            "\n",
            "Epoch 001 train_loss: 0.9798     val_loss 1.1499 train_acc 0.5064 val_acc 0.4043\n",
            "loss 0.9658870678085979\n"
          ],
          "name": "stdout"
        },
        {
          "output_type": "stream",
          "text": [
            "epoch:  10%|█         | 2/20 [00:41<06:17, 21.00s/it]"
          ],
          "name": "stderr"
        },
        {
          "output_type": "stream",
          "text": [
            "\n",
            "Epoch 002 train_loss: 0.9659     val_loss 1.1519 train_acc 0.5151 val_acc 0.4168\n",
            "loss 0.9459436723805238\n"
          ],
          "name": "stdout"
        },
        {
          "output_type": "stream",
          "text": [
            "epoch:  15%|█▌        | 3/20 [01:02<05:55, 20.94s/it]"
          ],
          "name": "stderr"
        },
        {
          "output_type": "stream",
          "text": [
            "\n",
            "Epoch 003 train_loss: 0.9459     val_loss 1.1809 train_acc 0.5280 val_acc 0.4176\n",
            "loss 0.9237521024807356\n"
          ],
          "name": "stdout"
        },
        {
          "output_type": "stream",
          "text": [
            "epoch:  20%|██        | 4/20 [01:23<05:34, 20.92s/it]"
          ],
          "name": "stderr"
        },
        {
          "output_type": "stream",
          "text": [
            "\n",
            "Epoch 004 train_loss: 0.9238     val_loss 1.2004 train_acc 0.5422 val_acc 0.4233\n",
            "loss 0.9007637274813343\n"
          ],
          "name": "stdout"
        },
        {
          "output_type": "stream",
          "text": [
            "epoch:  25%|██▌       | 5/20 [01:44<05:13, 20.91s/it]"
          ],
          "name": "stderr"
        },
        {
          "output_type": "stream",
          "text": [
            "\n",
            "Epoch 005 train_loss: 0.9008     val_loss 1.2225 train_acc 0.5566 val_acc 0.4240\n",
            "loss 0.8813113313031672\n"
          ],
          "name": "stdout"
        },
        {
          "output_type": "stream",
          "text": [
            "epoch:  30%|███       | 6/20 [02:05<04:52, 20.88s/it]"
          ],
          "name": "stderr"
        },
        {
          "output_type": "stream",
          "text": [
            "\n",
            "Epoch 006 train_loss: 0.8813     val_loss 1.2201 train_acc 0.5689 val_acc 0.4301\n",
            "loss 0.8625778487592661\n"
          ],
          "name": "stdout"
        },
        {
          "output_type": "stream",
          "text": [
            "epoch:  35%|███▌      | 7/20 [02:26<04:30, 20.83s/it]"
          ],
          "name": "stderr"
        },
        {
          "output_type": "stream",
          "text": [
            "\n",
            "Epoch 007 train_loss: 0.8626     val_loss 1.2238 train_acc 0.5791 val_acc 0.4350\n",
            "loss 0.8448223018502408\n"
          ],
          "name": "stdout"
        },
        {
          "output_type": "stream",
          "text": [
            "epoch:  40%|████      | 8/20 [02:46<04:09, 20.80s/it]"
          ],
          "name": "stderr"
        },
        {
          "output_type": "stream",
          "text": [
            "\n",
            "Epoch 008 train_loss: 0.8448     val_loss 1.2412 train_acc 0.5914 val_acc 0.4355\n",
            "loss 0.8282400042101258\n"
          ],
          "name": "stdout"
        },
        {
          "output_type": "stream",
          "text": [
            "epoch:  45%|████▌     | 9/20 [03:07<03:49, 20.82s/it]"
          ],
          "name": "stderr"
        },
        {
          "output_type": "stream",
          "text": [
            "\n",
            "Epoch 009 train_loss: 0.8282     val_loss 1.2895 train_acc 0.6008 val_acc 0.4324\n",
            "loss 0.8119489200050101\n"
          ],
          "name": "stdout"
        },
        {
          "output_type": "stream",
          "text": [
            "epoch:  50%|█████     | 10/20 [03:28<03:28, 20.80s/it]"
          ],
          "name": "stderr"
        },
        {
          "output_type": "stream",
          "text": [
            "\n",
            "Epoch 010 train_loss: 0.8119     val_loss 1.3098 train_acc 0.6102 val_acc 0.4333\n",
            "loss 0.7970238419271284\n"
          ],
          "name": "stdout"
        },
        {
          "output_type": "stream",
          "text": [
            "epoch:  55%|█████▌    | 11/20 [03:49<03:07, 20.81s/it]"
          ],
          "name": "stderr"
        },
        {
          "output_type": "stream",
          "text": [
            "\n",
            "Epoch 011 train_loss: 0.7970     val_loss 1.3206 train_acc 0.6188 val_acc 0.4311\n",
            "loss 0.7830150924871037\n"
          ],
          "name": "stdout"
        },
        {
          "output_type": "stream",
          "text": [
            "epoch:  60%|██████    | 12/20 [04:10<02:46, 20.80s/it]"
          ],
          "name": "stderr"
        },
        {
          "output_type": "stream",
          "text": [
            "\n",
            "Epoch 012 train_loss: 0.7830     val_loss 1.3062 train_acc 0.6271 val_acc 0.4400\n",
            "loss 0.9182182033449676\n"
          ],
          "name": "stdout"
        },
        {
          "output_type": "stream",
          "text": [
            "epoch:  65%|██████▌   | 13/20 [04:30<02:25, 20.72s/it]"
          ],
          "name": "stderr"
        },
        {
          "output_type": "stream",
          "text": [
            "\n",
            "Epoch 013 train_loss: 0.9182     val_loss 1.0441 train_acc 0.5540 val_acc 0.5078\n",
            "loss 0.8641829971216867\n"
          ],
          "name": "stdout"
        },
        {
          "output_type": "stream",
          "text": [
            "epoch:  70%|███████   | 14/20 [04:51<02:03, 20.65s/it]"
          ],
          "name": "stderr"
        },
        {
          "output_type": "stream",
          "text": [
            "\n",
            "Epoch 014 train_loss: 0.8642     val_loss 1.0617 train_acc 0.5852 val_acc 0.5040\n",
            "loss 0.8215906979504185\n"
          ],
          "name": "stdout"
        },
        {
          "output_type": "stream",
          "text": [
            "epoch:  75%|███████▌  | 15/20 [05:11<01:43, 20.65s/it]"
          ],
          "name": "stderr"
        },
        {
          "output_type": "stream",
          "text": [
            "\n",
            "Epoch 015 train_loss: 0.8216     val_loss 1.0786 train_acc 0.6101 val_acc 0.5071\n",
            "loss 0.7865332587769456\n"
          ],
          "name": "stdout"
        },
        {
          "output_type": "stream",
          "text": [
            "epoch:  80%|████████  | 16/20 [05:32<01:22, 20.64s/it]"
          ],
          "name": "stderr"
        },
        {
          "output_type": "stream",
          "text": [
            "\n",
            "Epoch 016 train_loss: 0.7865     val_loss 1.0983 train_acc 0.6300 val_acc 0.5087\n",
            "loss 0.7554643710778451\n"
          ],
          "name": "stdout"
        },
        {
          "output_type": "stream",
          "text": [
            "epoch:  85%|████████▌ | 17/20 [05:52<01:01, 20.64s/it]"
          ],
          "name": "stderr"
        },
        {
          "output_type": "stream",
          "text": [
            "\n",
            "Epoch 017 train_loss: 0.7555     val_loss 1.1219 train_acc 0.6474 val_acc 0.5097\n",
            "loss 0.7268517991827889\n"
          ],
          "name": "stdout"
        },
        {
          "output_type": "stream",
          "text": [
            "epoch:  90%|█████████ | 18/20 [06:13<00:41, 20.59s/it]"
          ],
          "name": "stderr"
        },
        {
          "output_type": "stream",
          "text": [
            "\n",
            "Epoch 018 train_loss: 0.7269     val_loss 1.1514 train_acc 0.6630 val_acc 0.5102\n",
            "loss 0.6998777578310951\n"
          ],
          "name": "stdout"
        },
        {
          "output_type": "stream",
          "text": [
            "epoch:  95%|█████████▌| 19/20 [06:33<00:20, 20.58s/it]"
          ],
          "name": "stderr"
        },
        {
          "output_type": "stream",
          "text": [
            "\n",
            "Epoch 019 train_loss: 0.6999     val_loss 1.1843 train_acc 0.6775 val_acc 0.5104\n",
            "loss 0.6741553264751251\n"
          ],
          "name": "stdout"
        },
        {
          "output_type": "stream",
          "text": [
            "epoch: 100%|██████████| 20/20 [06:54<00:00, 20.73s/it]"
          ],
          "name": "stderr"
        },
        {
          "output_type": "stream",
          "text": [
            "\n",
            "Epoch 020 train_loss: 0.6742     val_loss 1.2216 train_acc 0.6911 val_acc 0.5114\n"
          ],
          "name": "stdout"
        },
        {
          "output_type": "stream",
          "text": [
            "\n"
          ],
          "name": "stderr"
        }
      ]
    },
    {
      "cell_type": "code",
      "metadata": {
        "id": "wURi0zBGwHXH"
      },
      "source": [
        "y_pred_70 = np.argmax(predict(model_cnn, test_loader), axis=1)"
      ],
      "execution_count": null,
      "outputs": []
    },
    {
      "cell_type": "code",
      "metadata": {
        "colab": {
          "base_uri": "https://localhost:8080/",
          "height": 364
        },
        "id": "ZWtjzBD9wHXH",
        "outputId": "91ac5fa0-c8a0-458d-f000-307422b6e3aa"
      },
      "source": [
        "cnf_matrix = confusion_matrix(y_test, y_pred_70, labels=[0, 1, 2])\n",
        "np.set_printoptions(precision=2)\n",
        "\n",
        "# Plot non-normalized confusion matrix\n",
        "plt.figure()\n",
        "plot_confusion_matrix(cnf_matrix, normalize=False, classes=['Fair', 'Rise', 'Fall'],\n",
        "                      title='Confusion matrix, without normalization')"
      ],
      "execution_count": null,
      "outputs": [
        {
          "output_type": "stream",
          "text": [
            "Confusion matrix, without normalization\n",
            "[[65800 38321 41826]\n",
            " [19116 13870 13089]\n",
            " [16983 10095 16122]]\n"
          ],
          "name": "stdout"
        },
        {
          "output_type": "display_data",
          "data": {
            "image/png": "[encoded data removed]",
            "text/plain": [
              "<Figure size 432x288 with 2 Axes>"
            ]
          },
          "metadata": {
            "tags": [],
            "needs_background": "light"
          }
        }
      ]
    },
    {
      "cell_type": "code",
      "metadata": {
        "colab": {
          "base_uri": "https://localhost:8080/"
        },
        "id": "jZeisIebWAQo",
        "outputId": "b7d08571-9a8f-4a2c-df8e-4879364a3a62"
      },
      "source": [
        "f1_score(y_test, y_pred_70, labels=[0, 1, 2], average=None)"
      ],
      "execution_count": null,
      "outputs": [
        {
          "output_type": "execute_result",
          "data": {
            "text/plain": [
              "array([0.53, 0.26, 0.28])"
            ]
          },
          "metadata": {
            "tags": []
          },
          "execution_count": 82
        }
      ]
    },
    {
      "cell_type": "code",
      "metadata": {
        "colab": {
          "base_uri": "https://localhost:8080/"
        },
        "id": "GFBaspzJWAQo",
        "outputId": "cd798b55-3736-4a26-9acc-16a11c8edf60"
      },
      "source": [
        "f1_score(y_test, y_pred_70, labels=[0, 1, 2], average='macro')"
      ],
      "execution_count": null,
      "outputs": [
        {
          "output_type": "execute_result",
          "data": {
            "text/plain": [
              "0.35640878395639614"
            ]
          },
          "metadata": {
            "tags": []
          },
          "execution_count": 83
        }
      ]
    },
    {
      "cell_type": "code",
      "metadata": {
        "colab": {
          "base_uri": "https://localhost:8080/"
        },
        "id": "_l4tqb-YWAQo",
        "outputId": "fbf21bfb-f01c-496d-eb20-b4666d3431ad"
      },
      "source": [
        "f1_score(y_test, y_pred_70, labels=[0, 1, 2], average='weighted')"
      ],
      "execution_count": null,
      "outputs": [
        {
          "output_type": "execute_result",
          "data": {
            "text/plain": [
              "0.43143346844239155"
            ]
          },
          "metadata": {
            "tags": []
          },
          "execution_count": 84
        }
      ]
    },
    {
      "cell_type": "code",
      "metadata": {
        "colab": {
          "base_uri": "https://localhost:8080/"
        },
        "id": "kzzyhSRnwHXI",
        "outputId": "0e01e856-7fdb-49a6-9082-24a8e08f264b"
      },
      "source": [
        "accuracy_score(y_test, y_pred_70)"
      ],
      "execution_count": null,
      "outputs": [
        {
          "output_type": "execute_result",
          "data": {
            "text/plain": [
              "0.4072408193111189"
            ]
          },
          "metadata": {
            "tags": []
          },
          "execution_count": 85
        }
      ]
    },
    {
      "cell_type": "code",
      "metadata": {
        "id": "CyyGysLLVPnu"
      },
      "source": [
        ""
      ],
      "execution_count": null,
      "outputs": []
    },
    {
      "cell_type": "code",
      "metadata": {
        "id": "gCfxyFQcVQDj"
      },
      "source": [
        "loss, acc, val_loss, val_acc = zip(*history)"
      ],
      "execution_count": null,
      "outputs": []
    },
    {
      "cell_type": "code",
      "metadata": {
        "colab": {
          "base_uri": "https://localhost:8080/",
          "height": 551
        },
        "id": "bAnVSE3nVQDj",
        "outputId": "7016553b-28d0-46dc-fbe5-7d5d9c8693c6"
      },
      "source": [
        "plt.figure(figsize=(15, 9))\n",
        "plt.plot(acc, label=\"train_acc\")\n",
        "plt.plot(val_acc, label=\"val_acc\")\n",
        "plt.legend(loc='best')\n",
        "plt.xlabel(\"epochs\")\n",
        "plt.ylabel(\"acc\")\n",
        "plt.show()"
      ],
      "execution_count": null,
      "outputs": [
        {
          "output_type": "display_data",
          "data": {
            "image/png": "[encoded data removed]",
            "text/plain": [
              "<Figure size 1080x648 with 1 Axes>"
            ]
          },
          "metadata": {
            "tags": [],
            "needs_background": "light"
          }
        }
      ]
    },
    {
      "cell_type": "markdown",
      "metadata": {
        "id": "SULz3D-ux4dH"
      },
      "source": [
        "Лучше не стало"
      ]
    },
    {
      "cell_type": "markdown",
      "metadata": {
        "id": "tqB340KcyMu6"
      },
      "source": [
        "### Попробуем обучить модель на данных без применения андерсемплинга, чтобы она учитывала преобладание класса Fair"
      ]
    },
    {
      "cell_type": "code",
      "metadata": {
        "id": "ivjcscRfyyrt"
      },
      "source": [
        "X_train = torch.load('/content/drive/My Drive/x_train.pt')"
      ],
      "execution_count": null,
      "outputs": []
    },
    {
      "cell_type": "code",
      "metadata": {
        "id": "rpA45dSNyyrt"
      },
      "source": [
        "y_train = torch.load('/content/drive/My Drive/y_train.pt')"
      ],
      "execution_count": null,
      "outputs": []
    },
    {
      "cell_type": "code",
      "metadata": {
        "id": "UR6avXWDy_zB"
      },
      "source": [
        "gadf = GramianAngularField(image_size=20, method='difference')"
      ],
      "execution_count": null,
      "outputs": []
    },
    {
      "cell_type": "code",
      "metadata": {
        "id": "1-uXciowy_zB"
      },
      "source": [
        "X_train_gadf_2 = gadf.fit_transform(X_train[:, :, 3])\n",
        "X_val_gadf = gadf.fit_transform(X_val[:, :, 3])\n",
        "X_test_gadf = gadf.fit_transform(X_test[:, :, 3])"
      ],
      "execution_count": null,
      "outputs": []
    },
    {
      "cell_type": "code",
      "metadata": {
        "id": "prF0AnHfzyR9"
      },
      "source": [
        "train_dataset = torch.utils.data.TensorDataset(torch.tensor(X_train_gadf_2).reshape(-1, 1, 20, 20).float().cuda(), y_train.cuda())\n",
        "val_dataset = torch.utils.data.TensorDataset(torch.tensor(X_val_gadf).reshape(-1, 1, 20, 20).float().cuda(), y_val.cuda())\n",
        "test_dataset = torch.utils.data.TensorDataset(torch.tensor(X_test_gadf).reshape(-1, 1, 20, 20).float().cuda())\n",
        "\n",
        "test_loader = torch.utils.data.DataLoader(dataset=test_dataset, \n",
        "                                           batch_size=256, \n",
        "                                           shuffle=False)"
      ],
      "execution_count": null,
      "outputs": []
    },
    {
      "cell_type": "code",
      "metadata": {
        "id": "hmwo2QKozkg8"
      },
      "source": [
        "model_cnn_2 = ModelCnn(3).to(DEVICE)"
      ],
      "execution_count": null,
      "outputs": []
    },
    {
      "cell_type": "code",
      "metadata": {
        "colab": {
          "base_uri": "https://localhost:8080/"
        },
        "id": "tXVOo6nLzkg8",
        "outputId": "2dbffd91-1d6c-43a3-e7cc-8ad1972960f2"
      },
      "source": [
        "history = train(train_dataset, val_dataset, model=model_cnn_2, epochs=30, batch_size=256)"
      ],
      "execution_count": null,
      "outputs": [
        {
          "output_type": "stream",
          "text": [
            "\repoch:   0%|          | 0/30 [00:00<?, ?it/s]"
          ],
          "name": "stderr"
        },
        {
          "output_type": "stream",
          "text": [
            "loss 1.0394481815160341\n"
          ],
          "name": "stdout"
        },
        {
          "output_type": "stream",
          "text": [
            "epoch:   3%|▎         | 1/30 [00:28<13:53, 28.76s/it]"
          ],
          "name": "stderr"
        },
        {
          "output_type": "stream",
          "text": [
            "\n",
            "Epoch 001 train_loss: 1.0394     val_loss 1.0121 train_acc 0.5116 val_acc 0.5566\n",
            "loss 1.0270223963263252\n"
          ],
          "name": "stdout"
        },
        {
          "output_type": "stream",
          "text": [
            "epoch:   7%|▋         | 2/30 [00:56<13:13, 28.34s/it]"
          ],
          "name": "stderr"
        },
        {
          "output_type": "stream",
          "text": [
            "\n",
            "Epoch 002 train_loss: 1.0270     val_loss 0.9823 train_acc 0.5186 val_acc 0.6371\n",
            "loss 1.0246866721462418\n"
          ],
          "name": "stdout"
        },
        {
          "output_type": "stream",
          "text": [
            "epoch:  10%|█         | 3/30 [01:23<12:36, 28.01s/it]"
          ],
          "name": "stderr"
        },
        {
          "output_type": "stream",
          "text": [
            "\n",
            "Epoch 003 train_loss: 1.0247     val_loss 0.9901 train_acc 0.5188 val_acc 0.6029\n",
            "loss 1.0239973883822084\n"
          ],
          "name": "stdout"
        },
        {
          "output_type": "stream",
          "text": [
            "epoch:  13%|█▎        | 4/30 [01:50<12:01, 27.76s/it]"
          ],
          "name": "stderr"
        },
        {
          "output_type": "stream",
          "text": [
            "\n",
            "Epoch 004 train_loss: 1.0240     val_loss 0.9817 train_acc 0.5187 val_acc 0.6107\n",
            "loss 1.0233147527688229\n"
          ],
          "name": "stdout"
        },
        {
          "output_type": "stream",
          "text": [
            "epoch:  17%|█▋        | 5/30 [02:17<11:28, 27.52s/it]"
          ],
          "name": "stderr"
        },
        {
          "output_type": "stream",
          "text": [
            "\n",
            "Epoch 005 train_loss: 1.0233     val_loss 0.9800 train_acc 0.5189 val_acc 0.6052\n",
            "loss 1.022780608801044\n"
          ],
          "name": "stdout"
        },
        {
          "output_type": "stream",
          "text": [
            "epoch:  20%|██        | 6/30 [02:44<10:56, 27.34s/it]"
          ],
          "name": "stderr"
        },
        {
          "output_type": "stream",
          "text": [
            "\n",
            "Epoch 006 train_loss: 1.0228     val_loss 0.9793 train_acc 0.5190 val_acc 0.6042\n",
            "loss 1.0225567686093795\n"
          ],
          "name": "stdout"
        },
        {
          "output_type": "stream",
          "text": [
            "epoch:  23%|██▎       | 7/30 [03:11<10:26, 27.26s/it]"
          ],
          "name": "stderr"
        },
        {
          "output_type": "stream",
          "text": [
            "\n",
            "Epoch 007 train_loss: 1.0226     val_loss 0.9806 train_acc 0.5188 val_acc 0.6004\n",
            "loss 1.0219806815852899\n"
          ],
          "name": "stdout"
        },
        {
          "output_type": "stream",
          "text": [
            "epoch:  27%|██▋       | 8/30 [03:38<09:58, 27.21s/it]"
          ],
          "name": "stderr"
        },
        {
          "output_type": "stream",
          "text": [
            "\n",
            "Epoch 008 train_loss: 1.0220     val_loss 0.9776 train_acc 0.5190 val_acc 0.5976\n",
            "loss 1.021323278312778\n"
          ],
          "name": "stdout"
        },
        {
          "output_type": "stream",
          "text": [
            "epoch:  30%|███       | 9/30 [04:05<09:29, 27.11s/it]"
          ],
          "name": "stderr"
        },
        {
          "output_type": "stream",
          "text": [
            "\n",
            "Epoch 009 train_loss: 1.0213     val_loss 0.9765 train_acc 0.5192 val_acc 0.5979\n",
            "loss 1.0203205272165836\n"
          ],
          "name": "stdout"
        },
        {
          "output_type": "stream",
          "text": [
            "epoch:  33%|███▎      | 10/30 [04:32<09:01, 27.06s/it]"
          ],
          "name": "stderr"
        },
        {
          "output_type": "stream",
          "text": [
            "\n",
            "Epoch 010 train_loss: 1.0203     val_loss 0.9770 train_acc 0.5194 val_acc 0.5959\n",
            "loss 1.0192355711920846\n"
          ],
          "name": "stdout"
        },
        {
          "output_type": "stream",
          "text": [
            "epoch:  37%|███▋      | 11/30 [04:59<08:33, 27.02s/it]"
          ],
          "name": "stderr"
        },
        {
          "output_type": "stream",
          "text": [
            "\n",
            "Epoch 011 train_loss: 1.0192     val_loss 0.9745 train_acc 0.5196 val_acc 0.5963\n",
            "loss 1.017710607365021\n"
          ],
          "name": "stdout"
        },
        {
          "output_type": "stream",
          "text": [
            "epoch:  40%|████      | 12/30 [05:26<08:06, 27.03s/it]"
          ],
          "name": "stderr"
        },
        {
          "output_type": "stream",
          "text": [
            "\n",
            "Epoch 012 train_loss: 1.0177     val_loss 0.9773 train_acc 0.5200 val_acc 0.5925\n",
            "loss 1.0158642685067483\n"
          ],
          "name": "stdout"
        },
        {
          "output_type": "stream",
          "text": [
            "epoch:  43%|████▎     | 13/30 [05:53<07:40, 27.06s/it]"
          ],
          "name": "stderr"
        },
        {
          "output_type": "stream",
          "text": [
            "\n",
            "Epoch 013 train_loss: 1.0159     val_loss 0.9801 train_acc 0.5208 val_acc 0.5872\n",
            "loss 1.013309506723551\n"
          ],
          "name": "stdout"
        },
        {
          "output_type": "stream",
          "text": [
            "epoch:  47%|████▋     | 14/30 [06:20<07:11, 26.96s/it]"
          ],
          "name": "stderr"
        },
        {
          "output_type": "stream",
          "text": [
            "\n",
            "Epoch 014 train_loss: 1.0133     val_loss 0.9805 train_acc 0.5214 val_acc 0.5841\n",
            "loss 1.009682961488961\n"
          ],
          "name": "stdout"
        },
        {
          "output_type": "stream",
          "text": [
            "epoch:  50%|█████     | 15/30 [06:46<06:43, 26.88s/it]"
          ],
          "name": "stderr"
        },
        {
          "output_type": "stream",
          "text": [
            "\n",
            "Epoch 015 train_loss: 1.0097     val_loss 0.9812 train_acc 0.5230 val_acc 0.5794\n",
            "loss 1.0044182663549641\n"
          ],
          "name": "stdout"
        },
        {
          "output_type": "stream",
          "text": [
            "epoch:  53%|█████▎    | 16/30 [07:13<06:15, 26.83s/it]"
          ],
          "name": "stderr"
        },
        {
          "output_type": "stream",
          "text": [
            "\n",
            "Epoch 016 train_loss: 1.0044     val_loss 0.9867 train_acc 0.5250 val_acc 0.5671\n",
            "loss 0.9971620530974274\n"
          ],
          "name": "stdout"
        },
        {
          "output_type": "stream",
          "text": [
            "epoch:  57%|█████▋    | 17/30 [07:40<05:47, 26.75s/it]"
          ],
          "name": "stderr"
        },
        {
          "output_type": "stream",
          "text": [
            "\n",
            "Epoch 017 train_loss: 0.9972     val_loss 0.9903 train_acc 0.5283 val_acc 0.5543\n",
            "loss 0.9872475072350465\n"
          ],
          "name": "stdout"
        },
        {
          "output_type": "stream",
          "text": [
            "epoch:  60%|██████    | 18/30 [08:06<05:20, 26.70s/it]"
          ],
          "name": "stderr"
        },
        {
          "output_type": "stream",
          "text": [
            "\n",
            "Epoch 018 train_loss: 0.9872     val_loss 0.9923 train_acc 0.5325 val_acc 0.5400\n",
            "loss 0.9760182772721352\n"
          ],
          "name": "stdout"
        },
        {
          "output_type": "stream",
          "text": [
            "epoch:  63%|██████▎   | 19/30 [08:33<04:53, 26.72s/it]"
          ],
          "name": "stderr"
        },
        {
          "output_type": "stream",
          "text": [
            "\n",
            "Epoch 019 train_loss: 0.9760     val_loss 0.9957 train_acc 0.5376 val_acc 0.5287\n",
            "loss 0.9632413710120681\n"
          ],
          "name": "stdout"
        },
        {
          "output_type": "stream",
          "text": [
            "epoch:  67%|██████▋   | 20/30 [09:00<04:27, 26.73s/it]"
          ],
          "name": "stderr"
        },
        {
          "output_type": "stream",
          "text": [
            "\n",
            "Epoch 020 train_loss: 0.9632     val_loss 1.0068 train_acc 0.5442 val_acc 0.5141\n",
            "loss 0.9495682767564441\n"
          ],
          "name": "stdout"
        },
        {
          "output_type": "stream",
          "text": [
            "epoch:  70%|███████   | 21/30 [09:26<03:59, 26.62s/it]"
          ],
          "name": "stderr"
        },
        {
          "output_type": "stream",
          "text": [
            "\n",
            "Epoch 021 train_loss: 0.9496     val_loss 1.0162 train_acc 0.5510 val_acc 0.5033\n",
            "loss 0.9358729606886953\n"
          ],
          "name": "stdout"
        },
        {
          "output_type": "stream",
          "text": [
            "epoch:  73%|███████▎  | 22/30 [09:53<03:32, 26.60s/it]"
          ],
          "name": "stderr"
        },
        {
          "output_type": "stream",
          "text": [
            "\n",
            "Epoch 022 train_loss: 0.9359     val_loss 1.0215 train_acc 0.5585 val_acc 0.5014\n",
            "loss 0.9924656880499715\n"
          ],
          "name": "stdout"
        },
        {
          "output_type": "stream",
          "text": [
            "epoch:  77%|███████▋  | 23/30 [10:19<03:05, 26.54s/it]"
          ],
          "name": "stderr"
        },
        {
          "output_type": "stream",
          "text": [
            "\n",
            "Epoch 023 train_loss: 0.9925     val_loss 0.9534 train_acc 0.5287 val_acc 0.5800\n",
            "loss 0.9745348477356091\n"
          ],
          "name": "stdout"
        },
        {
          "output_type": "stream",
          "text": [
            "epoch:  80%|████████  | 24/30 [10:46<02:39, 26.50s/it]"
          ],
          "name": "stderr"
        },
        {
          "output_type": "stream",
          "text": [
            "\n",
            "Epoch 024 train_loss: 0.9745     val_loss 0.9519 train_acc 0.5384 val_acc 0.5772\n",
            "loss 0.9630039660650719\n"
          ],
          "name": "stdout"
        },
        {
          "output_type": "stream",
          "text": [
            "epoch:  83%|████████▎ | 25/30 [11:12<02:12, 26.53s/it]"
          ],
          "name": "stderr"
        },
        {
          "output_type": "stream",
          "text": [
            "\n",
            "Epoch 025 train_loss: 0.9630     val_loss 0.9524 train_acc 0.5444 val_acc 0.5734\n",
            "loss 0.9528559854148645\n"
          ],
          "name": "stdout"
        },
        {
          "output_type": "stream",
          "text": [
            "epoch:  87%|████████▋ | 26/30 [11:39<01:45, 26.49s/it]"
          ],
          "name": "stderr"
        },
        {
          "output_type": "stream",
          "text": [
            "\n",
            "Epoch 026 train_loss: 0.9529     val_loss 0.9539 train_acc 0.5499 val_acc 0.5704\n",
            "loss 0.9433424300540729\n"
          ],
          "name": "stdout"
        },
        {
          "output_type": "stream",
          "text": [
            "epoch:  90%|█████████ | 27/30 [12:05<01:19, 26.41s/it]"
          ],
          "name": "stderr"
        },
        {
          "output_type": "stream",
          "text": [
            "\n",
            "Epoch 027 train_loss: 0.9433     val_loss 0.9563 train_acc 0.5551 val_acc 0.5685\n",
            "loss 0.9341368400152754\n"
          ],
          "name": "stdout"
        },
        {
          "output_type": "stream",
          "text": [
            "epoch:  93%|█████████▎| 28/30 [12:31<00:52, 26.43s/it]"
          ],
          "name": "stderr"
        },
        {
          "output_type": "stream",
          "text": [
            "\n",
            "Epoch 028 train_loss: 0.9341     val_loss 0.9591 train_acc 0.5601 val_acc 0.5654\n",
            "loss 0.9251225112566891\n"
          ],
          "name": "stdout"
        },
        {
          "output_type": "stream",
          "text": [
            "epoch:  97%|█████████▋| 29/30 [12:58<00:26, 26.40s/it]"
          ],
          "name": "stderr"
        },
        {
          "output_type": "stream",
          "text": [
            "\n",
            "Epoch 029 train_loss: 0.9251     val_loss 0.9628 train_acc 0.5651 val_acc 0.5616\n",
            "loss 0.9161598062411848\n"
          ],
          "name": "stdout"
        },
        {
          "output_type": "stream",
          "text": [
            "epoch: 100%|██████████| 30/30 [13:24<00:00, 26.81s/it]"
          ],
          "name": "stderr"
        },
        {
          "output_type": "stream",
          "text": [
            "\n",
            "Epoch 030 train_loss: 0.9162     val_loss 0.9666 train_acc 0.5706 val_acc 0.5601\n"
          ],
          "name": "stdout"
        },
        {
          "output_type": "stream",
          "text": [
            "\n"
          ],
          "name": "stderr"
        }
      ]
    },
    {
      "cell_type": "code",
      "metadata": {
        "id": "FGNC19AoVW0g"
      },
      "source": [
        ""
      ],
      "execution_count": null,
      "outputs": []
    },
    {
      "cell_type": "code",
      "metadata": {
        "id": "SQAHX0KAVXmj"
      },
      "source": [
        "loss, acc, val_loss, val_acc = zip(*history)"
      ],
      "execution_count": null,
      "outputs": []
    },
    {
      "cell_type": "code",
      "metadata": {
        "colab": {
          "base_uri": "https://localhost:8080/",
          "height": 551
        },
        "id": "rwI6oDdXVXmj",
        "outputId": "9b5e8b4e-4a99-42a8-be3d-d4a29ed19772"
      },
      "source": [
        "plt.figure(figsize=(15, 9))\n",
        "plt.plot(acc, label=\"train_acc\")\n",
        "plt.plot(val_acc, label=\"val_acc\")\n",
        "plt.legend(loc='best')\n",
        "plt.xlabel(\"epochs\")\n",
        "plt.ylabel(\"acc\")\n",
        "plt.show()"
      ],
      "execution_count": null,
      "outputs": [
        {
          "output_type": "display_data",
          "data": {
            "image/png": "[encoded data removed]",
            "text/plain": [
              "<Figure size 1080x648 with 1 Axes>"
            ]
          },
          "metadata": {
            "tags": [],
            "needs_background": "light"
          }
        }
      ]
    },
    {
      "cell_type": "code",
      "metadata": {
        "id": "nxfPwDT84axs"
      },
      "source": [
        "y_pred_2 = np.argmax(predict(model_cnn_2, test_loader), axis=1)"
      ],
      "execution_count": null,
      "outputs": []
    },
    {
      "cell_type": "code",
      "metadata": {
        "colab": {
          "base_uri": "https://localhost:8080/",
          "height": 364
        },
        "id": "mg3tD6IA4axt",
        "outputId": "97958b02-e767-4f64-b506-2b6a35b83782"
      },
      "source": [
        "cnf_matrix = confusion_matrix(y_test, y_pred_2, labels=[0, 1, 2])\n",
        "np.set_printoptions(precision=2)\n",
        "\n",
        "# Plot non-normalized confusion matrix\n",
        "plt.figure()\n",
        "plot_confusion_matrix(cnf_matrix, normalize=False, classes=['Fair', 'Rise', 'Fall'],\n",
        "                      title='Confusion matrix, without normalization')"
      ],
      "execution_count": null,
      "outputs": [
        {
          "output_type": "stream",
          "text": [
            "Confusion matrix, without normalization\n",
            "[[101049  14845  30053]\n",
            " [ 30721   5293  10061]\n",
            " [ 27705   3821  11674]]\n"
          ],
          "name": "stdout"
        },
        {
          "output_type": "display_data",
          "data": {
            "image/png": "[encoded data removed]",
            "text/plain": [
              "<Figure size 432x288 with 2 Axes>"
            ]
          },
          "metadata": {
            "tags": [],
            "needs_background": "light"
          }
        }
      ]
    },
    {
      "cell_type": "code",
      "metadata": {
        "colab": {
          "base_uri": "https://localhost:8080/"
        },
        "id": "9ATajOrPf8rf",
        "outputId": "1c8e2320-54fa-4fb6-e049-2e8c8c1316ef"
      },
      "source": [
        "f1_score(y_test, y_pred_2, labels=[0, 1, 2], average=None)"
      ],
      "execution_count": null,
      "outputs": [
        {
          "output_type": "execute_result",
          "data": {
            "text/plain": [
              "array([0.66, 0.15, 0.25])"
            ]
          },
          "metadata": {
            "tags": []
          },
          "execution_count": 34
        }
      ]
    },
    {
      "cell_type": "code",
      "metadata": {
        "colab": {
          "base_uri": "https://localhost:8080/"
        },
        "id": "jLeoxMprf8rh",
        "outputId": "3312e51c-1f79-4428-cc3e-dc7825518f84"
      },
      "source": [
        "f1_score(y_test, y_pred_2, labels=[0, 1, 2], average='macro')"
      ],
      "execution_count": null,
      "outputs": [
        {
          "output_type": "execute_result",
          "data": {
            "text/plain": [
              "0.3528851608039831"
            ]
          },
          "metadata": {
            "tags": []
          },
          "execution_count": 35
        }
      ]
    },
    {
      "cell_type": "code",
      "metadata": {
        "colab": {
          "base_uri": "https://localhost:8080/"
        },
        "id": "gTeMvvedf8ri",
        "outputId": "509e5759-28c4-49df-fcf6-f34563f1637d"
      },
      "source": [
        "f1_score(y_test, y_pred_2, labels=[0, 1, 2], average='weighted')"
      ],
      "execution_count": null,
      "outputs": [
        {
          "output_type": "execute_result",
          "data": {
            "text/plain": [
              "0.48531287952203345"
            ]
          },
          "metadata": {
            "tags": []
          },
          "execution_count": 36
        }
      ]
    },
    {
      "cell_type": "markdown",
      "metadata": {
        "id": "MMowk5kC43vW"
      },
      "source": [
        "Теперь модель предсказывает класс 0 практически для всей выборки. Все так использование андерсемплинга было целесообразным"
      ]
    },
    {
      "cell_type": "markdown",
      "metadata": {
        "id": "AicrJ1-o5Os9"
      },
      "source": [
        "Все таки дообучим"
      ]
    },
    {
      "cell_type": "code",
      "metadata": {
        "colab": {
          "base_uri": "https://localhost:8080/"
        },
        "id": "cXPBt_XM5Lvs",
        "outputId": "b164c20d-62e4-44d1-bc3c-6a268b7425f4"
      },
      "source": [
        "history = train(train_dataset, val_dataset, model=model_cnn_2, epochs=20, batch_size=256)"
      ],
      "execution_count": null,
      "outputs": [
        {
          "output_type": "stream",
          "text": [
            "\repoch:   0%|          | 0/20 [00:00<?, ?it/s]"
          ],
          "name": "stderr"
        },
        {
          "output_type": "stream",
          "text": [
            "loss 0.9258134118197539\n"
          ],
          "name": "stdout"
        },
        {
          "output_type": "stream",
          "text": [
            "epoch:   5%|▌         | 1/20 [00:27<08:39, 27.32s/it]"
          ],
          "name": "stderr"
        },
        {
          "output_type": "stream",
          "text": [
            "\n",
            "Epoch 001 train_loss: 0.9258     val_loss 1.0143 train_acc 0.5644 val_acc 0.5089\n",
            "loss 0.9080239779844981\n"
          ],
          "name": "stdout"
        },
        {
          "output_type": "stream",
          "text": [
            "epoch:  10%|█         | 2/20 [00:54<08:10, 27.23s/it]"
          ],
          "name": "stderr"
        },
        {
          "output_type": "stream",
          "text": [
            "\n",
            "Epoch 002 train_loss: 0.9080     val_loss 1.0314 train_acc 0.5745 val_acc 0.4999\n",
            "loss 0.8922109567887444\n"
          ],
          "name": "stdout"
        },
        {
          "output_type": "stream",
          "text": [
            "epoch:  15%|█▌        | 3/20 [01:21<07:41, 27.14s/it]"
          ],
          "name": "stderr"
        },
        {
          "output_type": "stream",
          "text": [
            "\n",
            "Epoch 003 train_loss: 0.8922     val_loss 1.0381 train_acc 0.5822 val_acc 0.4942\n",
            "loss 0.8764886804267034\n"
          ],
          "name": "stdout"
        },
        {
          "output_type": "stream",
          "text": [
            "epoch:  20%|██        | 4/20 [01:48<07:14, 27.15s/it]"
          ],
          "name": "stderr"
        },
        {
          "output_type": "stream",
          "text": [
            "\n",
            "Epoch 004 train_loss: 0.8765     val_loss 1.0500 train_acc 0.5906 val_acc 0.4935\n",
            "loss 0.8622886161379416\n"
          ],
          "name": "stdout"
        },
        {
          "output_type": "stream",
          "text": [
            "epoch:  25%|██▌       | 5/20 [02:15<06:46, 27.11s/it]"
          ],
          "name": "stderr"
        },
        {
          "output_type": "stream",
          "text": [
            "\n",
            "Epoch 005 train_loss: 0.8623     val_loss 1.0561 train_acc 0.5976 val_acc 0.4955\n",
            "loss 0.849433216138119\n"
          ],
          "name": "stdout"
        },
        {
          "output_type": "stream",
          "text": [
            "epoch:  30%|███       | 6/20 [02:42<06:19, 27.10s/it]"
          ],
          "name": "stderr"
        },
        {
          "output_type": "stream",
          "text": [
            "\n",
            "Epoch 006 train_loss: 0.8494     val_loss 1.0754 train_acc 0.6045 val_acc 0.4883\n",
            "loss 0.8365577128815498\n"
          ],
          "name": "stdout"
        },
        {
          "output_type": "stream",
          "text": [
            "epoch:  35%|███▌      | 7/20 [03:09<05:52, 27.11s/it]"
          ],
          "name": "stderr"
        },
        {
          "output_type": "stream",
          "text": [
            "\n",
            "Epoch 007 train_loss: 0.8366     val_loss 1.0916 train_acc 0.6111 val_acc 0.4801\n",
            "loss 0.8251956620488452\n"
          ],
          "name": "stdout"
        },
        {
          "output_type": "stream",
          "text": [
            "epoch:  40%|████      | 8/20 [03:36<05:25, 27.10s/it]"
          ],
          "name": "stderr"
        },
        {
          "output_type": "stream",
          "text": [
            "\n",
            "Epoch 008 train_loss: 0.8252     val_loss 1.0967 train_acc 0.6170 val_acc 0.4873\n",
            "loss 0.8143381405959317\n"
          ],
          "name": "stdout"
        },
        {
          "output_type": "stream",
          "text": [
            "epoch:  45%|████▌     | 9/20 [04:03<04:58, 27.11s/it]"
          ],
          "name": "stderr"
        },
        {
          "output_type": "stream",
          "text": [
            "\n",
            "Epoch 009 train_loss: 0.8143     val_loss 1.1003 train_acc 0.6223 val_acc 0.4867\n",
            "loss 0.8057276157309449\n"
          ],
          "name": "stdout"
        },
        {
          "output_type": "stream",
          "text": [
            "epoch:  50%|█████     | 10/20 [04:31<04:31, 27.13s/it]"
          ],
          "name": "stderr"
        },
        {
          "output_type": "stream",
          "text": [
            "\n",
            "Epoch 010 train_loss: 0.8057     val_loss 1.1272 train_acc 0.6264 val_acc 0.4775\n",
            "loss 0.7961218311569824\n"
          ],
          "name": "stdout"
        },
        {
          "output_type": "stream",
          "text": [
            "epoch:  55%|█████▌    | 11/20 [04:58<04:04, 27.12s/it]"
          ],
          "name": "stderr"
        },
        {
          "output_type": "stream",
          "text": [
            "\n",
            "Epoch 011 train_loss: 0.7961     val_loss 1.1235 train_acc 0.6310 val_acc 0.4825\n",
            "loss 0.7880609483959014\n"
          ],
          "name": "stdout"
        },
        {
          "output_type": "stream",
          "text": [
            "epoch:  60%|██████    | 12/20 [05:25<03:37, 27.16s/it]"
          ],
          "name": "stderr"
        },
        {
          "output_type": "stream",
          "text": [
            "\n",
            "Epoch 012 train_loss: 0.7881     val_loss 1.1297 train_acc 0.6351 val_acc 0.4801\n",
            "loss 0.961706955613143\n"
          ],
          "name": "stdout"
        },
        {
          "output_type": "stream",
          "text": [
            "epoch:  65%|██████▌   | 13/20 [05:52<03:09, 27.11s/it]"
          ],
          "name": "stderr"
        },
        {
          "output_type": "stream",
          "text": [
            "\n",
            "Epoch 013 train_loss: 0.9617     val_loss 0.9737 train_acc 0.5460 val_acc 0.5606\n",
            "loss 0.9186916872224726\n"
          ],
          "name": "stdout"
        },
        {
          "output_type": "stream",
          "text": [
            "epoch:  70%|███████   | 14/20 [06:18<02:41, 26.91s/it]"
          ],
          "name": "stderr"
        },
        {
          "output_type": "stream",
          "text": [
            "\n",
            "Epoch 014 train_loss: 0.9187     val_loss 0.9728 train_acc 0.5679 val_acc 0.5590\n",
            "loss 0.893552417327912\n"
          ],
          "name": "stdout"
        },
        {
          "output_type": "stream",
          "text": [
            "epoch:  75%|███████▌  | 15/20 [06:44<02:12, 26.56s/it]"
          ],
          "name": "stderr"
        },
        {
          "output_type": "stream",
          "text": [
            "\n",
            "Epoch 015 train_loss: 0.8936     val_loss 0.9775 train_acc 0.5817 val_acc 0.5566\n",
            "loss 0.8728916785722961\n"
          ],
          "name": "stdout"
        },
        {
          "output_type": "stream",
          "text": [
            "epoch:  80%|████████  | 16/20 [07:10<01:45, 26.32s/it]"
          ],
          "name": "stderr"
        },
        {
          "output_type": "stream",
          "text": [
            "\n",
            "Epoch 016 train_loss: 0.8729     val_loss 0.9840 train_acc 0.5933 val_acc 0.5551\n",
            "loss 0.854668622659779\n"
          ],
          "name": "stdout"
        },
        {
          "output_type": "stream",
          "text": [
            "epoch:  85%|████████▌ | 17/20 [07:36<01:18, 26.17s/it]"
          ],
          "name": "stderr"
        },
        {
          "output_type": "stream",
          "text": [
            "\n",
            "Epoch 017 train_loss: 0.8547     val_loss 0.9925 train_acc 0.6031 val_acc 0.5530\n",
            "loss 0.8378075844103989\n"
          ],
          "name": "stdout"
        },
        {
          "output_type": "stream",
          "text": [
            "epoch:  90%|█████████ | 18/20 [08:01<00:52, 26.01s/it]"
          ],
          "name": "stderr"
        },
        {
          "output_type": "stream",
          "text": [
            "\n",
            "Epoch 018 train_loss: 0.8378     val_loss 1.0024 train_acc 0.6126 val_acc 0.5522\n",
            "loss 0.8219582989153146\n"
          ],
          "name": "stdout"
        },
        {
          "output_type": "stream",
          "text": [
            "epoch:  95%|█████████▌| 19/20 [08:27<00:25, 25.88s/it]"
          ],
          "name": "stderr"
        },
        {
          "output_type": "stream",
          "text": [
            "\n",
            "Epoch 019 train_loss: 0.8220     val_loss 1.0139 train_acc 0.6213 val_acc 0.5511\n",
            "loss 0.8067938886517358\n"
          ],
          "name": "stdout"
        },
        {
          "output_type": "stream",
          "text": [
            "epoch: 100%|██████████| 20/20 [08:52<00:00, 26.65s/it]"
          ],
          "name": "stderr"
        },
        {
          "output_type": "stream",
          "text": [
            "\n",
            "Epoch 020 train_loss: 0.8068     val_loss 1.0264 train_acc 0.6295 val_acc 0.5491\n"
          ],
          "name": "stdout"
        },
        {
          "output_type": "stream",
          "text": [
            "\n"
          ],
          "name": "stderr"
        }
      ]
    },
    {
      "cell_type": "code",
      "metadata": {
        "id": "gwxESFniVcPe"
      },
      "source": [
        "loss, acc, val_loss, val_acc = zip(*history)"
      ],
      "execution_count": null,
      "outputs": []
    },
    {
      "cell_type": "code",
      "metadata": {
        "colab": {
          "base_uri": "https://localhost:8080/",
          "height": 551
        },
        "id": "fDYgRVdMVcPf",
        "outputId": "ec33f60b-9084-4c46-c799-c55675ba7901"
      },
      "source": [
        "plt.figure(figsize=(15, 9))\n",
        "plt.plot(acc, label=\"train_acc\")\n",
        "plt.plot(val_acc, label=\"val_acc\")\n",
        "plt.legend(loc='best')\n",
        "plt.xlabel(\"epochs\")\n",
        "plt.ylabel(\"acc\")\n",
        "plt.show()"
      ],
      "execution_count": null,
      "outputs": [
        {
          "output_type": "display_data",
          "data": {
            "image/png": "[encoded data removed]",
            "text/plain": [
              "<Figure size 1080x648 with 1 Axes>"
            ]
          },
          "metadata": {
            "tags": [],
            "needs_background": "light"
          }
        }
      ]
    },
    {
      "cell_type": "code",
      "metadata": {
        "id": "rtrSZmkl5Lvt"
      },
      "source": [
        "y_pred_2 = np.argmax(predict(model_cnn_2, test_loader), axis=1)"
      ],
      "execution_count": null,
      "outputs": []
    },
    {
      "cell_type": "code",
      "metadata": {
        "colab": {
          "base_uri": "https://localhost:8080/",
          "height": 364
        },
        "id": "KxH52__e5Lvt",
        "outputId": "0fba2a39-a426-492b-fcc0-3d9cbf945c43"
      },
      "source": [
        "cnf_matrix = confusion_matrix(y_test, y_pred_2, labels=[0, 1, 2])\n",
        "np.set_printoptions(precision=2)\n",
        "\n",
        "# Plot non-normalized confusion matrix\n",
        "plt.figure()\n",
        "plot_confusion_matrix(cnf_matrix, normalize=False, classes=['Fair', 'Rise', 'Fall'],\n",
        "                      title='Confusion matrix, without normalization')"
      ],
      "execution_count": null,
      "outputs": [
        {
          "output_type": "stream",
          "text": [
            "Confusion matrix, without normalization\n",
            "[[90686 21744 33517]\n",
            " [27202  7966 10907]\n",
            " [24497  5829 12874]]\n"
          ],
          "name": "stdout"
        },
        {
          "output_type": "display_data",
          "data": {
            "image/png": "[encoded data removed]",
            "text/plain": [
              "<Figure size 432x288 with 2 Axes>"
            ]
          },
          "metadata": {
            "tags": [],
            "needs_background": "light"
          }
        }
      ]
    },
    {
      "cell_type": "code",
      "metadata": {
        "colab": {
          "base_uri": "https://localhost:8080/"
        },
        "id": "D4ZBuaqwgUFH",
        "outputId": "74cc6691-8715-4922-84d2-14fa7d701fd4"
      },
      "source": [
        "f1_score(y_test, y_pred_2, labels=[0, 1, 2], average=None)"
      ],
      "execution_count": null,
      "outputs": [
        {
          "output_type": "execute_result",
          "data": {
            "text/plain": [
              "array([0.63, 0.2 , 0.26])"
            ]
          },
          "metadata": {
            "tags": []
          },
          "execution_count": 44
        }
      ]
    },
    {
      "cell_type": "code",
      "metadata": {
        "colab": {
          "base_uri": "https://localhost:8080/"
        },
        "id": "vtiLHhBzgUFI",
        "outputId": "6b901aae-6097-428c-9a0b-f15d2b2f5b5f"
      },
      "source": [
        "f1_score(y_test, y_pred_2, labels=[0, 1, 2], average='macro')"
      ],
      "execution_count": null,
      "outputs": [
        {
          "output_type": "execute_result",
          "data": {
            "text/plain": [
              "0.3601514854720578"
            ]
          },
          "metadata": {
            "tags": []
          },
          "execution_count": 45
        }
      ]
    },
    {
      "cell_type": "code",
      "metadata": {
        "colab": {
          "base_uri": "https://localhost:8080/"
        },
        "id": "_6w_MPdBgUFI",
        "outputId": "23a37a29-8dc5-4715-e9a6-02f319822881"
      },
      "source": [
        "f1_score(y_test, y_pred_2, labels=[0, 1, 2], average='weighted')"
      ],
      "execution_count": null,
      "outputs": [
        {
          "output_type": "execute_result",
          "data": {
            "text/plain": [
              "0.4755877852497241"
            ]
          },
          "metadata": {
            "tags": []
          },
          "execution_count": 46
        }
      ]
    },
    {
      "cell_type": "markdown",
      "metadata": {
        "id": "zLU7P2Mf8a9v"
      },
      "source": [
        "### Попробуем изменить разделение данных на классы"
      ]
    },
    {
      "cell_type": "code",
      "metadata": {
        "id": "x17Px0p15W_Z"
      },
      "source": [
        ""
      ],
      "execution_count": null,
      "outputs": []
    },
    {
      "cell_type": "code",
      "metadata": {
        "colab": {
          "base_uri": "https://localhost:8080/"
        },
        "id": "BJ7oWxxU829o",
        "outputId": "99d66352-5cbe-4ce8-ada0-3f7cf7ebacda"
      },
      "source": [
        "%%time\n",
        "X_train_5, y_train_5 = fast_data_transformer(scaled_train_data, threshold=0.05)"
      ],
      "execution_count": null,
      "outputs": [
        {
          "output_type": "stream",
          "text": [
            "CPU times: user 4min 28s, sys: 7.27 s, total: 4min 35s\n",
            "Wall time: 4min 35s\n"
          ],
          "name": "stdout"
        }
      ]
    },
    {
      "cell_type": "code",
      "metadata": {
        "id": "-k-maFXb829p"
      },
      "source": [
        "torch.save(X_train_5, '/content/drive/MyDrive/x_train_5.pt')\n",
        "torch.save(y_train_5, '/content/drive/MyDrive/y_train_5.pt')"
      ],
      "execution_count": null,
      "outputs": []
    },
    {
      "cell_type": "code",
      "metadata": {
        "id": "4YVzU8eE829p"
      },
      "source": [
        "X_test_5, y_test_5 = fast_data_transformer(scaled_test_data, threshold=0.05)"
      ],
      "execution_count": null,
      "outputs": []
    },
    {
      "cell_type": "code",
      "metadata": {
        "id": "t4oJI17l829p"
      },
      "source": [
        "torch.save(X_test_5, '/content/drive/MyDrive/x_test_5.pt')\n",
        "torch.save(y_test_5, '/content/drive/MyDrive/y_test_5.pt')"
      ],
      "execution_count": null,
      "outputs": []
    },
    {
      "cell_type": "code",
      "metadata": {
        "id": "Wme9PDS5829p"
      },
      "source": [
        "X_val_5, y_val_5 = fast_data_transformer(scaled_val_data, threshold=0.05)"
      ],
      "execution_count": null,
      "outputs": []
    },
    {
      "cell_type": "code",
      "metadata": {
        "id": "yVJhl3hV829p"
      },
      "source": [
        "torch.save(X_val_5, '/content/drive/MyDrive/x_val_5.pt')\n",
        "torch.save(y_val_5, '/content/drive/MyDrive/y_val_5.pt')"
      ],
      "execution_count": null,
      "outputs": []
    },
    {
      "cell_type": "code",
      "metadata": {
        "colab": {
          "base_uri": "https://localhost:8080/"
        },
        "id": "pk1zCrn1829p",
        "outputId": "40a332c1-2165-4d93-ae9e-3c1e95bcca22"
      },
      "source": [
        "y_val_5"
      ],
      "execution_count": null,
      "outputs": [
        {
          "output_type": "execute_result",
          "data": {
            "text/plain": [
              "tensor([0, 0, 0,  ..., 0, 0, 0])"
            ]
          },
          "metadata": {
            "tags": []
          },
          "execution_count": 105
        }
      ]
    },
    {
      "cell_type": "code",
      "metadata": {
        "id": "UgRj4Y24mmdm"
      },
      "source": [
        ""
      ],
      "execution_count": null,
      "outputs": []
    },
    {
      "cell_type": "code",
      "metadata": {
        "id": "gBxdJ882pxEL"
      },
      "source": [
        "X_train_5 = torch.load('/content/drive/My Drive/x_train_5.pt')"
      ],
      "execution_count": null,
      "outputs": []
    },
    {
      "cell_type": "code",
      "metadata": {
        "id": "ISd2hWt_pxEM"
      },
      "source": [
        "y_train_5 = torch.load('/content/drive/My Drive/y_train_5.pt')"
      ],
      "execution_count": null,
      "outputs": []
    },
    {
      "cell_type": "code",
      "metadata": {
        "id": "wORUYTwBpxEM"
      },
      "source": [
        "X_test_5 = torch.load('/content/drive/My Drive/x_test_5.pt')"
      ],
      "execution_count": null,
      "outputs": []
    },
    {
      "cell_type": "code",
      "metadata": {
        "id": "JI86v5IXpxEM"
      },
      "source": [
        "y_test_5 = torch.load('/content/drive/My Drive/y_test_5.pt')"
      ],
      "execution_count": null,
      "outputs": []
    },
    {
      "cell_type": "code",
      "metadata": {
        "id": "vks1RATupxEM"
      },
      "source": [
        "X_val_5 = torch.load('/content/drive/My Drive/x_val_5.pt')"
      ],
      "execution_count": null,
      "outputs": []
    },
    {
      "cell_type": "code",
      "metadata": {
        "id": "sjBz8bLzpxEN"
      },
      "source": [
        "y_val_5 = torch.load('/content/drive/My Drive/y_val_5.pt')"
      ],
      "execution_count": null,
      "outputs": []
    },
    {
      "cell_type": "markdown",
      "metadata": {
        "id": "zc2znfNz829p"
      },
      "source": [
        "Посмотрим на распределение ответов на обучающей выборке "
      ]
    },
    {
      "cell_type": "code",
      "metadata": {
        "colab": {
          "base_uri": "https://localhost:8080/",
          "height": 265
        },
        "id": "OIk8Ephw829p",
        "outputId": "2b49d6cc-7dd2-4888-e1f2-fd6e40662dbe"
      },
      "source": [
        "_ = plt.hist(y_train_5, bins=5)"
      ],
      "execution_count": null,
      "outputs": [
        {
          "output_type": "display_data",
          "data": {
            "image/png": "[encoded data removed]",
            "text/plain": [
              "<Figure size 432x288 with 1 Axes>"
            ]
          },
          "metadata": {
            "tags": [],
            "needs_background": "light"
          }
        }
      ]
    },
    {
      "cell_type": "code",
      "metadata": {
        "colab": {
          "base_uri": "https://localhost:8080/",
          "height": 265
        },
        "id": "gU9fcrjTHkGQ",
        "outputId": "5c3cd1e1-5611-4c80-8cd5-2f332d9ce12a"
      },
      "source": [
        "_ = plt.hist(y_test_5, bins=5)"
      ],
      "execution_count": null,
      "outputs": [
        {
          "output_type": "display_data",
          "data": {
            "image/png": "[encoded data removed]",
            "text/plain": [
              "<Figure size 432x288 with 1 Axes>"
            ]
          },
          "metadata": {
            "tags": [],
            "needs_background": "light"
          }
        }
      ]
    },
    {
      "cell_type": "markdown",
      "metadata": {
        "id": "Pz8vDmy3829p"
      },
      "source": [
        "### Андерсемплинг"
      ]
    },
    {
      "cell_type": "code",
      "metadata": {
        "id": "PsUhyGjq829p"
      },
      "source": [
        "np.random.seed(42)"
      ],
      "execution_count": null,
      "outputs": []
    },
    {
      "cell_type": "code",
      "metadata": {
        "id": "z3y9D8xp829p"
      },
      "source": [
        "def undersample(X, y):\n",
        "  indices = np.where(y == 0)[0]\n",
        "  indices_to_drop = np.random.choice(indices, size=650000)\n",
        "  return X[np.array(list(set(np.arange(X.shape[0])) - set(indices_to_drop)))], y[np.array(list(set(np.arange(X.shape[0])) - set(indices_to_drop)))]"
      ],
      "execution_count": null,
      "outputs": []
    },
    {
      "cell_type": "code",
      "metadata": {
        "id": "4nE8UZ51829p"
      },
      "source": [
        "X_train_undersampled_5, y_train_undersampled_5 = undersample(X_train_5, y_train_5)"
      ],
      "execution_count": null,
      "outputs": []
    },
    {
      "cell_type": "code",
      "metadata": {
        "colab": {
          "base_uri": "https://localhost:8080/",
          "height": 265
        },
        "id": "FD4NqxOx829p",
        "outputId": "0953dbcd-b0a8-4fd4-c5e9-09b3b44868c8"
      },
      "source": [
        "_ = plt.hist(y_train_undersampled_5, bins=5)"
      ],
      "execution_count": null,
      "outputs": [
        {
          "output_type": "display_data",
          "data": {
            "image/png": "[encoded data removed]",
            "text/plain": [
              "<Figure size 432x288 with 1 Axes>"
            ]
          },
          "metadata": {
            "tags": [],
            "needs_background": "light"
          }
        }
      ]
    },
    {
      "cell_type": "code",
      "metadata": {
        "id": "d92qRBJvEJpB"
      },
      "source": [
        ""
      ],
      "execution_count": null,
      "outputs": []
    },
    {
      "cell_type": "code",
      "metadata": {
        "id": "w6diP6Y0EUen"
      },
      "source": [
        "gadf = GramianAngularField(image_size=20, method='difference')"
      ],
      "execution_count": null,
      "outputs": []
    },
    {
      "cell_type": "code",
      "metadata": {
        "id": "u5qd80vIEUen"
      },
      "source": [
        "X_train_gadf_5 = gadf.fit_transform(X_train_undersampled_5[:, :, 3])\n",
        "X_val_gadf_5 = gadf.fit_transform(X_val_5[:, :, 3])\n",
        "X_test_gadf_5 = gadf.fit_transform(X_test_5[:, :, 3])"
      ],
      "execution_count": null,
      "outputs": []
    },
    {
      "cell_type": "code",
      "metadata": {
        "id": "HAs1RUhcEUen"
      },
      "source": [
        "train_dataset = torch.utils.data.TensorDataset(torch.tensor(X_train_gadf_5).reshape(-1, 1, 20, 20).float().cuda(), y_train_undersampled_5.cuda())\n",
        "val_dataset = torch.utils.data.TensorDataset(torch.tensor(X_val_gadf_5).reshape(-1, 1, 20, 20).float().cuda(), y_val_5.cuda())\n",
        "test_dataset = torch.utils.data.TensorDataset(torch.tensor(X_test_gadf_5).reshape(-1, 1, 20, 20).float().cuda())\n",
        "\n",
        "test_loader = torch.utils.data.DataLoader(dataset=test_dataset, \n",
        "                                           batch_size=256, \n",
        "                                           shuffle=False)"
      ],
      "execution_count": null,
      "outputs": []
    },
    {
      "cell_type": "code",
      "metadata": {
        "id": "BmqQbDBfEUen"
      },
      "source": [
        "model_cnn_5 = ModelCnn(3).to(DEVICE)"
      ],
      "execution_count": null,
      "outputs": []
    },
    {
      "cell_type": "code",
      "metadata": {
        "colab": {
          "base_uri": "https://localhost:8080/"
        },
        "id": "nc2URvLCEUen",
        "outputId": "46a155d0-6500-40e8-9370-7a3d982f2ef4"
      },
      "source": [
        "history = train(train_dataset, val_dataset, model=model_cnn_5, epochs=30, batch_size=256)"
      ],
      "execution_count": null,
      "outputs": [
        {
          "output_type": "stream",
          "text": [
            "\repoch:   0%|          | 0/30 [00:00<?, ?it/s]"
          ],
          "name": "stderr"
        },
        {
          "output_type": "stream",
          "text": [
            "loss 1.102387363975612\n"
          ],
          "name": "stdout"
        },
        {
          "output_type": "stream",
          "text": [
            "epoch:   3%|▎         | 1/30 [00:14<07:09, 14.82s/it]"
          ],
          "name": "stderr"
        },
        {
          "output_type": "stream",
          "text": [
            "\n",
            "Epoch 001 train_loss: 1.1024     val_loss 1.1181 train_acc 0.3982 val_acc 0.3750\n",
            "loss 1.088340291247173\n"
          ],
          "name": "stdout"
        },
        {
          "output_type": "stream",
          "text": [
            "epoch:   7%|▋         | 2/30 [00:29<06:54, 14.80s/it]"
          ],
          "name": "stderr"
        },
        {
          "output_type": "stream",
          "text": [
            "\n",
            "Epoch 002 train_loss: 1.0883     val_loss 1.0523 train_acc 0.4056 val_acc 0.8152\n",
            "loss 1.0864859825464581\n"
          ],
          "name": "stdout"
        },
        {
          "output_type": "stream",
          "text": [
            "epoch:  10%|█         | 3/30 [00:44<06:38, 14.76s/it]"
          ],
          "name": "stderr"
        },
        {
          "output_type": "stream",
          "text": [
            "\n",
            "Epoch 003 train_loss: 1.0865     val_loss 1.1368 train_acc 0.4072 val_acc 0.4673\n",
            "loss 1.0859624244104058\n"
          ],
          "name": "stdout"
        },
        {
          "output_type": "stream",
          "text": [
            "epoch:  13%|█▎        | 4/30 [00:58<06:22, 14.70s/it]"
          ],
          "name": "stderr"
        },
        {
          "output_type": "stream",
          "text": [
            "\n",
            "Epoch 004 train_loss: 1.0860     val_loss 1.1580 train_acc 0.4087 val_acc 0.3939\n",
            "loss 1.0853700980805703\n"
          ],
          "name": "stdout"
        },
        {
          "output_type": "stream",
          "text": [
            "epoch:  17%|█▋        | 5/30 [01:13<06:06, 14.67s/it]"
          ],
          "name": "stderr"
        },
        {
          "output_type": "stream",
          "text": [
            "\n",
            "Epoch 005 train_loss: 1.0854     val_loss 1.1252 train_acc 0.4087 val_acc 0.4842\n",
            "loss 1.0848829268238562\n"
          ],
          "name": "stdout"
        },
        {
          "output_type": "stream",
          "text": [
            "epoch:  20%|██        | 6/30 [01:28<05:54, 14.79s/it]"
          ],
          "name": "stderr"
        },
        {
          "output_type": "stream",
          "text": [
            "\n",
            "Epoch 006 train_loss: 1.0849     val_loss 1.0913 train_acc 0.4103 val_acc 0.5266\n",
            "loss 1.084399469019743\n"
          ],
          "name": "stdout"
        },
        {
          "output_type": "stream",
          "text": [
            "epoch:  23%|██▎       | 7/30 [01:43<05:44, 14.97s/it]"
          ],
          "name": "stderr"
        },
        {
          "output_type": "stream",
          "text": [
            "\n",
            "Epoch 007 train_loss: 1.0844     val_loss 1.1122 train_acc 0.4109 val_acc 0.4708\n",
            "loss 1.08373262961398\n"
          ],
          "name": "stdout"
        },
        {
          "output_type": "stream",
          "text": [
            "epoch:  27%|██▋       | 8/30 [01:58<05:29, 14.96s/it]"
          ],
          "name": "stderr"
        },
        {
          "output_type": "stream",
          "text": [
            "\n",
            "Epoch 008 train_loss: 1.0837     val_loss 1.0952 train_acc 0.4122 val_acc 0.5046\n",
            "loss 1.0834796354229077\n"
          ],
          "name": "stdout"
        },
        {
          "output_type": "stream",
          "text": [
            "epoch:  30%|███       | 9/30 [02:13<05:09, 14.75s/it]"
          ],
          "name": "stderr"
        },
        {
          "output_type": "stream",
          "text": [
            "\n",
            "Epoch 009 train_loss: 1.0835     val_loss 1.0861 train_acc 0.4126 val_acc 0.5048\n",
            "loss 1.0822053362535715\n"
          ],
          "name": "stdout"
        },
        {
          "output_type": "stream",
          "text": [
            "epoch:  33%|███▎      | 10/30 [02:27<04:54, 14.73s/it]"
          ],
          "name": "stderr"
        },
        {
          "output_type": "stream",
          "text": [
            "\n",
            "Epoch 010 train_loss: 1.0822     val_loss 1.0966 train_acc 0.4149 val_acc 0.5100\n",
            "loss 1.080512157914295\n"
          ],
          "name": "stdout"
        },
        {
          "output_type": "stream",
          "text": [
            "epoch:  37%|███▋      | 11/30 [02:42<04:38, 14.68s/it]"
          ],
          "name": "stderr"
        },
        {
          "output_type": "stream",
          "text": [
            "\n",
            "Epoch 011 train_loss: 1.0805     val_loss 1.0925 train_acc 0.4168 val_acc 0.5356\n",
            "loss 1.0783791589695777\n"
          ],
          "name": "stdout"
        },
        {
          "output_type": "stream",
          "text": [
            "epoch:  40%|████      | 12/30 [02:56<04:21, 14.51s/it]"
          ],
          "name": "stderr"
        },
        {
          "output_type": "stream",
          "text": [
            "\n",
            "Epoch 012 train_loss: 1.0784     val_loss 1.0939 train_acc 0.4199 val_acc 0.5358\n",
            "loss 1.0747411722030182\n"
          ],
          "name": "stdout"
        },
        {
          "output_type": "stream",
          "text": [
            "epoch:  43%|████▎     | 13/30 [03:10<04:04, 14.36s/it]"
          ],
          "name": "stderr"
        },
        {
          "output_type": "stream",
          "text": [
            "\n",
            "Epoch 013 train_loss: 1.0747     val_loss 1.0975 train_acc 0.4246 val_acc 0.4874\n",
            "loss 1.0735682622131915\n"
          ],
          "name": "stdout"
        },
        {
          "output_type": "stream",
          "text": [
            "epoch:  47%|████▋     | 14/30 [03:24<03:48, 14.28s/it]"
          ],
          "name": "stderr"
        },
        {
          "output_type": "stream",
          "text": [
            "\n",
            "Epoch 014 train_loss: 1.0736     val_loss 1.0053 train_acc 0.4235 val_acc 0.6234\n",
            "loss 1.0683430876474873\n"
          ],
          "name": "stdout"
        },
        {
          "output_type": "stream",
          "text": [
            "epoch:  50%|█████     | 15/30 [03:38<03:34, 14.29s/it]"
          ],
          "name": "stderr"
        },
        {
          "output_type": "stream",
          "text": [
            "\n",
            "Epoch 015 train_loss: 1.0683     val_loss 1.0048 train_acc 0.4308 val_acc 0.5961\n",
            "loss 1.064846756818622\n"
          ],
          "name": "stdout"
        },
        {
          "output_type": "stream",
          "text": [
            "epoch:  53%|█████▎    | 16/30 [03:52<03:19, 14.22s/it]"
          ],
          "name": "stderr"
        },
        {
          "output_type": "stream",
          "text": [
            "\n",
            "Epoch 016 train_loss: 1.0648     val_loss 1.0068 train_acc 0.4348 val_acc 0.5711\n",
            "loss 1.06128338502845\n"
          ],
          "name": "stdout"
        },
        {
          "output_type": "stream",
          "text": [
            "epoch:  57%|█████▋    | 17/30 [04:07<03:07, 14.46s/it]"
          ],
          "name": "stderr"
        },
        {
          "output_type": "stream",
          "text": [
            "\n",
            "Epoch 017 train_loss: 1.0613     val_loss 1.0097 train_acc 0.4382 val_acc 0.5475\n",
            "loss 1.0573818329536504\n"
          ],
          "name": "stdout"
        },
        {
          "output_type": "stream",
          "text": [
            "epoch:  60%|██████    | 18/30 [04:22<02:53, 14.46s/it]"
          ],
          "name": "stderr"
        },
        {
          "output_type": "stream",
          "text": [
            "\n",
            "Epoch 018 train_loss: 1.0574     val_loss 1.0119 train_acc 0.4422 val_acc 0.5252\n",
            "loss 1.0529244061560823\n"
          ],
          "name": "stdout"
        },
        {
          "output_type": "stream",
          "text": [
            "epoch:  63%|██████▎   | 19/30 [04:36<02:37, 14.35s/it]"
          ],
          "name": "stderr"
        },
        {
          "output_type": "stream",
          "text": [
            "\n",
            "Epoch 019 train_loss: 1.0529     val_loss 1.0151 train_acc 0.4465 val_acc 0.5085\n",
            "loss 1.0477111761889297\n"
          ],
          "name": "stdout"
        },
        {
          "output_type": "stream",
          "text": [
            "epoch:  67%|██████▋   | 20/30 [04:50<02:23, 14.37s/it]"
          ],
          "name": "stderr"
        },
        {
          "output_type": "stream",
          "text": [
            "\n",
            "Epoch 020 train_loss: 1.0477     val_loss 1.0176 train_acc 0.4514 val_acc 0.4949\n",
            "loss 1.0416526918304532\n"
          ],
          "name": "stdout"
        },
        {
          "output_type": "stream",
          "text": [
            "epoch:  70%|███████   | 21/30 [05:04<02:07, 14.21s/it]"
          ],
          "name": "stderr"
        },
        {
          "output_type": "stream",
          "text": [
            "\n",
            "Epoch 021 train_loss: 1.0417     val_loss 1.0199 train_acc 0.4568 val_acc 0.4827\n",
            "loss 1.0345334282721927\n"
          ],
          "name": "stdout"
        },
        {
          "output_type": "stream",
          "text": [
            "epoch:  73%|███████▎  | 22/30 [05:19<01:54, 14.35s/it]"
          ],
          "name": "stderr"
        },
        {
          "output_type": "stream",
          "text": [
            "\n",
            "Epoch 022 train_loss: 1.0345     val_loss 1.0223 train_acc 0.4631 val_acc 0.4744\n",
            "loss 1.0261780184652105\n"
          ],
          "name": "stdout"
        },
        {
          "output_type": "stream",
          "text": [
            "epoch:  77%|███████▋  | 23/30 [05:33<01:39, 14.28s/it]"
          ],
          "name": "stderr"
        },
        {
          "output_type": "stream",
          "text": [
            "\n",
            "Epoch 023 train_loss: 1.0262     val_loss 1.0242 train_acc 0.4705 val_acc 0.4668\n",
            "loss 1.0165888969566508\n"
          ],
          "name": "stdout"
        },
        {
          "output_type": "stream",
          "text": [
            "epoch:  80%|████████  | 24/30 [05:47<01:25, 14.28s/it]"
          ],
          "name": "stderr"
        },
        {
          "output_type": "stream",
          "text": [
            "\n",
            "Epoch 024 train_loss: 1.0166     val_loss 1.0272 train_acc 0.4787 val_acc 0.4588\n",
            "loss 1.0057917824151577\n"
          ],
          "name": "stdout"
        },
        {
          "output_type": "stream",
          "text": [
            "epoch:  83%|████████▎ | 25/30 [06:01<01:10, 14.16s/it]"
          ],
          "name": "stderr"
        },
        {
          "output_type": "stream",
          "text": [
            "\n",
            "Epoch 025 train_loss: 1.0058     val_loss 1.0305 train_acc 0.4873 val_acc 0.4544\n",
            "loss 0.9939137716107047\n"
          ],
          "name": "stdout"
        },
        {
          "output_type": "stream",
          "text": [
            "epoch:  87%|████████▋ | 26/30 [06:16<00:56, 14.23s/it]"
          ],
          "name": "stderr"
        },
        {
          "output_type": "stream",
          "text": [
            "\n",
            "Epoch 026 train_loss: 0.9939     val_loss 1.0344 train_acc 0.4963 val_acc 0.4517\n",
            "loss 1.0023689411183536\n"
          ],
          "name": "stdout"
        },
        {
          "output_type": "stream",
          "text": [
            "epoch:  90%|█████████ | 27/30 [06:30<00:42, 14.20s/it]"
          ],
          "name": "stderr"
        },
        {
          "output_type": "stream",
          "text": [
            "\n",
            "Epoch 027 train_loss: 1.0024     val_loss 0.9779 train_acc 0.4880 val_acc 0.5183\n",
            "loss 0.9975464575454929\n"
          ],
          "name": "stdout"
        },
        {
          "output_type": "stream",
          "text": [
            "epoch:  93%|█████████▎| 28/30 [06:44<00:28, 14.28s/it]"
          ],
          "name": "stderr"
        },
        {
          "output_type": "stream",
          "text": [
            "\n",
            "Epoch 028 train_loss: 0.9975     val_loss 0.9729 train_acc 0.4926 val_acc 0.5248\n",
            "loss 0.9952977661387317\n"
          ],
          "name": "stdout"
        },
        {
          "output_type": "stream",
          "text": [
            "epoch:  97%|█████████▋| 29/30 [06:58<00:14, 14.26s/it]"
          ],
          "name": "stderr"
        },
        {
          "output_type": "stream",
          "text": [
            "\n",
            "Epoch 029 train_loss: 0.9953     val_loss 0.9720 train_acc 0.4943 val_acc 0.5262\n",
            "loss 0.9933243883256544\n"
          ],
          "name": "stdout"
        },
        {
          "output_type": "stream",
          "text": [
            "epoch: 100%|██████████| 30/30 [07:12<00:00, 14.43s/it]"
          ],
          "name": "stderr"
        },
        {
          "output_type": "stream",
          "text": [
            "\n",
            "Epoch 030 train_loss: 0.9933     val_loss 0.9714 train_acc 0.4958 val_acc 0.5263\n"
          ],
          "name": "stdout"
        },
        {
          "output_type": "stream",
          "text": [
            "\n"
          ],
          "name": "stderr"
        }
      ]
    },
    {
      "cell_type": "code",
      "metadata": {
        "id": "lHX1ievLjvop"
      },
      "source": [
        "loss, acc, val_loss, val_acc = zip(*history)"
      ],
      "execution_count": null,
      "outputs": []
    },
    {
      "cell_type": "code",
      "metadata": {
        "colab": {
          "base_uri": "https://localhost:8080/",
          "height": 551
        },
        "id": "ruNTtstrjvoq",
        "outputId": "81cd8505-fc29-4942-f137-e733999aa7cb"
      },
      "source": [
        "plt.figure(figsize=(15, 9))\n",
        "plt.plot(acc, label=\"train_acc\")\n",
        "plt.plot(val_acc, label=\"val_acc\")\n",
        "plt.legend(loc='best')\n",
        "plt.xlabel(\"epochs\")\n",
        "plt.ylabel(\"acc\")\n",
        "plt.show()"
      ],
      "execution_count": null,
      "outputs": [
        {
          "output_type": "display_data",
          "data": {
            "image/png": "[encoded data removed]",
            "text/plain": [
              "<Figure size 1080x648 with 1 Axes>"
            ]
          },
          "metadata": {
            "tags": [],
            "needs_background": "light"
          }
        }
      ]
    },
    {
      "cell_type": "code",
      "metadata": {
        "id": "kcb30T4QEUeo"
      },
      "source": [
        "y_pred_5 = np.argmax(predict(model_cnn_5, test_loader), axis=1)"
      ],
      "execution_count": null,
      "outputs": []
    },
    {
      "cell_type": "code",
      "metadata": {
        "colab": {
          "base_uri": "https://localhost:8080/",
          "height": 364
        },
        "id": "gb4Z3HVZEUeo",
        "outputId": "15649f5f-3e40-4077-f09b-69864e669ba0"
      },
      "source": [
        "cnf_matrix = confusion_matrix(y_test_5, y_pred_5, labels=[0, 1, 2])\n",
        "np.set_printoptions(precision=2)\n",
        "\n",
        "# Plot non-normalized confusion matrix\n",
        "plt.figure()\n",
        "plot_confusion_matrix(cnf_matrix, normalize=False, classes=['Fair', 'Rise', 'Fall'],\n",
        "                      title='Confusion matrix, without normalization')"
      ],
      "execution_count": null,
      "outputs": [
        {
          "output_type": "stream",
          "text": [
            "Confusion matrix, without normalization\n",
            "[[101136  45477  39100]\n",
            " [ 13131   6894   5419]\n",
            " [ 11258   5634   7173]]\n"
          ],
          "name": "stdout"
        },
        {
          "output_type": "display_data",
          "data": {
            "image/png": "[encoded data removed]",
            "text/plain": [
              "<Figure size 432x288 with 2 Axes>"
            ]
          },
          "metadata": {
            "tags": [],
            "needs_background": "light"
          }
        }
      ]
    },
    {
      "cell_type": "code",
      "metadata": {
        "colab": {
          "base_uri": "https://localhost:8080/"
        },
        "id": "7hHGs5rkj4D6",
        "outputId": "f15b9b43-eed0-4d61-b5b8-84ccabe0eb1e"
      },
      "source": [
        "f1_score(y_test_5, y_pred_5, labels=[0, 1, 2], average=None)"
      ],
      "execution_count": null,
      "outputs": [
        {
          "output_type": "execute_result",
          "data": {
            "text/plain": [
              "array([0.65, 0.17, 0.19])"
            ]
          },
          "metadata": {
            "tags": []
          },
          "execution_count": 41
        }
      ]
    },
    {
      "cell_type": "code",
      "metadata": {
        "colab": {
          "base_uri": "https://localhost:8080/"
        },
        "id": "UjAUhlyLj4D7",
        "outputId": "6e91d12a-1f1d-4c15-90ca-438ade423971"
      },
      "source": [
        "f1_score(y_test_5, y_pred_5, labels=[0, 1, 2], average='macro')"
      ],
      "execution_count": null,
      "outputs": [
        {
          "output_type": "execute_result",
          "data": {
            "text/plain": [
              "0.33483008009948784"
            ]
          },
          "metadata": {
            "tags": []
          },
          "execution_count": 42
        }
      ]
    },
    {
      "cell_type": "code",
      "metadata": {
        "colab": {
          "base_uri": "https://localhost:8080/"
        },
        "id": "izAYk1rcj4D7",
        "outputId": "80db5085-efdf-4ff5-c4c5-5cb992d713c0"
      },
      "source": [
        "f1_score(y_test_5, y_pred_5, labels=[0, 1, 2], average='weighted')"
      ],
      "execution_count": null,
      "outputs": [
        {
          "output_type": "execute_result",
          "data": {
            "text/plain": [
              "0.5503529507092828"
            ]
          },
          "metadata": {
            "tags": []
          },
          "execution_count": 43
        }
      ]
    },
    {
      "cell_type": "code",
      "metadata": {
        "colab": {
          "base_uri": "https://localhost:8080/"
        },
        "id": "xRrQOLF9EUeo",
        "outputId": "0820656e-3dc7-4852-bad3-53c4b6287139"
      },
      "source": [
        "history = train(train_dataset, val_dataset, model=model_cnn_5, epochs=20, batch_size=256)"
      ],
      "execution_count": null,
      "outputs": [
        {
          "output_type": "stream",
          "text": [
            "\repoch:   0%|          | 0/20 [00:00<?, ?it/s]"
          ],
          "name": "stderr"
        },
        {
          "output_type": "stream",
          "text": [
            "loss 1.0402128971435458\n"
          ],
          "name": "stdout"
        },
        {
          "output_type": "stream",
          "text": [
            "epoch:   5%|▌         | 1/20 [00:14<04:31, 14.31s/it]"
          ],
          "name": "stderr"
        },
        {
          "output_type": "stream",
          "text": [
            "\n",
            "Epoch 001 train_loss: 1.0402     val_loss 1.1459 train_acc 0.4574 val_acc 0.3182\n",
            "loss 1.028412596281244\n"
          ],
          "name": "stdout"
        },
        {
          "output_type": "stream",
          "text": [
            "epoch:  10%|█         | 2/20 [00:28<04:18, 14.38s/it]"
          ],
          "name": "stderr"
        },
        {
          "output_type": "stream",
          "text": [
            "\n",
            "Epoch 002 train_loss: 1.0284     val_loss 1.1658 train_acc 0.4679 val_acc 0.3171\n",
            "loss 1.0075274932061828\n"
          ],
          "name": "stdout"
        },
        {
          "output_type": "stream",
          "text": [
            "epoch:  15%|█▌        | 3/20 [00:42<04:02, 14.24s/it]"
          ],
          "name": "stderr"
        },
        {
          "output_type": "stream",
          "text": [
            "\n",
            "Epoch 003 train_loss: 1.0075     val_loss 1.2004 train_acc 0.4844 val_acc 0.3219\n",
            "loss 0.9812721109395671\n"
          ],
          "name": "stdout"
        },
        {
          "output_type": "stream",
          "text": [
            "epoch:  20%|██        | 4/20 [00:57<03:47, 14.24s/it]"
          ],
          "name": "stderr"
        },
        {
          "output_type": "stream",
          "text": [
            "\n",
            "Epoch 004 train_loss: 0.9813     val_loss 1.2090 train_acc 0.5035 val_acc 0.3500\n",
            "loss 0.9513672040752903\n"
          ],
          "name": "stdout"
        },
        {
          "output_type": "stream",
          "text": [
            "epoch:  25%|██▌       | 5/20 [01:11<03:35, 14.35s/it]"
          ],
          "name": "stderr"
        },
        {
          "output_type": "stream",
          "text": [
            "\n",
            "Epoch 005 train_loss: 0.9514     val_loss 1.2512 train_acc 0.5233 val_acc 0.3463\n",
            "loss 0.9223903353175107\n"
          ],
          "name": "stdout"
        },
        {
          "output_type": "stream",
          "text": [
            "epoch:  30%|███       | 6/20 [01:25<03:20, 14.35s/it]"
          ],
          "name": "stderr"
        },
        {
          "output_type": "stream",
          "text": [
            "\n",
            "Epoch 006 train_loss: 0.9224     val_loss 1.2876 train_acc 0.5413 val_acc 0.3763\n",
            "loss 0.893108611374443\n"
          ],
          "name": "stdout"
        },
        {
          "output_type": "stream",
          "text": [
            "epoch:  35%|███▌      | 7/20 [01:39<03:03, 14.10s/it]"
          ],
          "name": "stderr"
        },
        {
          "output_type": "stream",
          "text": [
            "\n",
            "Epoch 007 train_loss: 0.8931     val_loss 1.3188 train_acc 0.5592 val_acc 0.3731\n",
            "loss 0.8648556284149278\n"
          ],
          "name": "stdout"
        },
        {
          "output_type": "stream",
          "text": [
            "epoch:  40%|████      | 8/20 [01:54<02:50, 14.24s/it]"
          ],
          "name": "stderr"
        },
        {
          "output_type": "stream",
          "text": [
            "\n",
            "Epoch 008 train_loss: 0.8649     val_loss 1.3828 train_acc 0.5762 val_acc 0.3683\n",
            "loss 0.8376008625744261\n"
          ],
          "name": "stdout"
        },
        {
          "output_type": "stream",
          "text": [
            "epoch:  45%|████▌     | 9/20 [02:08<02:36, 14.19s/it]"
          ],
          "name": "stderr"
        },
        {
          "output_type": "stream",
          "text": [
            "\n",
            "Epoch 009 train_loss: 0.8376     val_loss 1.4365 train_acc 0.5923 val_acc 0.3634\n",
            "loss 0.8119764887918185\n"
          ],
          "name": "stdout"
        },
        {
          "output_type": "stream",
          "text": [
            "epoch:  50%|█████     | 10/20 [02:23<02:24, 14.40s/it]"
          ],
          "name": "stderr"
        },
        {
          "output_type": "stream",
          "text": [
            "\n",
            "Epoch 010 train_loss: 0.8120     val_loss 1.4966 train_acc 0.6072 val_acc 0.3603\n",
            "loss 0.7882248988668656\n"
          ],
          "name": "stdout"
        },
        {
          "output_type": "stream",
          "text": [
            "epoch:  55%|█████▌    | 11/20 [02:37<02:09, 14.44s/it]"
          ],
          "name": "stderr"
        },
        {
          "output_type": "stream",
          "text": [
            "\n",
            "Epoch 011 train_loss: 0.7882     val_loss 1.5154 train_acc 0.6211 val_acc 0.3659\n",
            "loss 0.7639735032726405\n"
          ],
          "name": "stdout"
        },
        {
          "output_type": "stream",
          "text": [
            "epoch:  60%|██████    | 12/20 [02:52<01:56, 14.52s/it]"
          ],
          "name": "stderr"
        },
        {
          "output_type": "stream",
          "text": [
            "\n",
            "Epoch 012 train_loss: 0.7640     val_loss 1.4919 train_acc 0.6356 val_acc 0.3851\n",
            "loss 0.8142153986060287\n"
          ],
          "name": "stdout"
        },
        {
          "output_type": "stream",
          "text": [
            "epoch:  65%|██████▌   | 13/20 [03:06<01:40, 14.41s/it]"
          ],
          "name": "stderr"
        },
        {
          "output_type": "stream",
          "text": [
            "\n",
            "Epoch 013 train_loss: 0.8142     val_loss 1.1118 train_acc 0.6132 val_acc 0.4998\n",
            "loss 0.7402903018424505\n"
          ],
          "name": "stdout"
        },
        {
          "output_type": "stream",
          "text": [
            "epoch:  70%|███████   | 14/20 [03:21<01:26, 14.49s/it]"
          ],
          "name": "stderr"
        },
        {
          "output_type": "stream",
          "text": [
            "\n",
            "Epoch 014 train_loss: 0.7403     val_loss 1.1439 train_acc 0.6513 val_acc 0.4983\n",
            "loss 0.6917517988747658\n"
          ],
          "name": "stdout"
        },
        {
          "output_type": "stream",
          "text": [
            "epoch:  75%|███████▌  | 15/20 [03:34<01:11, 14.24s/it]"
          ],
          "name": "stderr"
        },
        {
          "output_type": "stream",
          "text": [
            "\n",
            "Epoch 015 train_loss: 0.6918     val_loss 1.1851 train_acc 0.6776 val_acc 0.5005\n",
            "loss 0.6506621055699913\n"
          ],
          "name": "stdout"
        },
        {
          "output_type": "stream",
          "text": [
            "epoch:  80%|████████  | 16/20 [03:48<00:56, 14.06s/it]"
          ],
          "name": "stderr"
        },
        {
          "output_type": "stream",
          "text": [
            "\n",
            "Epoch 016 train_loss: 0.6507     val_loss 1.2349 train_acc 0.6996 val_acc 0.5016\n",
            "loss 0.6135698061393968\n"
          ],
          "name": "stdout"
        },
        {
          "output_type": "stream",
          "text": [
            "epoch:  85%|████████▌ | 17/20 [04:02<00:42, 14.11s/it]"
          ],
          "name": "stderr"
        },
        {
          "output_type": "stream",
          "text": [
            "\n",
            "Epoch 017 train_loss: 0.6136     val_loss 1.2927 train_acc 0.7191 val_acc 0.5042\n",
            "loss 0.579385122896931\n"
          ],
          "name": "stdout"
        },
        {
          "output_type": "stream",
          "text": [
            "epoch:  90%|█████████ | 18/20 [04:17<00:28, 14.22s/it]"
          ],
          "name": "stderr"
        },
        {
          "output_type": "stream",
          "text": [
            "\n",
            "Epoch 018 train_loss: 0.5794     val_loss 1.3587 train_acc 0.7365 val_acc 0.5079\n",
            "loss 0.5471215733765142\n"
          ],
          "name": "stdout"
        },
        {
          "output_type": "stream",
          "text": [
            "epoch:  95%|█████████▌| 19/20 [04:31<00:14, 14.17s/it]"
          ],
          "name": "stderr"
        },
        {
          "output_type": "stream",
          "text": [
            "\n",
            "Epoch 019 train_loss: 0.5471     val_loss 1.4381 train_acc 0.7525 val_acc 0.5094\n",
            "loss 0.5164289407088363\n"
          ],
          "name": "stdout"
        },
        {
          "output_type": "stream",
          "text": [
            "epoch: 100%|██████████| 20/20 [04:44<00:00, 14.24s/it]"
          ],
          "name": "stderr"
        },
        {
          "output_type": "stream",
          "text": [
            "\n",
            "Epoch 020 train_loss: 0.5164     val_loss 1.5297 train_acc 0.7676 val_acc 0.5109\n"
          ],
          "name": "stdout"
        },
        {
          "output_type": "stream",
          "text": [
            "\n"
          ],
          "name": "stderr"
        }
      ]
    },
    {
      "cell_type": "code",
      "metadata": {
        "id": "x74tce3Uv7uE"
      },
      "source": [
        "loss, acc, val_loss, val_acc = zip(*history)"
      ],
      "execution_count": null,
      "outputs": []
    },
    {
      "cell_type": "code",
      "metadata": {
        "colab": {
          "base_uri": "https://localhost:8080/",
          "height": 551
        },
        "id": "KbcmAaN_v7uE",
        "outputId": "9c5e23ac-e364-441a-a724-cc263e60db41"
      },
      "source": [
        "plt.figure(figsize=(15, 9))\n",
        "plt.plot(acc, label=\"train_acc\")\n",
        "plt.plot(val_acc, label=\"val_acc\")\n",
        "plt.legend(loc='best')\n",
        "plt.xlabel(\"epochs\")\n",
        "plt.ylabel(\"acc\")\n",
        "plt.show()"
      ],
      "execution_count": null,
      "outputs": [
        {
          "output_type": "display_data",
          "data": {
            "image/png": "[encoded data removed]",
            "text/plain": [
              "<Figure size 1080x648 with 1 Axes>"
            ]
          },
          "metadata": {
            "tags": [],
            "needs_background": "light"
          }
        }
      ]
    },
    {
      "cell_type": "code",
      "metadata": {
        "id": "I2nd6J-UJlgB"
      },
      "source": [
        "y_pred_5 = np.argmax(predict(model_cnn_5, test_loader), axis=1)"
      ],
      "execution_count": null,
      "outputs": []
    },
    {
      "cell_type": "code",
      "metadata": {
        "colab": {
          "base_uri": "https://localhost:8080/",
          "height": 364
        },
        "id": "lfET7gEQJlgC",
        "outputId": "5d5faf44-e270-4044-d754-c1df29bc4f4f"
      },
      "source": [
        "cnf_matrix = confusion_matrix(y_test_5, y_pred_5, labels=[0, 1, 2])\n",
        "np.set_printoptions(precision=2)\n",
        "\n",
        "# Plot non-normalized confusion matrix\n",
        "plt.figure()\n",
        "plot_confusion_matrix(cnf_matrix, normalize=False, classes=['Fair', 'Rise', 'Fall'],\n",
        "                      title='Confusion matrix, without normalization')"
      ],
      "execution_count": null,
      "outputs": [
        {
          "output_type": "stream",
          "text": [
            "Confusion matrix, without normalization\n",
            "[[81053 52751 51909]\n",
            " [ 9831  8655  6958]\n",
            " [ 8746  5892  9427]]\n"
          ],
          "name": "stdout"
        },
        {
          "output_type": "display_data",
          "data": {
            "image/png": "[encoded data removed]",
            "text/plain": [
              "<Figure size 432x288 with 2 Axes>"
            ]
          },
          "metadata": {
            "tags": [],
            "needs_background": "light"
          }
        }
      ]
    },
    {
      "cell_type": "code",
      "metadata": {
        "colab": {
          "base_uri": "https://localhost:8080/"
        },
        "id": "R7hbJRtSJmU6",
        "outputId": "8aeded0d-6ad3-421e-c54b-1711628b3b9b"
      },
      "source": [
        "accuracy_score(y_test_5, y_pred_5)"
      ],
      "execution_count": null,
      "outputs": [
        {
          "output_type": "execute_result",
          "data": {
            "text/plain": [
              "0.42145292532161105"
            ]
          },
          "metadata": {
            "tags": []
          },
          "execution_count": 49
        }
      ]
    },
    {
      "cell_type": "code",
      "metadata": {
        "colab": {
          "base_uri": "https://localhost:8080/"
        },
        "id": "ZdRrRzdpwB0o",
        "outputId": "5054f024-a96e-4bc5-b16e-d80a5cba68c4"
      },
      "source": [
        "f1_score(y_test_5, y_pred_5, labels=[0, 1, 2], average=None)"
      ],
      "execution_count": null,
      "outputs": [
        {
          "output_type": "execute_result",
          "data": {
            "text/plain": [
              "array([0.57, 0.19, 0.2 ])"
            ]
          },
          "metadata": {
            "tags": []
          },
          "execution_count": 50
        }
      ]
    },
    {
      "cell_type": "code",
      "metadata": {
        "colab": {
          "base_uri": "https://localhost:8080/"
        },
        "id": "m0HCBZo1wB0o",
        "outputId": "770710fb-ea83-419b-b861-c8062c54a173"
      },
      "source": [
        "f1_score(y_test_5, y_pred_5, labels=[0, 1, 2], average='macro')"
      ],
      "execution_count": null,
      "outputs": [
        {
          "output_type": "execute_result",
          "data": {
            "text/plain": [
              "0.31963142817059914"
            ]
          },
          "metadata": {
            "tags": []
          },
          "execution_count": 51
        }
      ]
    },
    {
      "cell_type": "code",
      "metadata": {
        "colab": {
          "base_uri": "https://localhost:8080/"
        },
        "id": "V0AeckThwB0o",
        "outputId": "cb38b2ef-a879-4024-8e04-ac48ba3e8f70"
      },
      "source": [
        "f1_score(y_test_5, y_pred_5, labels=[0, 1, 2], average='weighted')"
      ],
      "execution_count": null,
      "outputs": [
        {
          "output_type": "execute_result",
          "data": {
            "text/plain": [
              "0.48960939990664304"
            ]
          },
          "metadata": {
            "tags": []
          },
          "execution_count": 52
        }
      ]
    },
    {
      "cell_type": "code",
      "metadata": {
        "id": "XKB6ITGIJwqU"
      },
      "source": [
        "torch.save(model_cnn_5.state_dict(), '/content/drive/MyDrive/GADF_CNN_5.pth')"
      ],
      "execution_count": null,
      "outputs": []
    },
    {
      "cell_type": "code",
      "metadata": {
        "id": "J_LTJiAuKrH-"
      },
      "source": [
        ""
      ],
      "execution_count": null,
      "outputs": []
    },
    {
      "cell_type": "markdown",
      "metadata": {
        "id": "Q9c9F9fmOurH"
      },
      "source": [
        "### Закодируем с помощью GADF все 5 признаков"
      ]
    },
    {
      "cell_type": "code",
      "metadata": {
        "id": "yQR5UIoSO4gV"
      },
      "source": [
        ""
      ],
      "execution_count": null,
      "outputs": []
    },
    {
      "cell_type": "code",
      "metadata": {
        "id": "UxJzVyqncInM"
      },
      "source": [
        "train_dataset = torch.utils.data.TensorDataset(X_train_undersampled.float(), y_train_undersampled)\n",
        "val_dataset = torch.utils.data.TensorDataset(X_val.float(), y_val)\n",
        "test_dataset = torch.utils.data.TensorDataset(X_test.float())\n",
        "\n",
        "test_loader = torch.utils.data.DataLoader(dataset=test_dataset, \n",
        "                                           batch_size=256, \n",
        "                                           shuffle=False)"
      ],
      "execution_count": null,
      "outputs": []
    },
    {
      "cell_type": "code",
      "metadata": {
        "id": "wW8G-bfPcInM"
      },
      "source": [
        "DEVICE = torch.device(\"cuda\")\n",
        "use_gpu = True"
      ],
      "execution_count": null,
      "outputs": []
    },
    {
      "cell_type": "code",
      "metadata": {
        "id": "1GBsSk4IcInM"
      },
      "source": [
        "import torch.nn.functional as F  # Functional\n",
        "class ModelCnn5ch(nn.Module):\n",
        "  \n",
        "    def __init__(self, n_classes):\n",
        "        \n",
        "        super().__init__()\n",
        "        \n",
        "        self.conv1 = nn.Sequential(\n",
        "            nn.Conv2d(in_channels=5, out_channels=64, kernel_size=4, stride=2),\n",
        "            nn.ReLU(),\n",
        "            #nn.MaxPool2d(kernel_size=2, stride=1)\n",
        "        )\n",
        "        self.conv2 = nn.Sequential(\n",
        "            nn.Conv2d(in_channels=64, out_channels=128, kernel_size=3, stride=2),\n",
        "            nn.BatchNorm2d(128),\n",
        "            nn.ReLU(),\n",
        "            #nn.MaxPool2d(kernel_size=3, stride=1)\n",
        "        )\n",
        "        self.conv3 = nn.Sequential(\n",
        "            nn.Conv2d(in_channels=128, out_channels=256, kernel_size=3, stride=1),\n",
        "            nn.BatchNorm2d(256),\n",
        "            nn.ReLU(),\n",
        "        )\n",
        "        \n",
        "        self.fc1 = nn.Sequential(\n",
        "            nn.Linear(2 * 2 * 256, 1024),\n",
        "            nn.BatchNorm1d(1024),\n",
        "            nn.ReLU(),\n",
        "        )\n",
        "        self.fc2 = nn.Sequential(\n",
        "            nn.Linear(1024, 1024),\n",
        "            nn.BatchNorm1d(1024),\n",
        "            nn.ReLU()\n",
        "        )\n",
        "        \n",
        "        self.fc3 = nn.Sequential(\n",
        "            nn.Linear(1024, 1024),\n",
        "            nn.BatchNorm1d(1024),\n",
        "            nn.ReLU()\n",
        "        )\n",
        "        \n",
        "        self.fc4 = nn.Sequential(\n",
        "            nn.Linear(1024, n_classes)\n",
        "        )  \n",
        "\n",
        "  \n",
        "    def forward(self, x):\n",
        "        \n",
        "        x = self.conv1(x)\n",
        "        x = self.conv2(x)\n",
        "        x = self.conv3(x)\n",
        "        #x = self.conv4(x)\n",
        "        #x = self.conv5(x)\n",
        "        \n",
        "\n",
        "        #x = F.interpolate(x, size=(2, 2), mode='bilinear')  # resize to the size expected by the linear unit\n",
        "        x = x.view(x.size(0), 2 * 2 * 256)\n",
        "    \n",
        "        x = self.fc1(x)\n",
        "        x = self.fc2(x)\n",
        "        x = self.fc3(x)\n",
        "        \n",
        "        x = self.fc4(x)\n",
        "        \n",
        "        return x"
      ],
      "execution_count": null,
      "outputs": []
    },
    {
      "cell_type": "code",
      "metadata": {
        "id": "aeyMgyjKcInM"
      },
      "source": [
        "def fit_epoch(model, train_loader, criterion, optimizer):\n",
        "    running_loss = 0.0\n",
        "    running_corrects = 0\n",
        "    processed_data = 0\n",
        "    gadf = GramianAngularField(image_size=20, method='difference')\n",
        "    \n",
        "    for inputs, labels in train_loader:\n",
        "        inputs = np.stack((gadf.fit_transform(inputs[:, :, 0]), gadf.fit_transform(inputs[:, :, 1]), gadf.fit_transform(inputs[:, :, 2]), gadf.fit_transform(inputs[:, :, 3]), gadf.fit_transform(inputs[:, :, 4])), axis=1)\n",
        "        inputs = torch.tensor(inputs).float().to(DEVICE)\n",
        "        labels = labels.to(DEVICE)\n",
        "        optimizer.zero_grad()\n",
        "\n",
        "        outputs = model(inputs)\n",
        "        loss = criterion(outputs, labels)\n",
        "        loss.backward()\n",
        "        optimizer.step()\n",
        "        preds = torch.argmax(outputs, 1)\n",
        "        running_loss += loss.item() * inputs.size(0)\n",
        "        running_corrects += torch.sum(preds == labels.data)\n",
        "        processed_data += inputs.size(0)\n",
        "              \n",
        "    train_loss = running_loss / processed_data\n",
        "    train_acc = running_corrects.cpu().numpy() / processed_data\n",
        "    return train_loss, train_acc"
      ],
      "execution_count": null,
      "outputs": []
    },
    {
      "cell_type": "code",
      "metadata": {
        "id": "uPo-96xBcInM"
      },
      "source": [
        "def eval_epoch(model, val_loader, criterion):\n",
        "    model.eval()\n",
        "    running_loss = 0.0\n",
        "    running_corrects = 0\n",
        "    processed_size = 0\n",
        "    gadf = GramianAngularField(image_size=20, method='difference')\n",
        "    \n",
        "    for inputs, labels in val_loader:\n",
        "        inputs = np.stack((gadf.fit_transform(inputs[:, :, 0]), gadf.fit_transform(inputs[:, :, 1]), gadf.fit_transform(inputs[:, :, 2]), gadf.fit_transform(inputs[:, :, 3]), gadf.fit_transform(inputs[:, :, 4])), axis=1)\n",
        "        inputs = torch.tensor(inputs).float().to(DEVICE)\n",
        "        labels = labels.to(DEVICE)\n",
        "\n",
        "        with torch.set_grad_enabled(False):\n",
        "            outputs = model(inputs)\n",
        "            loss = criterion(outputs, labels)\n",
        "            preds = torch.argmax(outputs, 1)\n",
        "\n",
        "        running_loss += loss.item() * inputs.size(0)\n",
        "        running_corrects += torch.sum(preds == labels.data)\n",
        "        processed_size += inputs.size(0)\n",
        "    val_loss = running_loss / processed_size\n",
        "    val_acc = running_corrects.double() / processed_size\n",
        "    return val_loss, val_acc"
      ],
      "execution_count": null,
      "outputs": []
    },
    {
      "cell_type": "code",
      "metadata": {
        "id": "vJsArcXqcInM"
      },
      "source": [
        "def train(train_files, val_files, model, epochs, batch_size):\n",
        "    train_loader = DataLoader(dataset=train_files, \n",
        "                                           batch_size=batch_size, \n",
        "                                           shuffle=False)\n",
        "    val_loader = DataLoader(dataset=val_files, \n",
        "                                           batch_size=batch_size, \n",
        "                                           shuffle=False)\n",
        "    \n",
        "\n",
        "    #dataset_sizes = {'train': len(new_train_dataset), 'val':len(val_dataset) }\n",
        "\n",
        "    history = []\n",
        "    log_template = \"\\nEpoch {ep:03d} train_loss: {t_loss:0.4f} \\\n",
        "    val_loss {v_loss:0.4f} train_acc {t_acc:0.4f} val_acc {v_acc:0.4f}\"\n",
        "\n",
        "    with tqdm(desc=\"epoch\", total=epochs) as pbar_outer:\n",
        "        opt = torch.optim.AdamW(model.parameters(), lr=0.001)\n",
        "        scheduler = torch.optim.lr_scheduler.ReduceLROnPlateau(opt)\n",
        "        criterion = nn.CrossEntropyLoss()\n",
        "\n",
        "        for epoch in range(epochs):\n",
        "            train_loss, train_acc = fit_epoch(model, train_loader, criterion, opt)\n",
        "            print(\"loss\", train_loss)\n",
        "            \n",
        "            val_loss, val_acc = eval_epoch(model, val_loader, criterion)\n",
        "            history.append((train_loss, train_acc, val_loss, val_acc))\n",
        "            \n",
        "            pbar_outer.update(1)\n",
        "            tqdm.write(log_template.format(ep=epoch+1, t_loss=train_loss,\\\n",
        "                                           v_loss=val_loss, t_acc=train_acc, v_acc=val_acc))\n",
        "            scheduler.step(val_loss)\n",
        "            \n",
        "    return history"
      ],
      "execution_count": null,
      "outputs": []
    },
    {
      "cell_type": "code",
      "metadata": {
        "id": "RKVuEOa3cInM"
      },
      "source": [
        "def predict(model, test_loader):\n",
        "    with torch.no_grad():\n",
        "        logits = []\n",
        "        gadf = GramianAngularField(image_size=20, method='difference')\n",
        "\n",
        "        for inputs in test_loader:\n",
        "          inputs = inputs[0]\n",
        "          #print(inputs.shape)\n",
        "          inputs = np.stack((gadf.fit_transform(inputs[:, :, 0]), gadf.fit_transform(inputs[:, :, 1]), gadf.fit_transform(inputs[:, :, 2]), gadf.fit_transform(inputs[:, :, 3]), gadf.fit_transform(inputs[:, :, 4])), axis=1)\n",
        "          inputs = torch.tensor(inputs).float().to(DEVICE)\n",
        "          model.eval()\n",
        "          outputs = model(inputs).cpu()\n",
        "          logits.append(outputs)\n",
        "          \n",
        "            \n",
        "    probs = nn.functional.softmax(torch.cat(logits), dim=-1).numpy()\n",
        "    return probs"
      ],
      "execution_count": null,
      "outputs": []
    },
    {
      "cell_type": "code",
      "metadata": {
        "id": "6CniKPVxcInM"
      },
      "source": [
        "model_cnn_all = ModelCnn5ch(3).to(DEVICE)"
      ],
      "execution_count": null,
      "outputs": []
    },
    {
      "cell_type": "code",
      "metadata": {
        "colab": {
          "base_uri": "https://localhost:8080/"
        },
        "id": "AcLZAp0ncInM",
        "outputId": "9cdea30b-3f72-429c-80a8-7eb16a203de1"
      },
      "source": [
        "history = train(train_dataset, val_dataset, model=model_cnn_all, epochs=30, batch_size=256)"
      ],
      "execution_count": null,
      "outputs": [
        {
          "output_type": "stream",
          "text": [
            "\repoch:   0%|          | 0/30 [00:00<?, ?it/s]"
          ],
          "name": "stderr"
        },
        {
          "output_type": "stream",
          "text": [
            "loss 1.1006574333446029\n"
          ],
          "name": "stdout"
        },
        {
          "output_type": "stream",
          "text": [
            "epoch:   3%|▎         | 1/30 [00:48<23:14, 48.09s/it]"
          ],
          "name": "stderr"
        },
        {
          "output_type": "stream",
          "text": [
            "\n",
            "Epoch 001 train_loss: 1.1007     val_loss 1.1390 train_acc 0.3939 val_acc 0.3607\n",
            "loss 1.089781828521199\n"
          ],
          "name": "stdout"
        },
        {
          "output_type": "stream",
          "text": [
            "epoch:   7%|▋         | 2/30 [01:35<22:19, 47.83s/it]"
          ],
          "name": "stderr"
        },
        {
          "output_type": "stream",
          "text": [
            "\n",
            "Epoch 002 train_loss: 1.0898     val_loss 1.1011 train_acc 0.3979 val_acc 0.4197\n",
            "loss 1.0873455066377218\n"
          ],
          "name": "stdout"
        },
        {
          "output_type": "stream",
          "text": [
            "epoch:  10%|█         | 3/30 [02:22<21:25, 47.62s/it]"
          ],
          "name": "stderr"
        },
        {
          "output_type": "stream",
          "text": [
            "\n",
            "Epoch 003 train_loss: 1.0873     val_loss 1.0963 train_acc 0.4028 val_acc 0.4453\n",
            "loss 1.0840122810682307\n"
          ],
          "name": "stdout"
        },
        {
          "output_type": "stream",
          "text": [
            "epoch:  13%|█▎        | 4/30 [03:09<20:32, 47.39s/it]"
          ],
          "name": "stderr"
        },
        {
          "output_type": "stream",
          "text": [
            "\n",
            "Epoch 004 train_loss: 1.0840     val_loss 1.0869 train_acc 0.4095 val_acc 0.4127\n",
            "loss 1.081340116086951\n"
          ],
          "name": "stdout"
        },
        {
          "output_type": "stream",
          "text": [
            "epoch:  17%|█▋        | 5/30 [03:55<19:34, 46.96s/it]"
          ],
          "name": "stderr"
        },
        {
          "output_type": "stream",
          "text": [
            "\n",
            "Epoch 005 train_loss: 1.0813     val_loss 1.0582 train_acc 0.4151 val_acc 0.5007\n",
            "loss 1.0787539293178805\n"
          ],
          "name": "stdout"
        },
        {
          "output_type": "stream",
          "text": [
            "epoch:  20%|██        | 6/30 [04:40<18:38, 46.59s/it]"
          ],
          "name": "stderr"
        },
        {
          "output_type": "stream",
          "text": [
            "\n",
            "Epoch 006 train_loss: 1.0788     val_loss 1.0883 train_acc 0.4197 val_acc 0.4097\n",
            "loss 1.0761457656151585\n"
          ],
          "name": "stdout"
        },
        {
          "output_type": "stream",
          "text": [
            "epoch:  23%|██▎       | 7/30 [05:26<17:46, 46.39s/it]"
          ],
          "name": "stderr"
        },
        {
          "output_type": "stream",
          "text": [
            "\n",
            "Epoch 007 train_loss: 1.0761     val_loss 1.0798 train_acc 0.4242 val_acc 0.4271\n",
            "loss 1.0720702736042425\n"
          ],
          "name": "stdout"
        },
        {
          "output_type": "stream",
          "text": [
            "epoch:  27%|██▋       | 8/30 [06:13<17:04, 46.56s/it]"
          ],
          "name": "stderr"
        },
        {
          "output_type": "stream",
          "text": [
            "\n",
            "Epoch 008 train_loss: 1.0721     val_loss 1.0752 train_acc 0.4305 val_acc 0.4265\n",
            "loss 1.0658029095491488\n"
          ],
          "name": "stdout"
        },
        {
          "output_type": "stream",
          "text": [
            "epoch:  30%|███       | 9/30 [07:01<16:25, 46.92s/it]"
          ],
          "name": "stderr"
        },
        {
          "output_type": "stream",
          "text": [
            "\n",
            "Epoch 009 train_loss: 1.0658     val_loss 1.0764 train_acc 0.4401 val_acc 0.4130\n",
            "loss 1.05687632083388\n"
          ],
          "name": "stdout"
        },
        {
          "output_type": "stream",
          "text": [
            "epoch:  33%|███▎      | 10/30 [07:48<15:37, 46.88s/it]"
          ],
          "name": "stderr"
        },
        {
          "output_type": "stream",
          "text": [
            "\n",
            "Epoch 010 train_loss: 1.0569     val_loss 1.0762 train_acc 0.4511 val_acc 0.4179\n",
            "loss 1.04286994711091\n"
          ],
          "name": "stdout"
        },
        {
          "output_type": "stream",
          "text": [
            "epoch:  37%|███▋      | 11/30 [08:34<14:44, 46.53s/it]"
          ],
          "name": "stderr"
        },
        {
          "output_type": "stream",
          "text": [
            "\n",
            "Epoch 011 train_loss: 1.0429     val_loss 1.0997 train_acc 0.4667 val_acc 0.3898\n",
            "loss 1.023420339766818\n"
          ],
          "name": "stdout"
        },
        {
          "output_type": "stream",
          "text": [
            "epoch:  40%|████      | 12/30 [09:19<13:49, 46.07s/it]"
          ],
          "name": "stderr"
        },
        {
          "output_type": "stream",
          "text": [
            "\n",
            "Epoch 012 train_loss: 1.0234     val_loss 1.1036 train_acc 0.4842 val_acc 0.3982\n",
            "loss 0.9979410028776412\n"
          ],
          "name": "stdout"
        },
        {
          "output_type": "stream",
          "text": [
            "epoch:  43%|████▎     | 13/30 [10:04<12:59, 45.83s/it]"
          ],
          "name": "stderr"
        },
        {
          "output_type": "stream",
          "text": [
            "\n",
            "Epoch 013 train_loss: 0.9979     val_loss 1.1191 train_acc 0.5040 val_acc 0.3962\n",
            "loss 0.9682574828247332\n"
          ],
          "name": "stdout"
        },
        {
          "output_type": "stream",
          "text": [
            "epoch:  47%|████▋     | 14/30 [10:49<12:07, 45.47s/it]"
          ],
          "name": "stderr"
        },
        {
          "output_type": "stream",
          "text": [
            "\n",
            "Epoch 014 train_loss: 0.9683     val_loss 1.1182 train_acc 0.5249 val_acc 0.4122\n",
            "loss 0.9347155573650429\n"
          ],
          "name": "stdout"
        },
        {
          "output_type": "stream",
          "text": [
            "epoch:  50%|█████     | 15/30 [11:33<11:17, 45.16s/it]"
          ],
          "name": "stderr"
        },
        {
          "output_type": "stream",
          "text": [
            "\n",
            "Epoch 015 train_loss: 0.9347     val_loss 1.1636 train_acc 0.5472 val_acc 0.3875\n",
            "loss 0.8995918415118904\n"
          ],
          "name": "stdout"
        },
        {
          "output_type": "stream",
          "text": [
            "epoch:  53%|█████▎    | 16/30 [12:17<10:28, 44.92s/it]"
          ],
          "name": "stderr"
        },
        {
          "output_type": "stream",
          "text": [
            "\n",
            "Epoch 016 train_loss: 0.8996     val_loss 1.2196 train_acc 0.5689 val_acc 0.3813\n",
            "loss 1.0067481902717694\n"
          ],
          "name": "stdout"
        },
        {
          "output_type": "stream",
          "text": [
            "epoch:  57%|█████▋    | 17/30 [13:02<09:41, 44.74s/it]"
          ],
          "name": "stderr"
        },
        {
          "output_type": "stream",
          "text": [
            "\n",
            "Epoch 017 train_loss: 1.0067     val_loss 1.0569 train_acc 0.4949 val_acc 0.4882\n",
            "loss 0.9614859303262081\n"
          ],
          "name": "stdout"
        },
        {
          "output_type": "stream",
          "text": [
            "epoch:  60%|██████    | 18/30 [13:45<08:53, 44.47s/it]"
          ],
          "name": "stderr"
        },
        {
          "output_type": "stream",
          "text": [
            "\n",
            "Epoch 018 train_loss: 0.9615     val_loss 1.0781 train_acc 0.5292 val_acc 0.4846\n",
            "loss 0.9241430117862337\n"
          ],
          "name": "stdout"
        },
        {
          "output_type": "stream",
          "text": [
            "epoch:  63%|██████▎   | 19/30 [14:29<08:06, 44.22s/it]"
          ],
          "name": "stderr"
        },
        {
          "output_type": "stream",
          "text": [
            "\n",
            "Epoch 019 train_loss: 0.9241     val_loss 1.1053 train_acc 0.5564 val_acc 0.4844\n",
            "loss 0.8877632766850794\n"
          ],
          "name": "stdout"
        },
        {
          "output_type": "stream",
          "text": [
            "epoch:  67%|██████▋   | 20/30 [15:13<07:20, 44.09s/it]"
          ],
          "name": "stderr"
        },
        {
          "output_type": "stream",
          "text": [
            "\n",
            "Epoch 020 train_loss: 0.8878     val_loss 1.1385 train_acc 0.5813 val_acc 0.4858\n",
            "loss 0.8508222634197818\n"
          ],
          "name": "stdout"
        },
        {
          "output_type": "stream",
          "text": [
            "epoch:  70%|███████   | 21/30 [15:57<06:36, 44.08s/it]"
          ],
          "name": "stderr"
        },
        {
          "output_type": "stream",
          "text": [
            "\n",
            "Epoch 021 train_loss: 0.8508     val_loss 1.1787 train_acc 0.6057 val_acc 0.4881\n",
            "loss 0.8128841097387655\n"
          ],
          "name": "stdout"
        },
        {
          "output_type": "stream",
          "text": [
            "epoch:  73%|███████▎  | 22/30 [16:41<05:51, 43.97s/it]"
          ],
          "name": "stderr"
        },
        {
          "output_type": "stream",
          "text": [
            "\n",
            "Epoch 022 train_loss: 0.8129     val_loss 1.2236 train_acc 0.6289 val_acc 0.4900\n",
            "loss 0.7736806014531773\n"
          ],
          "name": "stdout"
        },
        {
          "output_type": "stream",
          "text": [
            "epoch:  77%|███████▋  | 23/30 [17:24<05:06, 43.81s/it]"
          ],
          "name": "stderr"
        },
        {
          "output_type": "stream",
          "text": [
            "\n",
            "Epoch 023 train_loss: 0.7737     val_loss 1.2779 train_acc 0.6519 val_acc 0.4936\n",
            "loss 0.7330529968492541\n"
          ],
          "name": "stdout"
        },
        {
          "output_type": "stream",
          "text": [
            "epoch:  80%|████████  | 24/30 [18:08<04:22, 43.78s/it]"
          ],
          "name": "stderr"
        },
        {
          "output_type": "stream",
          "text": [
            "\n",
            "Epoch 024 train_loss: 0.7331     val_loss 1.3434 train_acc 0.6747 val_acc 0.4984\n",
            "loss 0.6909480550224462\n"
          ],
          "name": "stdout"
        },
        {
          "output_type": "stream",
          "text": [
            "epoch:  83%|████████▎ | 25/30 [18:51<03:38, 43.70s/it]"
          ],
          "name": "stderr"
        },
        {
          "output_type": "stream",
          "text": [
            "\n",
            "Epoch 025 train_loss: 0.6909     val_loss 1.4310 train_acc 0.6975 val_acc 0.5021\n",
            "loss 0.647573595313187\n"
          ],
          "name": "stdout"
        },
        {
          "output_type": "stream",
          "text": [
            "epoch:  87%|████████▋ | 26/30 [19:35<02:54, 43.65s/it]"
          ],
          "name": "stderr"
        },
        {
          "output_type": "stream",
          "text": [
            "\n",
            "Epoch 026 train_loss: 0.6476     val_loss 1.5402 train_acc 0.7196 val_acc 0.5048\n",
            "loss 0.6033834107565061\n"
          ],
          "name": "stdout"
        },
        {
          "output_type": "stream",
          "text": [
            "epoch:  90%|█████████ | 27/30 [20:18<02:10, 43.62s/it]"
          ],
          "name": "stderr"
        },
        {
          "output_type": "stream",
          "text": [
            "\n",
            "Epoch 027 train_loss: 0.6034     val_loss 1.6790 train_acc 0.7416 val_acc 0.5083\n",
            "loss 0.5585328949984046\n"
          ],
          "name": "stdout"
        },
        {
          "output_type": "stream",
          "text": [
            "epoch:  93%|█████████▎| 28/30 [21:02<01:27, 43.70s/it]"
          ],
          "name": "stderr"
        },
        {
          "output_type": "stream",
          "text": [
            "\n",
            "Epoch 028 train_loss: 0.5585     val_loss 1.8510 train_acc 0.7633 val_acc 0.5096\n",
            "loss 0.9393299305098214\n"
          ],
          "name": "stdout"
        },
        {
          "output_type": "stream",
          "text": [
            "epoch:  97%|█████████▋| 29/30 [21:46<00:43, 43.70s/it]"
          ],
          "name": "stderr"
        },
        {
          "output_type": "stream",
          "text": [
            "\n",
            "Epoch 029 train_loss: 0.9393     val_loss 0.9982 train_acc 0.5991 val_acc 0.5804\n",
            "loss 0.8378498995439502\n"
          ],
          "name": "stdout"
        },
        {
          "output_type": "stream",
          "text": [
            "epoch: 100%|██████████| 30/30 [22:29<00:00, 44.99s/it]"
          ],
          "name": "stderr"
        },
        {
          "output_type": "stream",
          "text": [
            "\n",
            "Epoch 030 train_loss: 0.8378     val_loss 0.9688 train_acc 0.6221 val_acc 0.5858\n"
          ],
          "name": "stdout"
        },
        {
          "output_type": "stream",
          "text": [
            "\n"
          ],
          "name": "stderr"
        }
      ]
    },
    {
      "cell_type": "code",
      "metadata": {
        "id": "FaC1GDf_2ojK"
      },
      "source": [
        ""
      ],
      "execution_count": null,
      "outputs": []
    },
    {
      "cell_type": "code",
      "metadata": {
        "id": "ry6Y3BdnwZSO"
      },
      "source": [
        "loss, acc, val_loss, val_acc = zip(*history)"
      ],
      "execution_count": null,
      "outputs": []
    },
    {
      "cell_type": "code",
      "metadata": {
        "colab": {
          "base_uri": "https://localhost:8080/",
          "height": 551
        },
        "id": "TW2JO2kHwZSO",
        "outputId": "ea677be6-e27e-44f9-f37a-6be455ee7fd9"
      },
      "source": [
        "plt.figure(figsize=(15, 9))\n",
        "plt.plot(acc, label=\"train_acc\")\n",
        "plt.plot(val_acc, label=\"val_acc\")\n",
        "plt.legend(loc='best')\n",
        "plt.xlabel(\"epochs\")\n",
        "plt.ylabel(\"acc\")\n",
        "plt.show()"
      ],
      "execution_count": null,
      "outputs": [
        {
          "output_type": "display_data",
          "data": {
            "image/png": "[encoded data removed]",
            "text/plain": [
              "<Figure size 1080x648 with 1 Axes>"
            ]
          },
          "metadata": {
            "tags": [],
            "needs_background": "light"
          }
        }
      ]
    },
    {
      "cell_type": "code",
      "metadata": {
        "id": "AGzSWgz-qO1a"
      },
      "source": [
        "torch.save(model_cnn_all.state_dict(), '/content/drive/MyDrive/GADF5_CNN.pth')"
      ],
      "execution_count": null,
      "outputs": []
    },
    {
      "cell_type": "code",
      "metadata": {
        "colab": {
          "base_uri": "https://localhost:8080/"
        },
        "id": "u7y8QoTEqO1b",
        "outputId": "0427aeb0-2e57-4d01-9327-4c2e6875a9cb"
      },
      "source": [
        "model_cnn_all.load_state_dict(torch.load('/content/drive/MyDrive/GADF5_CNN.pth'))"
      ],
      "execution_count": null,
      "outputs": [
        {
          "output_type": "execute_result",
          "data": {
            "text/plain": [
              "<All keys matched successfully>"
            ]
          },
          "metadata": {
            "tags": []
          },
          "execution_count": 33
        }
      ]
    },
    {
      "cell_type": "code",
      "metadata": {
        "id": "n-XGGmeOnSWw"
      },
      "source": [
        "y_pred_all = np.argmax(predict(model_cnn_all, test_loader), axis=1)"
      ],
      "execution_count": null,
      "outputs": []
    },
    {
      "cell_type": "code",
      "metadata": {
        "colab": {
          "base_uri": "https://localhost:8080/"
        },
        "id": "2seM0ZK6_yGv",
        "outputId": "f68407c2-9149-45ed-d95e-22c83f64790f"
      },
      "source": [
        "accuracy_score(y_pred_all, y_test)"
      ],
      "execution_count": null,
      "outputs": [
        {
          "output_type": "execute_result",
          "data": {
            "text/plain": [
              "0.42805094761544416"
            ]
          },
          "metadata": {
            "tags": []
          },
          "execution_count": 36
        }
      ]
    },
    {
      "cell_type": "code",
      "metadata": {
        "colab": {
          "base_uri": "https://localhost:8080/"
        },
        "id": "hKI6sR3NwKhJ",
        "outputId": "374e1983-a584-4b9b-b949-e708523cd94b"
      },
      "source": [
        "f1_score(y_test, y_pred_all, labels=[0, 1, 2], average=None)"
      ],
      "execution_count": null,
      "outputs": [
        {
          "output_type": "execute_result",
          "data": {
            "text/plain": [
              "array([0.55642367, 0.2599527 , 0.29387608])"
            ]
          },
          "metadata": {
            "tags": []
          },
          "execution_count": 38
        }
      ]
    },
    {
      "cell_type": "code",
      "metadata": {
        "colab": {
          "base_uri": "https://localhost:8080/"
        },
        "id": "WpcNi1uowKhJ",
        "outputId": "10407a08-d428-4641-9cb5-aaf4161cb2af"
      },
      "source": [
        "f1_score(y_test, y_pred_all, labels=[0, 1, 2], average='macro')"
      ],
      "execution_count": null,
      "outputs": [
        {
          "output_type": "execute_result",
          "data": {
            "text/plain": [
              "0.3700841490350613"
            ]
          },
          "metadata": {
            "tags": []
          },
          "execution_count": 39
        }
      ]
    },
    {
      "cell_type": "code",
      "metadata": {
        "colab": {
          "base_uri": "https://localhost:8080/"
        },
        "id": "LZoYO5g3wKhJ",
        "outputId": "f4ca3b28-5fc7-4711-cdfd-5e5b51b7d0b8"
      },
      "source": [
        "f1_score(y_test, y_pred_all, labels=[0, 1, 2], average='weighted')"
      ],
      "execution_count": null,
      "outputs": [
        {
          "output_type": "execute_result",
          "data": {
            "text/plain": [
              "0.4501327801910671"
            ]
          },
          "metadata": {
            "tags": []
          },
          "execution_count": 40
        }
      ]
    },
    {
      "cell_type": "code",
      "metadata": {
        "colab": {
          "base_uri": "https://localhost:8080/",
          "height": 364
        },
        "id": "5XjVwy9cnSWw",
        "outputId": "ff12b1ef-14c5-4a50-ea09-99e9ea87a833"
      },
      "source": [
        "cnf_matrix = confusion_matrix(y_test, y_pred_all, labels=[0, 1, 2])\n",
        "np.set_printoptions(precision=2)\n",
        "\n",
        "# Plot non-normalized confusion matrix\n",
        "plt.figure()\n",
        "plot_confusion_matrix(cnf_matrix, normalize=False, classes=['Fair', 'Rise', 'Fall'],\n",
        "                      title='Confusion matrix, without normalization')"
      ],
      "execution_count": null,
      "outputs": [
        {
          "output_type": "stream",
          "text": [
            "Confusion matrix, without normalization\n",
            "[[70505 32780 42662]\n",
            " [19565 13079 13431]\n",
            " [17405  8692 17103]]\n"
          ],
          "name": "stdout"
        },
        {
          "output_type": "display_data",
          "data": {
            "image/png": "[encoded data removed]",
            "text/plain": [
              "<Figure size 432x288 with 2 Axes>"
            ]
          },
          "metadata": {
            "tags": [],
            "needs_background": "light"
          }
        }
      ]
    },
    {
      "cell_type": "code",
      "metadata": {
        "colab": {
          "base_uri": "https://localhost:8080/"
        },
        "id": "jU0qSEyksiTE",
        "outputId": "8d9e017b-e207-48b7-8d96-ff47beef6ebe"
      },
      "source": [
        "history = train(train_dataset, val_dataset, model=model_cnn_all, epochs=20, batch_size=256)"
      ],
      "execution_count": null,
      "outputs": [
        {
          "output_type": "stream",
          "text": [
            "\repoch:   0%|          | 0/20 [00:00<?, ?it/s]"
          ],
          "name": "stderr"
        },
        {
          "output_type": "stream",
          "text": [
            "loss 0.8276726766271638\n"
          ],
          "name": "stdout"
        },
        {
          "output_type": "stream",
          "text": [
            "epoch:   5%|▌         | 1/20 [00:47<15:01, 47.44s/it]"
          ],
          "name": "stderr"
        },
        {
          "output_type": "stream",
          "text": [
            "\n",
            "Epoch 001 train_loss: 0.8277     val_loss 1.1382 train_acc 0.6144 val_acc 0.4567\n",
            "loss 0.8129499782054317\n"
          ],
          "name": "stdout"
        },
        {
          "output_type": "stream",
          "text": [
            "epoch:  10%|█         | 2/20 [01:33<14:07, 47.06s/it]"
          ],
          "name": "stderr"
        },
        {
          "output_type": "stream",
          "text": [
            "\n",
            "Epoch 002 train_loss: 0.8129     val_loss 1.1650 train_acc 0.6231 val_acc 0.4667\n",
            "loss 0.771272998328905\n"
          ],
          "name": "stdout"
        },
        {
          "output_type": "stream",
          "text": [
            "epoch:  15%|█▌        | 3/20 [02:18<13:10, 46.50s/it]"
          ],
          "name": "stderr"
        },
        {
          "output_type": "stream",
          "text": [
            "\n",
            "Epoch 003 train_loss: 0.7713     val_loss 1.1884 train_acc 0.6466 val_acc 0.4718\n",
            "loss 0.7266528823741528\n"
          ],
          "name": "stdout"
        },
        {
          "output_type": "stream",
          "text": [
            "epoch:  20%|██        | 4/20 [03:06<12:28, 46.76s/it]"
          ],
          "name": "stderr"
        },
        {
          "output_type": "stream",
          "text": [
            "\n",
            "Epoch 004 train_loss: 0.7267     val_loss 1.1900 train_acc 0.6718 val_acc 0.4780\n",
            "loss 0.6855672981206078\n"
          ],
          "name": "stdout"
        },
        {
          "output_type": "stream",
          "text": [
            "epoch:  25%|██▌       | 5/20 [03:54<11:49, 47.28s/it]"
          ],
          "name": "stderr"
        },
        {
          "output_type": "stream",
          "text": [
            "\n",
            "Epoch 005 train_loss: 0.6856     val_loss 1.2261 train_acc 0.6934 val_acc 0.4793\n",
            "loss 0.6475493287943503\n"
          ],
          "name": "stdout"
        },
        {
          "output_type": "stream",
          "text": [
            "epoch:  30%|███       | 6/20 [04:42<11:04, 47.48s/it]"
          ],
          "name": "stderr"
        },
        {
          "output_type": "stream",
          "text": [
            "\n",
            "Epoch 006 train_loss: 0.6475     val_loss 1.2921 train_acc 0.7131 val_acc 0.4852\n",
            "loss 0.6137207136367717\n"
          ],
          "name": "stdout"
        },
        {
          "output_type": "stream",
          "text": [
            "epoch:  35%|███▌      | 7/20 [05:29<10:16, 47.41s/it]"
          ],
          "name": "stderr"
        },
        {
          "output_type": "stream",
          "text": [
            "\n",
            "Epoch 007 train_loss: 0.6137     val_loss 1.3351 train_acc 0.7304 val_acc 0.4909\n",
            "loss 0.586009529077751\n"
          ],
          "name": "stdout"
        },
        {
          "output_type": "stream",
          "text": [
            "epoch:  40%|████      | 8/20 [06:16<09:25, 47.10s/it]"
          ],
          "name": "stderr"
        },
        {
          "output_type": "stream",
          "text": [
            "\n",
            "Epoch 008 train_loss: 0.5860     val_loss 1.3330 train_acc 0.7443 val_acc 0.4939\n",
            "loss 0.5606343143841839\n"
          ],
          "name": "stdout"
        },
        {
          "output_type": "stream",
          "text": [
            "epoch:  45%|████▌     | 9/20 [07:02<08:33, 46.71s/it]"
          ],
          "name": "stderr"
        },
        {
          "output_type": "stream",
          "text": [
            "\n",
            "Epoch 009 train_loss: 0.5606     val_loss 1.3749 train_acc 0.7569 val_acc 0.4972\n",
            "loss 0.5359497027829204\n"
          ],
          "name": "stdout"
        },
        {
          "output_type": "stream",
          "text": [
            "epoch:  50%|█████     | 10/20 [07:47<07:43, 46.38s/it]"
          ],
          "name": "stderr"
        },
        {
          "output_type": "stream",
          "text": [
            "\n",
            "Epoch 010 train_loss: 0.5359     val_loss 1.4008 train_acc 0.7694 val_acc 0.5020\n",
            "loss 0.5142741898479039\n"
          ],
          "name": "stdout"
        },
        {
          "output_type": "stream",
          "text": [
            "epoch:  55%|█████▌    | 11/20 [08:33<06:57, 46.36s/it]"
          ],
          "name": "stderr"
        },
        {
          "output_type": "stream",
          "text": [
            "\n",
            "Epoch 011 train_loss: 0.5143     val_loss 1.3938 train_acc 0.7803 val_acc 0.5110\n",
            "loss 0.4967329338633671\n"
          ],
          "name": "stdout"
        },
        {
          "output_type": "stream",
          "text": [
            "epoch:  60%|██████    | 12/20 [09:20<06:11, 46.41s/it]"
          ],
          "name": "stderr"
        },
        {
          "output_type": "stream",
          "text": [
            "\n",
            "Epoch 012 train_loss: 0.4967     val_loss 1.4284 train_acc 0.7886 val_acc 0.5066\n",
            "loss 0.6601207096792717\n"
          ],
          "name": "stdout"
        },
        {
          "output_type": "stream",
          "text": [
            "epoch:  65%|██████▌   | 13/20 [10:07<05:25, 46.48s/it]"
          ],
          "name": "stderr"
        },
        {
          "output_type": "stream",
          "text": [
            "\n",
            "Epoch 013 train_loss: 0.6601     val_loss 1.0974 train_acc 0.7166 val_acc 0.5380\n",
            "loss 0.5455523913502887\n"
          ],
          "name": "stdout"
        },
        {
          "output_type": "stream",
          "text": [
            "epoch:  70%|███████   | 14/20 [10:52<04:36, 46.15s/it]"
          ],
          "name": "stderr"
        },
        {
          "output_type": "stream",
          "text": [
            "\n",
            "Epoch 014 train_loss: 0.5456     val_loss 1.1886 train_acc 0.7732 val_acc 0.5410\n",
            "loss 0.4588964881177814\n"
          ],
          "name": "stdout"
        },
        {
          "output_type": "stream",
          "text": [
            "epoch:  75%|███████▌  | 15/20 [11:37<03:49, 45.80s/it]"
          ],
          "name": "stderr"
        },
        {
          "output_type": "stream",
          "text": [
            "\n",
            "Epoch 015 train_loss: 0.4589     val_loss 1.3150 train_acc 0.8155 val_acc 0.5443\n",
            "loss 0.3860470897343532\n"
          ],
          "name": "stdout"
        },
        {
          "output_type": "stream",
          "text": [
            "epoch:  80%|████████  | 16/20 [12:22<03:02, 45.63s/it]"
          ],
          "name": "stderr"
        },
        {
          "output_type": "stream",
          "text": [
            "\n",
            "Epoch 016 train_loss: 0.3860     val_loss 1.4945 train_acc 0.8503 val_acc 0.5460\n",
            "loss 0.32267782175691795\n"
          ],
          "name": "stdout"
        },
        {
          "output_type": "stream",
          "text": [
            "epoch:  85%|████████▌ | 17/20 [13:07<02:16, 45.44s/it]"
          ],
          "name": "stderr"
        },
        {
          "output_type": "stream",
          "text": [
            "\n",
            "Epoch 017 train_loss: 0.3227     val_loss 1.7344 train_acc 0.8794 val_acc 0.5499\n",
            "loss 0.2676527197769152\n"
          ],
          "name": "stdout"
        },
        {
          "output_type": "stream",
          "text": [
            "epoch:  90%|█████████ | 18/20 [13:52<01:30, 45.38s/it]"
          ],
          "name": "stderr"
        },
        {
          "output_type": "stream",
          "text": [
            "\n",
            "Epoch 018 train_loss: 0.2677     val_loss 2.0412 train_acc 0.9029 val_acc 0.5524\n",
            "loss 0.2202285217337563\n"
          ],
          "name": "stdout"
        },
        {
          "output_type": "stream",
          "text": [
            "epoch:  95%|█████████▌| 19/20 [14:37<00:45, 45.26s/it]"
          ],
          "name": "stderr"
        },
        {
          "output_type": "stream",
          "text": [
            "\n",
            "Epoch 019 train_loss: 0.2202     val_loss 2.4202 train_acc 0.9214 val_acc 0.5574\n",
            "loss 0.18112094282603114\n"
          ],
          "name": "stdout"
        },
        {
          "output_type": "stream",
          "text": [
            "epoch: 100%|██████████| 20/20 [15:23<00:00, 46.17s/it]"
          ],
          "name": "stderr"
        },
        {
          "output_type": "stream",
          "text": [
            "\n",
            "Epoch 020 train_loss: 0.1811     val_loss 2.8644 train_acc 0.9356 val_acc 0.5619\n"
          ],
          "name": "stdout"
        },
        {
          "output_type": "stream",
          "text": [
            "\n"
          ],
          "name": "stderr"
        }
      ]
    },
    {
      "cell_type": "code",
      "metadata": {
        "id": "E3RCgWVTwamz"
      },
      "source": [
        "loss, acc, val_loss, val_acc = zip(*history)"
      ],
      "execution_count": null,
      "outputs": []
    },
    {
      "cell_type": "code",
      "metadata": {
        "colab": {
          "base_uri": "https://localhost:8080/",
          "height": 551
        },
        "id": "m03Wx4sOwam1",
        "outputId": "186c2e72-2550-457e-94ef-90a89aa07c5b"
      },
      "source": [
        "plt.figure(figsize=(15, 9))\n",
        "plt.plot(acc, label=\"train_acc\")\n",
        "plt.plot(val_acc, label=\"val_acc\")\n",
        "plt.legend(loc='best')\n",
        "plt.xlabel(\"epochs\")\n",
        "plt.ylabel(\"acc\")\n",
        "plt.show()"
      ],
      "execution_count": null,
      "outputs": [
        {
          "output_type": "display_data",
          "data": {
            "image/png": "[encoded data removed]",
            "text/plain": [
              "<Figure size 1080x648 with 1 Axes>"
            ]
          },
          "metadata": {
            "tags": [],
            "needs_background": "light"
          }
        }
      ]
    },
    {
      "cell_type": "code",
      "metadata": {
        "id": "mjrE4Ehz7A30"
      },
      "source": [
        "y_pred_all = np.argmax(predict(model_cnn_all, test_loader), axis=1)"
      ],
      "execution_count": null,
      "outputs": []
    },
    {
      "cell_type": "code",
      "metadata": {
        "colab": {
          "base_uri": "https://localhost:8080/",
          "height": 364
        },
        "id": "xHR-Gu7h7A30",
        "outputId": "7460793c-e1c6-4549-a334-b455d372b289"
      },
      "source": [
        "cnf_matrix = confusion_matrix(y_test, y_pred_all, labels=[0, 1, 2])\n",
        "np.set_printoptions(precision=2)\n",
        "\n",
        "# Plot non-normalized confusion matrix\n",
        "plt.figure()\n",
        "plot_confusion_matrix(cnf_matrix, normalize=False, classes=['Fair', 'Rise', 'Fall'],\n",
        "                      title='Confusion matrix, without normalization')"
      ],
      "execution_count": null,
      "outputs": [
        {
          "output_type": "stream",
          "text": [
            "Confusion matrix, without normalization\n",
            "[[60163 41932 43852]\n",
            " [16202 16264 13609]\n",
            " [14226 11465 17509]]\n"
          ],
          "name": "stdout"
        },
        {
          "output_type": "display_data",
          "data": {
            "image/png": "[encoded data removed]",
            "text/plain": [
              "<Figure size 432x288 with 2 Axes>"
            ]
          },
          "metadata": {
            "tags": [],
            "needs_background": "light"
          }
        }
      ]
    },
    {
      "cell_type": "code",
      "metadata": {
        "colab": {
          "base_uri": "https://localhost:8080/"
        },
        "id": "6t4-t7Sh5Rha",
        "outputId": "2e594c1b-0f76-4470-e72b-465055a7e90a"
      },
      "source": [
        "accuracy_score(y_pred_all, y_test)"
      ],
      "execution_count": null,
      "outputs": [
        {
          "output_type": "execute_result",
          "data": {
            "text/plain": [
              "0.3993504008978752"
            ]
          },
          "metadata": {
            "tags": []
          },
          "execution_count": 47
        }
      ]
    },
    {
      "cell_type": "code",
      "metadata": {
        "colab": {
          "base_uri": "https://localhost:8080/"
        },
        "id": "2VcEXpDSwML1",
        "outputId": "0018e097-dfa6-473f-d7eb-485e876efb2b"
      },
      "source": [
        "f1_score(y_test, y_pred_all, labels=[0, 1, 2], average=None)"
      ],
      "execution_count": null,
      "outputs": [
        {
          "output_type": "execute_result",
          "data": {
            "text/plain": [
              "array([0.51, 0.28, 0.3 ])"
            ]
          },
          "metadata": {
            "tags": []
          },
          "execution_count": 49
        }
      ]
    },
    {
      "cell_type": "code",
      "metadata": {
        "colab": {
          "base_uri": "https://localhost:8080/"
        },
        "id": "KT2yNVyBwML1",
        "outputId": "57bfa114-a0f6-45a9-c496-3ad5632ec8af"
      },
      "source": [
        "f1_score(y_test, y_pred_all, labels=[0, 1, 2], average='macro')"
      ],
      "execution_count": null,
      "outputs": [
        {
          "output_type": "execute_result",
          "data": {
            "text/plain": [
              "0.3620284988348054"
            ]
          },
          "metadata": {
            "tags": []
          },
          "execution_count": 50
        }
      ]
    },
    {
      "cell_type": "code",
      "metadata": {
        "colab": {
          "base_uri": "https://localhost:8080/"
        },
        "id": "jq5Z7znzwML2",
        "outputId": "0d2bf2e7-5b04-4bc7-c1b4-8415dace7ba3"
      },
      "source": [
        "f1_score(y_test, y_pred_all, labels=[0, 1, 2], average='weighted')"
      ],
      "execution_count": null,
      "outputs": [
        {
          "output_type": "execute_result",
          "data": {
            "text/plain": [
              "0.42510453296127215"
            ]
          },
          "metadata": {
            "tags": []
          },
          "execution_count": 51
        }
      ]
    },
    {
      "cell_type": "code",
      "metadata": {
        "id": "9U39TplT8SST"
      },
      "source": [
        "torch.save(model_cnn_all.state_dict(), '/content/drive/MyDrive/GADF5_50_CNN.pth')"
      ],
      "execution_count": null,
      "outputs": []
    },
    {
      "cell_type": "code",
      "metadata": {
        "colab": {
          "base_uri": "https://localhost:8080/"
        },
        "id": "AK_sWfbl8SSU",
        "outputId": "767511a6-79ff-45e3-b444-64d896071ef9"
      },
      "source": [
        "model_cnn_all.load_state_dict(torch.load('/content/drive/MyDrive/GADF5_50_CNN.pth'))"
      ],
      "execution_count": null,
      "outputs": [
        {
          "output_type": "execute_result",
          "data": {
            "text/plain": [
              "<All keys matched successfully>"
            ]
          },
          "metadata": {
            "tags": []
          },
          "execution_count": 36
        }
      ]
    },
    {
      "cell_type": "code",
      "metadata": {
        "id": "kr876lAUkOke"
      },
      "source": [
        ""
      ],
      "execution_count": null,
      "outputs": []
    },
    {
      "cell_type": "code",
      "metadata": {
        "id": "UPlxWViCf38v"
      },
      "source": [
        ""
      ],
      "execution_count": null,
      "outputs": []
    }
  ]
}